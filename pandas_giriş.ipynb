{
  "nbformat": 4,
  "nbformat_minor": 0,
  "metadata": {
    "colab": {
      "provenance": []
    },
    "kernelspec": {
      "name": "python3",
      "display_name": "Python 3"
    },
    "language_info": {
      "name": "python"
    }
  },
  "cells": [
    {
      "cell_type": "code",
      "execution_count": 1,
      "metadata": {
        "colab": {
          "base_uri": "https://localhost:8080/"
        },
        "id": "L3cUd01EmAd1",
        "outputId": "7b0099d0-ffe2-48a6-cc40-39faf0822176"
      },
      "outputs": [
        {
          "output_type": "stream",
          "name": "stdout",
          "text": [
            "0    10\n",
            "1    20\n",
            "2    30\n",
            "3    40\n",
            "4    50\n",
            "dtype: int64\n"
          ]
        }
      ],
      "source": [
        "import pandas as pd\n",
        "\n",
        "\n",
        "veri_listesi = [10, 20, 30, 40, 50]\n",
        "seri1 = pd.Series(veri_listesi)\n",
        "\n",
        "print(seri1)"
      ]
    },
    {
      "cell_type": "code",
      "source": [
        "import pandas as pd\n",
        "import numpy as np\n",
        "\n",
        "veri_numpy = np.array([1.1, 2.2, 3.3, 4.4])\n",
        "seri2 = pd.Series(veri_numpy)\n",
        "\n",
        "\n",
        "print(seri2)"
      ],
      "metadata": {
        "colab": {
          "base_uri": "https://localhost:8080/"
        },
        "id": "jxpZLakCmGve",
        "outputId": "8e84b1c5-6dd0-44d8-940f-076ca9d3c52f"
      },
      "execution_count": 2,
      "outputs": [
        {
          "output_type": "stream",
          "name": "stdout",
          "text": [
            "0    1.1\n",
            "1    2.2\n",
            "2    3.3\n",
            "3    4.4\n",
            "dtype: float64\n"
          ]
        }
      ]
    },
    {
      "cell_type": "code",
      "source": [
        "import pandas as pd\n",
        "\n",
        "veri_sozlugu = {'a': 100, 'b': 200, 'c': 300, 'd': 400}\n",
        "seri3 = pd.Series(veri_sozlugu)\n",
        "\n",
        "print(seri3)"
      ],
      "metadata": {
        "colab": {
          "base_uri": "https://localhost:8080/"
        },
        "id": "MV60dd1NmSgK",
        "outputId": "2407f7d5-b839-43d1-dd63-1eb29b0fb485"
      },
      "execution_count": 3,
      "outputs": [
        {
          "output_type": "stream",
          "name": "stdout",
          "text": [
            "a    100\n",
            "b    200\n",
            "c    300\n",
            "d    400\n",
            "dtype: int64\n"
          ]
        }
      ]
    },
    {
      "cell_type": "code",
      "source": [
        "import pandas as pd\n",
        "\n",
        "seri4 = pd.Series(5, index=[0, 1, 2, 3, 4])\n",
        "\n",
        "print(seri4)\n"
      ],
      "metadata": {
        "colab": {
          "base_uri": "https://localhost:8080/"
        },
        "id": "sM5ZOXaimZBl",
        "outputId": "b00a97ea-2517-4912-c0f7-c54b454af46d"
      },
      "execution_count": 4,
      "outputs": [
        {
          "output_type": "stream",
          "name": "stdout",
          "text": [
            "0    5\n",
            "1    5\n",
            "2    5\n",
            "3    5\n",
            "4    5\n",
            "dtype: int64\n"
          ]
        }
      ]
    },
    {
      "cell_type": "code",
      "source": [
        "import pandas as pd\n",
        "\n",
        "data = [10, 20, 30, 40]\n",
        "series = pd.Series(data)\n",
        "\n",
        "print(series.index)\n",
        "\n",
        "print(\"**********\")\n",
        "series.index = ['a', 'b', 'c', 'd']\n",
        "print(series)"
      ],
      "metadata": {
        "colab": {
          "base_uri": "https://localhost:8080/"
        },
        "id": "VOSejM6gmhA0",
        "outputId": "40e1e2fa-8570-40b9-eaad-438d3acf6935"
      },
      "execution_count": 5,
      "outputs": [
        {
          "output_type": "stream",
          "name": "stdout",
          "text": [
            "RangeIndex(start=0, stop=4, step=1)\n",
            "**********\n",
            "a    10\n",
            "b    20\n",
            "c    30\n",
            "d    40\n",
            "dtype: int64\n"
          ]
        }
      ]
    },
    {
      "cell_type": "code",
      "source": [
        "import pandas as pd\n",
        "\n",
        "data = [10, 20, 30, 40]\n",
        "series = pd.Series(data)\n",
        "values = series.values\n",
        "\n",
        "print(values)\n"
      ],
      "metadata": {
        "colab": {
          "base_uri": "https://localhost:8080/"
        },
        "id": "xlOf5nd0mrmr",
        "outputId": "9609150d-92f9-46da-9f78-bb66c5537b30"
      },
      "execution_count": 7,
      "outputs": [
        {
          "output_type": "stream",
          "name": "stdout",
          "text": [
            "[10 20 30 40]\n"
          ]
        }
      ]
    },
    {
      "cell_type": "code",
      "source": [
        "import pandas as pd\n",
        "\n",
        "data = [10, 20, 30, 40]\n",
        "series = pd.Series(data)\n",
        "\n",
        "print(series.dtype)"
      ],
      "metadata": {
        "colab": {
          "base_uri": "https://localhost:8080/"
        },
        "id": "aehKjMZ5my2K",
        "outputId": "4ff00a29-ba1b-4cd5-a531-9e3539835530"
      },
      "execution_count": 8,
      "outputs": [
        {
          "output_type": "stream",
          "name": "stdout",
          "text": [
            "int64\n"
          ]
        }
      ]
    },
    {
      "cell_type": "code",
      "source": [
        "import pandas as pd\n",
        "\n",
        "data = [10, 20, 30, 40]\n",
        "series = pd.Series(data)\n",
        "\n",
        "series.name = \"Sayısal Değerler\"\n",
        "print(\"\\nSeries ismi:\")\n",
        "print(series.name)"
      ],
      "metadata": {
        "colab": {
          "base_uri": "https://localhost:8080/"
        },
        "id": "1boTzF7im9NW",
        "outputId": "794236e9-0449-4fb3-869b-46bb8b568108"
      },
      "execution_count": 9,
      "outputs": [
        {
          "output_type": "stream",
          "name": "stdout",
          "text": [
            "\n",
            "Series ismi:\n",
            "Sayısal Değerler\n"
          ]
        }
      ]
    },
    {
      "cell_type": "code",
      "source": [
        "import pandas as pd\n",
        "\n",
        "data = [10, 20, 30, 40]\n",
        "series = pd.Series(data)\n",
        "\n",
        "print(\"\\nEleman sayısı:\")\n",
        "print(series.size)"
      ],
      "metadata": {
        "colab": {
          "base_uri": "https://localhost:8080/"
        },
        "id": "X31bPZNNnHR1",
        "outputId": "e5e86ac0-c937-4fa9-f1ee-e6d1be08d05c"
      },
      "execution_count": 10,
      "outputs": [
        {
          "output_type": "stream",
          "name": "stdout",
          "text": [
            "\n",
            "Eleman sayısı:\n",
            "4\n"
          ]
        }
      ]
    },
    {
      "cell_type": "code",
      "source": [
        "import pandas as pd\n",
        "\n",
        "data = [10, 20, 30, 40]\n",
        "series = pd.Series(data)\n",
        "\n",
        "print(\"\\nBoyut bilgisi:\")\n",
        "print(series.shape)"
      ],
      "metadata": {
        "colab": {
          "base_uri": "https://localhost:8080/"
        },
        "id": "VTS0WgoFnN1g",
        "outputId": "7cde0374-95cf-48a5-94d9-755344270111"
      },
      "execution_count": 11,
      "outputs": [
        {
          "output_type": "stream",
          "name": "stdout",
          "text": [
            "\n",
            "Boyut bilgisi:\n",
            "(4,)\n"
          ]
        }
      ]
    },
    {
      "cell_type": "code",
      "source": [
        "import pandas as pd\n",
        "\n",
        "data = [10, 20, 30, 40]\n",
        "series = pd.Series(data)\n",
        "\n",
        "print(\"\\nVerilerin benzersiz olup olmadığı:\")\n",
        "print(series.is_unique)"
      ],
      "metadata": {
        "colab": {
          "base_uri": "https://localhost:8080/"
        },
        "id": "xjtZRuncnTS4",
        "outputId": "0df1c5c9-86ec-4e5f-d8df-21f78feb6929"
      },
      "execution_count": 12,
      "outputs": [
        {
          "output_type": "stream",
          "name": "stdout",
          "text": [
            "\n",
            "Verilerin benzersiz olup olmadığı:\n",
            "True\n"
          ]
        }
      ]
    },
    {
      "cell_type": "code",
      "source": [
        "import pandas as pd\n",
        "\n",
        "data = [10, 20, 30, 40]\n",
        "series = pd.Series(data)\n",
        "\n",
        "print(\"\\nEksik değer var mı:\")\n",
        "print(series.hasnans)"
      ],
      "metadata": {
        "colab": {
          "base_uri": "https://localhost:8080/"
        },
        "id": "OfOaxXYenY7u",
        "outputId": "f2fe9b88-f69b-4081-ed1a-575eac345b7e"
      },
      "execution_count": 13,
      "outputs": [
        {
          "output_type": "stream",
          "name": "stdout",
          "text": [
            "\n",
            "Eksik değer var mı:\n",
            "False\n"
          ]
        }
      ]
    },
    {
      "cell_type": "code",
      "source": [
        "import pandas as pd\n",
        "\n",
        "data = [10, 20, 30, 40, 50]\n",
        "index_labels = ['a', 'b', 'c', 'd', 'e']\n",
        "series = pd.Series(data, index=index_labels)\n",
        "\n",
        "print(\"Series:\")\n",
        "print(series)\n",
        "\n",
        "print(\"----\" * 10)\n",
        "\n",
        "sifirinci_index_eleman_0 = series[0]\n",
        "print(\"\\n0. İndeksteki Değer:\")\n",
        "print(sifirinci_index_eleman_0)\n",
        "\n",
        "print(\"----\" * 10)"
      ],
      "metadata": {
        "colab": {
          "base_uri": "https://localhost:8080/"
        },
        "id": "8FdwKF6hneR3",
        "outputId": "4bee83c0-96b6-420a-c806-7c504658341d"
      },
      "execution_count": 14,
      "outputs": [
        {
          "output_type": "stream",
          "name": "stdout",
          "text": [
            "Series:\n",
            "a    10\n",
            "b    20\n",
            "c    30\n",
            "d    40\n",
            "e    50\n",
            "dtype: int64\n",
            "----------------------------------------\n",
            "\n",
            "0. İndeksteki Değer:\n",
            "10\n",
            "----------------------------------------\n"
          ]
        },
        {
          "output_type": "stream",
          "name": "stderr",
          "text": [
            "<ipython-input-14-ff2e45a9d60a>:12: FutureWarning: Series.__getitem__ treating keys as positions is deprecated. In a future version, integer keys will always be treated as labels (consistent with DataFrame behavior). To access a value by position, use `ser.iloc[pos]`\n",
            "  sifirinci_index_eleman_0 = series[0]\n"
          ]
        }
      ]
    },
    {
      "cell_type": "code",
      "source": [
        "ikinci_index_eleman_2 = series[2]\n",
        "print(\"\\n2. İndeksteki Değer:\")\n",
        "print(ikinci_index_eleman_2)"
      ],
      "metadata": {
        "colab": {
          "base_uri": "https://localhost:8080/"
        },
        "id": "kv6iX4cknmXJ",
        "outputId": "1ad0a774-ded7-418f-c6a1-ed0c9ba8ce47"
      },
      "execution_count": 15,
      "outputs": [
        {
          "output_type": "stream",
          "name": "stdout",
          "text": [
            "\n",
            "2. İndeksteki Değer:\n",
            "30\n"
          ]
        },
        {
          "output_type": "stream",
          "name": "stderr",
          "text": [
            "<ipython-input-15-c97884aa4bf5>:1: FutureWarning: Series.__getitem__ treating keys as positions is deprecated. In a future version, integer keys will always be treated as labels (consistent with DataFrame behavior). To access a value by position, use `ser.iloc[pos]`\n",
            "  ikinci_index_eleman_2 = series[2]\n"
          ]
        }
      ]
    },
    {
      "cell_type": "code",
      "source": [
        "value_with_label_c = series['c']\n",
        "\n",
        "print(value_with_label_c)"
      ],
      "metadata": {
        "colab": {
          "base_uri": "https://localhost:8080/"
        },
        "id": "DQkSUVjRnpwV",
        "outputId": "76324c16-2d18-460d-d636-017795cbd2e0"
      },
      "execution_count": 16,
      "outputs": [
        {
          "output_type": "stream",
          "name": "stdout",
          "text": [
            "30\n"
          ]
        }
      ]
    },
    {
      "cell_type": "code",
      "source": [
        "values_multiple_labels = series[['a', 'c', 'e']]\n",
        "print(\"\\n'a', 'c' ve 'e' Etiketlerine Sahip Değerler:\")\n",
        "print(values_multiple_labels)"
      ],
      "metadata": {
        "colab": {
          "base_uri": "https://localhost:8080/"
        },
        "id": "XfQZzaqtns5t",
        "outputId": "d1090ab0-3457-4c91-8f50-b8d1acdd271e"
      },
      "execution_count": 17,
      "outputs": [
        {
          "output_type": "stream",
          "name": "stdout",
          "text": [
            "\n",
            "'a', 'c' ve 'e' Etiketlerine Sahip Değerler:\n",
            "a    10\n",
            "c    30\n",
            "e    50\n",
            "dtype: int64\n"
          ]
        }
      ]
    },
    {
      "cell_type": "code",
      "source": [
        "import pandas as pd\n",
        "\n",
        "data = [10, 20, 30, 40, 50, 60, 70, 80]\n",
        "series = pd.Series(data)\n",
        "\n",
        "sum_of_series = series.sum()\n",
        "print(\"Toplam: \", sum_of_series)\n",
        "\n",
        "print(\"---\"*20)"
      ],
      "metadata": {
        "colab": {
          "base_uri": "https://localhost:8080/"
        },
        "id": "Qv--uDL6nvs_",
        "outputId": "e04702ed-dd00-4480-a087-0fc5e6c815d5"
      },
      "execution_count": 18,
      "outputs": [
        {
          "output_type": "stream",
          "name": "stdout",
          "text": [
            "Toplam:  360\n",
            "------------------------------------------------------------\n"
          ]
        }
      ]
    },
    {
      "cell_type": "code",
      "source": [
        "mean_of_series = series.mean()\n",
        "print(\"Ortalama: \", mean_of_series)"
      ],
      "metadata": {
        "colab": {
          "base_uri": "https://localhost:8080/"
        },
        "id": "XW_xNLzsn04i",
        "outputId": "b5632fd4-1e1c-4aa3-dfb4-805431e55bb6"
      },
      "execution_count": 19,
      "outputs": [
        {
          "output_type": "stream",
          "name": "stdout",
          "text": [
            "Ortalama:  45.0\n"
          ]
        }
      ]
    },
    {
      "cell_type": "code",
      "source": [
        "max_of_series = series.max()\n",
        "print(\"Maksimum Değer: \", max_of_series)\n",
        "\n",
        "print(\"---\"*20)"
      ],
      "metadata": {
        "colab": {
          "base_uri": "https://localhost:8080/"
        },
        "id": "T1KUSK_Xn35-",
        "outputId": "242883d3-7c2b-422c-f356-f5650a9add8d"
      },
      "execution_count": 20,
      "outputs": [
        {
          "output_type": "stream",
          "name": "stdout",
          "text": [
            "Maksimum Değer:  80\n",
            "------------------------------------------------------------\n"
          ]
        }
      ]
    },
    {
      "cell_type": "code",
      "source": [
        "min_of_series = series.min()\n",
        "print(\"Minimum Değer: \", min_of_series)"
      ],
      "metadata": {
        "colab": {
          "base_uri": "https://localhost:8080/"
        },
        "id": "wInc1lrsn6gp",
        "outputId": "232b5b22-f53d-4994-bf57-3171406661e7"
      },
      "execution_count": 21,
      "outputs": [
        {
          "output_type": "stream",
          "name": "stdout",
          "text": [
            "Minimum Değer:  10\n"
          ]
        }
      ]
    },
    {
      "cell_type": "code",
      "source": [
        "std_of_series = series.std()\n",
        "print(\"Standart Sapma: \", std_of_series)"
      ],
      "metadata": {
        "colab": {
          "base_uri": "https://localhost:8080/"
        },
        "id": "9HOQwynon9XK",
        "outputId": "1dcf09c6-24a8-4ac3-cacf-02f761190a90"
      },
      "execution_count": 22,
      "outputs": [
        {
          "output_type": "stream",
          "name": "stdout",
          "text": [
            "Standart Sapma:  24.49489742783178\n"
          ]
        }
      ]
    },
    {
      "cell_type": "code",
      "source": [
        "median_of_series = series.median()\n",
        "print(\"Medyan: \", median_of_series)"
      ],
      "metadata": {
        "colab": {
          "base_uri": "https://localhost:8080/"
        },
        "id": "SMoUUS4Tn_6T",
        "outputId": "64c8ced5-5594-48f2-9983-c2ebba351415"
      },
      "execution_count": 23,
      "outputs": [
        {
          "output_type": "stream",
          "name": "stdout",
          "text": [
            "Medyan:  45.0\n"
          ]
        }
      ]
    },
    {
      "cell_type": "code",
      "source": [
        "cumsum_of_series = series.cumsum()\n",
        "print(\"Kümülatif Toplam: \")\n",
        "print(cumsum_of_series)"
      ],
      "metadata": {
        "colab": {
          "base_uri": "https://localhost:8080/"
        },
        "id": "HcaERod9oC-x",
        "outputId": "f2d01b18-ab14-4405-9e5f-7608975a4782"
      },
      "execution_count": 24,
      "outputs": [
        {
          "output_type": "stream",
          "name": "stdout",
          "text": [
            "Kümülatif Toplam: \n",
            "0     10\n",
            "1     30\n",
            "2     60\n",
            "3    100\n",
            "4    150\n",
            "5    210\n",
            "6    280\n",
            "7    360\n",
            "dtype: int64\n"
          ]
        }
      ]
    },
    {
      "cell_type": "code",
      "source": [
        "cumprod_of_series = series.cumprod()\n",
        "print(\"Kümülatif Çarpım: \")\n",
        "print(cumprod_of_series)"
      ],
      "metadata": {
        "colab": {
          "base_uri": "https://localhost:8080/"
        },
        "id": "ADn1jC28oF0B",
        "outputId": "c36ff7b9-fcc8-4c8a-ce14-d4fbbda869ac"
      },
      "execution_count": 25,
      "outputs": [
        {
          "output_type": "stream",
          "name": "stdout",
          "text": [
            "Kümülatif Çarpım: \n",
            "0               10\n",
            "1              200\n",
            "2             6000\n",
            "3           240000\n",
            "4         12000000\n",
            "5        720000000\n",
            "6      50400000000\n",
            "7    4032000000000\n",
            "dtype: int64\n"
          ]
        }
      ]
    },
    {
      "cell_type": "code",
      "source": [
        "var_of_series = series.var()\n",
        "print(\"Varyans: \", var_of_series)\n",
        "\n",
        "print(\"---\"*20)"
      ],
      "metadata": {
        "colab": {
          "base_uri": "https://localhost:8080/"
        },
        "id": "UcmXk-GuoIi_",
        "outputId": "39b3a874-488f-4c13-f332-03b4be4f74b3"
      },
      "execution_count": 26,
      "outputs": [
        {
          "output_type": "stream",
          "name": "stdout",
          "text": [
            "Varyans:  600.0\n",
            "------------------------------------------------------------\n"
          ]
        }
      ]
    },
    {
      "cell_type": "code",
      "source": [
        "count_of_series = series.count()\n",
        "print(\"Eleman Sayısı: \", count_of_series)\n",
        "\n",
        "print(\"---\"*20)"
      ],
      "metadata": {
        "colab": {
          "base_uri": "https://localhost:8080/"
        },
        "id": "iRzaQTzaoLYh",
        "outputId": "ee79f172-c52f-4d7c-a2d5-bc6c1b963528"
      },
      "execution_count": 27,
      "outputs": [
        {
          "output_type": "stream",
          "name": "stdout",
          "text": [
            "Eleman Sayısı:  8\n",
            "------------------------------------------------------------\n"
          ]
        }
      ]
    },
    {
      "cell_type": "code",
      "source": [
        "import pandas as pd\n",
        "\n",
        "data_with_nan = [10, None, 30, None, 50, None]\n",
        "series_with_nan = pd.Series(data_with_nan)\n",
        "\n",
        "print(\"Eksik Değerler (True olanlar eksik):\")\n",
        "print(series_with_nan.isnull())\n",
        "\n",
        "print(\"----\"*10)\n",
        "\n",
        "num_missing_values = series_with_nan.isnull().sum()\n",
        "print(\"\\nEksik Değer Sayısı: \", num_missing_values)\n",
        "\n",
        "print(\"----\"*10)\n",
        "\n",
        "filled_series = series_with_nan.fillna(0)\n",
        "\n",
        "print(\"\\nEksik Değerler 0 ile Doldurulduktan Sonra:\")\n",
        "print(filled_series)"
      ],
      "metadata": {
        "colab": {
          "base_uri": "https://localhost:8080/"
        },
        "id": "YIp7rWYSoOID",
        "outputId": "9fd4447a-76c8-48c1-d039-a906d19b9e2f"
      },
      "execution_count": 28,
      "outputs": [
        {
          "output_type": "stream",
          "name": "stdout",
          "text": [
            "Eksik Değerler (True olanlar eksik):\n",
            "0    False\n",
            "1     True\n",
            "2    False\n",
            "3     True\n",
            "4    False\n",
            "5     True\n",
            "dtype: bool\n",
            "----------------------------------------\n",
            "\n",
            "Eksik Değer Sayısı:  3\n",
            "----------------------------------------\n",
            "\n",
            "Eksik Değerler 0 ile Doldurulduktan Sonra:\n",
            "0    10.0\n",
            "1     0.0\n",
            "2    30.0\n",
            "3     0.0\n",
            "4    50.0\n",
            "5     0.0\n",
            "dtype: float64\n"
          ]
        }
      ]
    },
    {
      "cell_type": "code",
      "source": [
        "import pandas as pd\n",
        "\n",
        "data_with_nan = [10, None, 150, None, 50, None]\n",
        "series_with_nan = pd.Series(data_with_nan)\n",
        "\n",
        "print(\"Eksik Değerler (True olanlar eksik):\")\n",
        "print(series_with_nan.isnull())\n",
        "\n",
        "print(\"----\"*10)\n",
        "\n",
        "num_missing_values = series_with_nan.isnull().sum()\n",
        "print(\"\\nEksik Değer Sayısı: \", num_missing_values)\n",
        "\n",
        "print(\"----\"*10)\n",
        "\n",
        "mean_value = series_with_nan.mean()\n",
        "print(\"Ortalama Değer:\", mean_value)\n",
        "\n",
        "filled_with_mean_series = series_with_nan.fillna(mean_value)\n",
        "\n",
        "print(\"\\nEksik Değerler Ortalama ile Doldurulduktan Sonra:\")\n",
        "print(filled_with_mean_series)\n"
      ],
      "metadata": {
        "colab": {
          "base_uri": "https://localhost:8080/"
        },
        "id": "0lWhsgLioaKM",
        "outputId": "4f96c728-9e4b-42c3-a82c-ab59605456fd"
      },
      "execution_count": 29,
      "outputs": [
        {
          "output_type": "stream",
          "name": "stdout",
          "text": [
            "Eksik Değerler (True olanlar eksik):\n",
            "0    False\n",
            "1     True\n",
            "2    False\n",
            "3     True\n",
            "4    False\n",
            "5     True\n",
            "dtype: bool\n",
            "----------------------------------------\n",
            "\n",
            "Eksik Değer Sayısı:  3\n",
            "----------------------------------------\n",
            "Ortalama Değer: 70.0\n",
            "\n",
            "Eksik Değerler Ortalama ile Doldurulduktan Sonra:\n",
            "0     10.0\n",
            "1     70.0\n",
            "2    150.0\n",
            "3     70.0\n",
            "4     50.0\n",
            "5     70.0\n",
            "dtype: float64\n"
          ]
        }
      ]
    },
    {
      "cell_type": "code",
      "source": [
        "import pandas as pd\n",
        "\n",
        "data_with_nan = [10, None, 150, None, 50, None, 200, None, None, 500]\n",
        "series_with_nan = pd.Series(data_with_nan)\n",
        "\n",
        "print(\"Eksik Değerler (True olanlar eksik):\")\n",
        "print(series_with_nan.isnull())\n",
        "\n",
        "print(\"----\"*10)\n",
        "\n",
        "num_missing_values = series_with_nan.isnull().sum()\n",
        "print(\"\\nEksik Değer Sayısı: \", num_missing_values)\n",
        "\n",
        "print(\"----\"*10)\n",
        "\n",
        "dropped_nan_series = series_with_nan.dropna()\n",
        "print(\"\\nEksik Değerler Kaldırıldıktan Sonra:\")\n",
        "print(dropped_nan_series)"
      ],
      "metadata": {
        "colab": {
          "base_uri": "https://localhost:8080/"
        },
        "id": "a_8l1BFeoox7",
        "outputId": "389e3532-c735-4766-aedf-45fe55f96689"
      },
      "execution_count": 30,
      "outputs": [
        {
          "output_type": "stream",
          "name": "stdout",
          "text": [
            "Eksik Değerler (True olanlar eksik):\n",
            "0    False\n",
            "1     True\n",
            "2    False\n",
            "3     True\n",
            "4    False\n",
            "5     True\n",
            "6    False\n",
            "7     True\n",
            "8     True\n",
            "9    False\n",
            "dtype: bool\n",
            "----------------------------------------\n",
            "\n",
            "Eksik Değer Sayısı:  5\n",
            "----------------------------------------\n",
            "\n",
            "Eksik Değerler Kaldırıldıktan Sonra:\n",
            "0     10.0\n",
            "2    150.0\n",
            "4     50.0\n",
            "6    200.0\n",
            "9    500.0\n",
            "dtype: float64\n"
          ]
        }
      ]
    },
    {
      "cell_type": "code",
      "source": [
        "import pandas as pd\n",
        "\n",
        "data = [10, 20, 30, 40, 50]\n",
        "series = pd.Series(data, index=['a', 'b', 'c', 'd', 'e'])\n",
        "\n",
        "filtered_series = series[series > 15]\n",
        "print(\"15'ten Büyük Değerler:\")\n",
        "print(filtered_series)\n",
        "\n",
        "print(\"----\"*10)\n",
        "\n",
        "filtered_series_range = series[(series > 15) & (series < 40)]\n",
        "print(\"\\n15 ile 40 Arasındaki Değerler:\")\n",
        "print(filtered_series_range)\n",
        "\n",
        "print(\"----\"*10)\n",
        "\n",
        "selected_indices = series.loc[['b', 'd', 'e']]\n",
        "print(\"\\nBelirli İndekslere Göre Seçim (b, d, e):\")\n",
        "print(selected_indices)\n",
        "\n",
        "print(\"----\"*10)\n",
        "\n",
        "even_values_series = series[series % 2 == 0]\n",
        "print(\"\\nÇift Değerler:\")\n",
        "print(even_values_series)\n",
        "\n",
        "print(\"----\"*10)\n",
        "\n",
        "modified_series = series[series > 30] + 10\n",
        "print(\"\\n30'dan Büyük Değerleri 10 Artırarak:\")\n",
        "print(modified_series)"
      ],
      "metadata": {
        "colab": {
          "base_uri": "https://localhost:8080/"
        },
        "id": "7JnKijMJozgR",
        "outputId": "888793c3-147b-4d78-b078-e6f23c6f8f68"
      },
      "execution_count": 31,
      "outputs": [
        {
          "output_type": "stream",
          "name": "stdout",
          "text": [
            "15'ten Büyük Değerler:\n",
            "b    20\n",
            "c    30\n",
            "d    40\n",
            "e    50\n",
            "dtype: int64\n",
            "----------------------------------------\n",
            "\n",
            "15 ile 40 Arasındaki Değerler:\n",
            "b    20\n",
            "c    30\n",
            "dtype: int64\n",
            "----------------------------------------\n",
            "\n",
            "Belirli İndekslere Göre Seçim (b, d, e):\n",
            "b    20\n",
            "d    40\n",
            "e    50\n",
            "dtype: int64\n",
            "----------------------------------------\n",
            "\n",
            "Çift Değerler:\n",
            "a    10\n",
            "b    20\n",
            "c    30\n",
            "d    40\n",
            "e    50\n",
            "dtype: int64\n",
            "----------------------------------------\n",
            "\n",
            "30'dan Büyük Değerleri 10 Artırarak:\n",
            "d    50\n",
            "e    60\n",
            "dtype: int64\n"
          ]
        }
      ]
    },
    {
      "cell_type": "code",
      "source": [
        "import pandas as pd\n",
        "\n",
        "data = [10, 20, 30, 40, 50]\n",
        "series = pd.Series(data, index=['a', 'b', 'c', 'd', 'e'])\n",
        "\n",
        "doubled_series = series.apply(lambda x: x * 2)\n",
        "print(\"Her Elemanın İki Katı:\")\n",
        "print(doubled_series)\n",
        "\n",
        "print(\"----\"*10)\n",
        "\n",
        "squared_series = series.apply(lambda x: x ** 2)\n",
        "print(\"\\nHer Elemanın Karesi:\")\n",
        "print(squared_series)\n",
        "\n",
        "print(\"----\"*10)\n",
        "\n",
        "conditional_series = series.apply(lambda x: x + 100 if x > 30 else x)\n",
        "print(\"\\n30'dan Büyük Değerlere 100 Ekle:\")\n",
        "print(conditional_series)\n",
        "\n",
        "print(\"----\"*10)\n",
        "\n",
        "is_even_series = series.apply(lambda x: x % 2 == 0)\n",
        "print(\"\\nElemanlar Çift mi (True/False):\")\n",
        "print(is_even_series)\n",
        "\n",
        "print(\"----\"*10)\n",
        "\n",
        "string_series = series.apply(lambda x: f\"Değer: {x}\")\n",
        "print(\"\\nHer Bir Elemanı String Olarak Dönüştür:\")\n",
        "print(string_series)\n",
        "\n",
        "print(\"----\"*10)"
      ],
      "metadata": {
        "colab": {
          "base_uri": "https://localhost:8080/"
        },
        "id": "jdxNG9pRpDl0",
        "outputId": "1f39e326-37d3-4c4c-a171-ff0a4808ca9b"
      },
      "execution_count": 32,
      "outputs": [
        {
          "output_type": "stream",
          "name": "stdout",
          "text": [
            "Her Elemanın İki Katı:\n",
            "a     20\n",
            "b     40\n",
            "c     60\n",
            "d     80\n",
            "e    100\n",
            "dtype: int64\n",
            "----------------------------------------\n",
            "\n",
            "Her Elemanın Karesi:\n",
            "a     100\n",
            "b     400\n",
            "c     900\n",
            "d    1600\n",
            "e    2500\n",
            "dtype: int64\n",
            "----------------------------------------\n",
            "\n",
            "30'dan Büyük Değerlere 100 Ekle:\n",
            "a     10\n",
            "b     20\n",
            "c     30\n",
            "d    140\n",
            "e    150\n",
            "dtype: int64\n",
            "----------------------------------------\n",
            "\n",
            "Elemanlar Çift mi (True/False):\n",
            "a    True\n",
            "b    True\n",
            "c    True\n",
            "d    True\n",
            "e    True\n",
            "dtype: bool\n",
            "----------------------------------------\n",
            "\n",
            "Her Bir Elemanı String Olarak Dönüştür:\n",
            "a    Değer: 10\n",
            "b    Değer: 20\n",
            "c    Değer: 30\n",
            "d    Değer: 40\n",
            "e    Değer: 50\n",
            "dtype: object\n",
            "----------------------------------------\n"
          ]
        }
      ]
    },
    {
      "cell_type": "code",
      "source": [
        "import pandas as pd\n",
        "\n",
        "data = [10, 20, 30]\n",
        "series = pd.Series(data, index=['a', 'b', 'c'])\n",
        "\n",
        "new_index = ['a', 'b', 'c', 'd', 'e']\n",
        "reindexed_series = series.reindex(new_index)\n",
        "print(\"Yeni İndekslerle Düzenlenmiş Series:\")\n",
        "print(reindexed_series)\n",
        "\n",
        "print(\"----\"*10)\n",
        "\n",
        "reindexed_series_fill = series.reindex(new_index, fill_value=0)\n",
        "print(\"\\nEksik Değerleri 0 ile Doldurarak Yeniden İndeksleme:\")\n",
        "print(reindexed_series_fill)\n",
        "\n",
        "print(\"----\"*10)\n",
        "\n",
        "reindexed_series_ffill = series.reindex(new_index, method='ffill')\n",
        "print(\"\\nEksik Değerleri Bir Önceki Değerle Doldurarak Yeniden İndeksleme (Forward Fill):\")\n",
        "print(reindexed_series_ffill)\n",
        "\n",
        "print(\"----\"*10)\n",
        "\n",
        "reindexed_series_bfill = series.reindex(new_index, method='bfill')\n",
        "print(\"\\nEksik Değerleri Bir Sonraki Değerle Doldurarak Yeniden İndeksleme (Backward Fill):\")\n",
        "print(reindexed_series_bfill)\n",
        "\n",
        "print(\"----\"*10)"
      ],
      "metadata": {
        "colab": {
          "base_uri": "https://localhost:8080/"
        },
        "id": "jJBj9w9xpSLf",
        "outputId": "2ad155a8-5cbd-467b-aa50-b20a19533a44"
      },
      "execution_count": 33,
      "outputs": [
        {
          "output_type": "stream",
          "name": "stdout",
          "text": [
            "Yeni İndekslerle Düzenlenmiş Series:\n",
            "a    10.0\n",
            "b    20.0\n",
            "c    30.0\n",
            "d     NaN\n",
            "e     NaN\n",
            "dtype: float64\n",
            "----------------------------------------\n",
            "\n",
            "Eksik Değerleri 0 ile Doldurarak Yeniden İndeksleme:\n",
            "a    10\n",
            "b    20\n",
            "c    30\n",
            "d     0\n",
            "e     0\n",
            "dtype: int64\n",
            "----------------------------------------\n",
            "\n",
            "Eksik Değerleri Bir Önceki Değerle Doldurarak Yeniden İndeksleme (Forward Fill):\n",
            "a    10\n",
            "b    20\n",
            "c    30\n",
            "d    30\n",
            "e    30\n",
            "dtype: int64\n",
            "----------------------------------------\n",
            "\n",
            "Eksik Değerleri Bir Sonraki Değerle Doldurarak Yeniden İndeksleme (Backward Fill):\n",
            "a    10.0\n",
            "b    20.0\n",
            "c    30.0\n",
            "d     NaN\n",
            "e     NaN\n",
            "dtype: float64\n",
            "----------------------------------------\n"
          ]
        }
      ]
    },
    {
      "cell_type": "code",
      "source": [
        "import pandas as pd\n",
        "\n",
        "data = [10, 20, 30, 40, 50]\n",
        "series = pd.Series(data, index=['a', 'b', 'c', 'd', 'e'])\n",
        "\n",
        "sliced_series = series[1:3]\n",
        "print(\"1. ve 3. İndeksler Arasındaki Elemanlar:\")\n",
        "print(sliced_series)\n",
        "\n",
        "print(\"----\"*10)\n",
        "\n",
        "label_sliced_series = series['b':'d']\n",
        "print(\"Etiketlere Göre ('b' ile 'd' arası dahil) Dilimleme:\")\n",
        "print(label_sliced_series)\n",
        "\n",
        "print(\"----\"*10)\n",
        "\n",
        "first_three_elements = series[:3]\n",
        "print(\"İlk Üç Eleman:\")\n",
        "print(first_three_elements)\n",
        "\n",
        "print(\"----\"*10)\n",
        "\n",
        "last_two_elements = series[-2:]\n",
        "print(\"Son İki Eleman:\")\n",
        "print(last_two_elements)\n",
        "\n",
        "print(\"----\"*10)\n",
        "\n",
        "skipped_elements = series[::2]\n",
        "print(\"İki Atlayarak Seçilen Elemanlar:\")\n",
        "print(skipped_elements)\n",
        "\n",
        "print(\"----\"*10)\n",
        "\n",
        "reversed_series = series[::-1]\n",
        "print(\"Tersten Dilimleme:\")\n",
        "print(reversed_series)"
      ],
      "metadata": {
        "colab": {
          "base_uri": "https://localhost:8080/"
        },
        "id": "YR_mZiLxpfuc",
        "outputId": "51e66622-7d88-4e71-93e8-37134c4bc81a"
      },
      "execution_count": 34,
      "outputs": [
        {
          "output_type": "stream",
          "name": "stdout",
          "text": [
            "1. ve 3. İndeksler Arasındaki Elemanlar:\n",
            "b    20\n",
            "c    30\n",
            "dtype: int64\n",
            "----------------------------------------\n",
            "Etiketlere Göre ('b' ile 'd' arası dahil) Dilimleme:\n",
            "b    20\n",
            "c    30\n",
            "d    40\n",
            "dtype: int64\n",
            "----------------------------------------\n",
            "İlk Üç Eleman:\n",
            "a    10\n",
            "b    20\n",
            "c    30\n",
            "dtype: int64\n",
            "----------------------------------------\n",
            "Son İki Eleman:\n",
            "d    40\n",
            "e    50\n",
            "dtype: int64\n",
            "----------------------------------------\n",
            "İki Atlayarak Seçilen Elemanlar:\n",
            "a    10\n",
            "c    30\n",
            "e    50\n",
            "dtype: int64\n",
            "----------------------------------------\n",
            "Tersten Dilimleme:\n",
            "e    50\n",
            "d    40\n",
            "c    30\n",
            "b    20\n",
            "a    10\n",
            "dtype: int64\n"
          ]
        }
      ]
    },
    {
      "cell_type": "code",
      "source": [
        "import pandas as pd\n",
        "\n",
        "data_dict = {\n",
        "    'isim': ['Ali', 'Ayşe','Kübra'],\n",
        "    'yaş': [25, 30,20]\n",
        "}\n",
        "\n",
        "df_from_dict = pd.DataFrame(data_dict)\n",
        "\n",
        "print(\"Sözlükten Oluşturulan DataFrame:\")\n",
        "print(df_from_dict)\n"
      ],
      "metadata": {
        "colab": {
          "base_uri": "https://localhost:8080/"
        },
        "id": "bM6Lk5oZpwkb",
        "outputId": "e2992551-4f1f-44b4-9348-2df03a150f09"
      },
      "execution_count": 35,
      "outputs": [
        {
          "output_type": "stream",
          "name": "stdout",
          "text": [
            "Sözlükten Oluşturulan DataFrame:\n",
            "    isim  yaş\n",
            "0    Ali   25\n",
            "1   Ayşe   30\n",
            "2  Kübra   20\n"
          ]
        }
      ]
    },
    {
      "cell_type": "code",
      "source": [
        "import pandas as pd\n",
        "\n",
        "data_list = [\n",
        "    ['Fatih', 38],\n",
        "    ['Ali', 25],\n",
        "    ['Ayşe', 30],\n",
        "    ['Kübra', 20]\n",
        "]\n",
        "\n",
        "df_from_list = pd.DataFrame(data_list, columns=['isim', 'yaş'])\n",
        "\n",
        "print(\"\\nListeden Oluşturulan DataFrame:\")\n",
        "print(df_from_list)"
      ],
      "metadata": {
        "colab": {
          "base_uri": "https://localhost:8080/"
        },
        "id": "ZwCdMwC6p5XY",
        "outputId": "0c009132-2300-4f8e-c8f2-c960898a7420"
      },
      "execution_count": 36,
      "outputs": [
        {
          "output_type": "stream",
          "name": "stdout",
          "text": [
            "\n",
            "Listeden Oluşturulan DataFrame:\n",
            "    isim  yaş\n",
            "0  Fatih   38\n",
            "1    Ali   25\n",
            "2   Ayşe   30\n",
            "3  Kübra   20\n"
          ]
        }
      ]
    },
    {
      "cell_type": "code",
      "source": [
        "import pandas as pd\n",
        "import numpy as np\n",
        "\n",
        "data_numpy = np.array([[10, 20], [30, 40], [50, 60]])\n",
        "\n",
        "df_from_numpy = pd.DataFrame(data_numpy, columns=['Değer 1', 'Değer 2'])\n",
        "\n",
        "print(\"\\nNumPy Dizisinden Oluşturulan DataFrame:\")\n",
        "print(df_from_numpy)"
      ],
      "metadata": {
        "colab": {
          "base_uri": "https://localhost:8080/"
        },
        "id": "TT30rFdsqAWw",
        "outputId": "20e5a236-cfb9-4cf3-96e2-dd271ac6ba7d"
      },
      "execution_count": 37,
      "outputs": [
        {
          "output_type": "stream",
          "name": "stdout",
          "text": [
            "\n",
            "NumPy Dizisinden Oluşturulan DataFrame:\n",
            "   Değer 1  Değer 2\n",
            "0       10       20\n",
            "1       30       40\n",
            "2       50       60\n"
          ]
        }
      ]
    },
    {
      "cell_type": "code",
      "source": [
        "import pandas as pd\n",
        "import seaborn as sns\n",
        "\n",
        "iris = sns.load_dataset('iris')\n",
        "\n",
        "print(\"Iris veri seti DataFrame:\")\n",
        "print(iris)\n"
      ],
      "metadata": {
        "colab": {
          "base_uri": "https://localhost:8080/"
        },
        "id": "iwGsmSnlqG12",
        "outputId": "e10fbcfd-7595-467f-b67d-af19991eda15"
      },
      "execution_count": 46,
      "outputs": [
        {
          "output_type": "stream",
          "name": "stdout",
          "text": [
            "Iris veri seti DataFrame:\n",
            "     sepal_length  sepal_width  petal_length  petal_width    species\n",
            "0             5.1          3.5           1.4          0.2     setosa\n",
            "1             4.9          3.0           1.4          0.2     setosa\n",
            "2             4.7          3.2           1.3          0.2     setosa\n",
            "3             4.6          3.1           1.5          0.2     setosa\n",
            "4             5.0          3.6           1.4          0.2     setosa\n",
            "..            ...          ...           ...          ...        ...\n",
            "145           6.7          3.0           5.2          2.3  virginica\n",
            "146           6.3          2.5           5.0          1.9  virginica\n",
            "147           6.5          3.0           5.2          2.0  virginica\n",
            "148           6.2          3.4           5.4          2.3  virginica\n",
            "149           5.9          3.0           5.1          1.8  virginica\n",
            "\n",
            "[150 rows x 5 columns]\n"
          ]
        }
      ]
    },
    {
      "source": [
        "\n",
        "import pandas as pd\n",
        "df_from_excel = pd.read_excel('kisiler.xlsx')\n",
        "\n",
        "print(\"\\nExcel Dosyasından Oluşturulan DataFrame:\")\n",
        "print(df_from_excel)\n"
      ],
      "cell_type": "code",
      "metadata": {
        "id": "KxVMSVgdrTU3"
      },
      "execution_count": 50,
      "outputs": []
    },
    {
      "cell_type": "code",
      "source": [
        "import pandas as pd\n",
        "\n",
        "json_data=\"countries-table.json\"\n",
        "df_from_json = pd.read_json(json_data)\n",
        "print(\"\\nJSON Veri Yapısından Oluşturulan DataFrame:\")\n",
        "print(df_from_json)\n"
      ],
      "metadata": {
        "id": "tjCkQkZLqM5u"
      },
      "execution_count": 51,
      "outputs": []
    },
    {
      "cell_type": "code",
      "source": [
        "\n",
        "\n",
        "import pandas as pd\n",
        "\n",
        "data = {\n",
        "    'isim': ['Ali', 'Ayşe', 'Mehmet', 'Fatma', 'Can'],\n",
        "    'yaş': [25, 30, 22, 28, 23],\n",
        "    'şehir': ['Ankara', 'İstanbul', 'İzmir', 'Ankara', 'Bursa'],\n",
        "    'maas': [5000, 7000, 4000, 6000, 4500]\n",
        "}\n",
        "original_df = pd.DataFrame(data)\n",
        "\n",
        "\n",
        "print(\"Orijinal DataFrame:\")\n",
        "print(original_df)\n",
        "\n",
        "print(\"\\n---\\n\")\n",
        "\n",
        "selected_columns_df = original_df[['isim', 'şehir']]\n",
        "print(\"Belirli Sütunları Seçerek Oluşturulan Yeni DataFrame:\")\n",
        "print(selected_columns_df)\n",
        "\n",
        "print(\"\\n---\\n\")\n",
        "\n",
        "filtered_df = original_df[original_df['yaş'] > 25]\n",
        "print(\"Yaşı 25'ten Büyük Olanların Seçildiği Yeni DataFrame:\")\n",
        "print(filtered_df)\n",
        "\n",
        "print(\"\\n---\\n\")\n",
        "\n",
        "subset_iloc_df = original_df.iloc[:3, :2]\n",
        "print(\"`iloc` ile İlk Üç Satır ve İlk İki Sütunun Seçildiği DataFrame:\")\n",
        "print(subset_iloc_df)\n",
        "\n",
        "print(\"\\n---\\n\")\n",
        "\n",
        "subset_loc_df = original_df.loc[0:2, ['isim', 'maas']]\n",
        "print(\"`loc` ile Belirli Satır ve Sütunların Seçildiği DataFrame:\")\n",
        "print(subset_loc_df)\n",
        "\n",
        "print(\"\\n---\\n\")\n",
        "\n",
        "filtered_columns_df = original_df.filter(items=['yaş', 'şehir'])\n",
        "print(\"`filter()` Kullanarak Seçilen Sütunlarla Yeni DataFrame:\")\n",
        "print(filtered_columns_df)\n",
        "\n",
        "print(\"\\n---\\n\")\n",
        "\n",
        "query_df = original_df.query(\"şehir == 'Ankara'\")\n",
        "print(\"`query()` Kullanarak Şehir Olarak Ankara'yı Seçen DataFrame:\")\n",
        "print(query_df)\n"
      ],
      "metadata": {
        "colab": {
          "base_uri": "https://localhost:8080/"
        },
        "id": "LV5zKvEWr4eU",
        "outputId": "7e1ea15d-af11-41d0-d88e-6fbb1261759d"
      },
      "execution_count": 52,
      "outputs": [
        {
          "output_type": "stream",
          "name": "stdout",
          "text": [
            "Orijinal DataFrame:\n",
            "     isim  yaş     şehir  maas\n",
            "0     Ali   25    Ankara  5000\n",
            "1    Ayşe   30  İstanbul  7000\n",
            "2  Mehmet   22     İzmir  4000\n",
            "3   Fatma   28    Ankara  6000\n",
            "4     Can   23     Bursa  4500\n",
            "\n",
            "---\n",
            "\n",
            "Belirli Sütunları Seçerek Oluşturulan Yeni DataFrame:\n",
            "     isim     şehir\n",
            "0     Ali    Ankara\n",
            "1    Ayşe  İstanbul\n",
            "2  Mehmet     İzmir\n",
            "3   Fatma    Ankara\n",
            "4     Can     Bursa\n",
            "\n",
            "---\n",
            "\n",
            "Yaşı 25'ten Büyük Olanların Seçildiği Yeni DataFrame:\n",
            "    isim  yaş     şehir  maas\n",
            "1   Ayşe   30  İstanbul  7000\n",
            "3  Fatma   28    Ankara  6000\n",
            "\n",
            "---\n",
            "\n",
            "`iloc` ile İlk Üç Satır ve İlk İki Sütunun Seçildiği DataFrame:\n",
            "     isim  yaş\n",
            "0     Ali   25\n",
            "1    Ayşe   30\n",
            "2  Mehmet   22\n",
            "\n",
            "---\n",
            "\n",
            "`loc` ile Belirli Satır ve Sütunların Seçildiği DataFrame:\n",
            "     isim  maas\n",
            "0     Ali  5000\n",
            "1    Ayşe  7000\n",
            "2  Mehmet  4000\n",
            "\n",
            "---\n",
            "\n",
            "`filter()` Kullanarak Seçilen Sütunlarla Yeni DataFrame:\n",
            "   yaş     şehir\n",
            "0   25    Ankara\n",
            "1   30  İstanbul\n",
            "2   22     İzmir\n",
            "3   28    Ankara\n",
            "4   23     Bursa\n",
            "\n",
            "---\n",
            "\n",
            "`query()` Kullanarak Şehir Olarak Ankara'yı Seçen DataFrame:\n",
            "    isim  yaş   şehir  maas\n",
            "0    Ali   25  Ankara  5000\n",
            "3  Fatma   28  Ankara  6000\n"
          ]
        }
      ]
    },
    {
      "cell_type": "code",
      "source": [
        "import pandas as pd\n",
        "import numpy as np\n",
        "\n",
        "random_data = np.random.rand(5, 3)\n",
        "\n",
        "df_random = pd.DataFrame(random_data, columns=['Sütun 1', 'Sütun 2', 'Sütun 3'])\n",
        "\n",
        "print(\"\\nRastgele Verilerle Oluşturulan DataFrame:\")\n",
        "print(df_random)\n"
      ],
      "metadata": {
        "colab": {
          "base_uri": "https://localhost:8080/"
        },
        "id": "9Nu7hxJLsiO9",
        "outputId": "923489d7-5d78-46e8-de2a-5c63047d3d2e"
      },
      "execution_count": 53,
      "outputs": [
        {
          "output_type": "stream",
          "name": "stdout",
          "text": [
            "\n",
            "Rastgele Verilerle Oluşturulan DataFrame:\n",
            "    Sütun 1   Sütun 2   Sütun 3\n",
            "0  0.013663  0.686096  0.481972\n",
            "1  0.067686  0.365839  0.482259\n",
            "2  0.486850  0.592284  0.805378\n",
            "3  0.256936  0.546409  0.193449\n",
            "4  0.030545  0.341221  0.601152\n"
          ]
        }
      ]
    },
    {
      "cell_type": "code",
      "source": [
        "\n",
        "import pandas as pd\n",
        "\n",
        "veri = {\n",
        "    'İsim': ['Ayşe', 'Mehmet', 'Ahmet'],\n",
        "    'Yaş': [25, 30, 35],\n",
        "    'Maaş': [50000, 60000, 70000]\n",
        "}\n",
        "df = pd.DataFrame(veri)\n",
        "\n",
        "print(df.index)"
      ],
      "metadata": {
        "colab": {
          "base_uri": "https://localhost:8080/"
        },
        "id": "FNvRbKUxtiLU",
        "outputId": "52cb6366-124c-4968-8a36-515accc0989a"
      },
      "execution_count": 54,
      "outputs": [
        {
          "output_type": "stream",
          "name": "stdout",
          "text": [
            "RangeIndex(start=0, stop=3, step=1)\n"
          ]
        }
      ]
    },
    {
      "cell_type": "code",
      "source": [
        "df.index = ['a', 'b', 'c']\n",
        "print(df)"
      ],
      "metadata": {
        "colab": {
          "base_uri": "https://localhost:8080/"
        },
        "id": "g7vuMawqtw_N",
        "outputId": "6eb10f6d-0ced-446a-e044-e2d8e8cec1b6"
      },
      "execution_count": 55,
      "outputs": [
        {
          "output_type": "stream",
          "name": "stdout",
          "text": [
            "     İsim  Yaş   Maaş\n",
            "a    Ayşe   25  50000\n",
            "b  Mehmet   30  60000\n",
            "c   Ahmet   35  70000\n"
          ]
        }
      ]
    },
    {
      "cell_type": "code",
      "source": [
        "print(df.columns)\n"
      ],
      "metadata": {
        "colab": {
          "base_uri": "https://localhost:8080/"
        },
        "id": "TxMXgcnTt1hE",
        "outputId": "2b5ca490-0350-4049-b681-60da249316b8"
      },
      "execution_count": 56,
      "outputs": [
        {
          "output_type": "stream",
          "name": "stdout",
          "text": [
            "Index(['İsim', 'Yaş', 'Maaş'], dtype='object')\n"
          ]
        }
      ]
    },
    {
      "cell_type": "code",
      "source": [
        "df.columns = ['Ad', 'Yaş', 'Gelir']\n",
        "print(df)"
      ],
      "metadata": {
        "colab": {
          "base_uri": "https://localhost:8080/"
        },
        "id": "32x5-aM7t49D",
        "outputId": "549017c6-6b88-4b91-8278-bc7a776470fb"
      },
      "execution_count": 57,
      "outputs": [
        {
          "output_type": "stream",
          "name": "stdout",
          "text": [
            "       Ad  Yaş  Gelir\n",
            "a    Ayşe   25  50000\n",
            "b  Mehmet   30  60000\n",
            "c   Ahmet   35  70000\n"
          ]
        }
      ]
    },
    {
      "cell_type": "code",
      "source": [
        "print(df.values)"
      ],
      "metadata": {
        "colab": {
          "base_uri": "https://localhost:8080/"
        },
        "id": "kcEqcpq3t8N8",
        "outputId": "a81ba97d-1b54-4819-dc9f-c4fda9f02ff6"
      },
      "execution_count": 58,
      "outputs": [
        {
          "output_type": "stream",
          "name": "stdout",
          "text": [
            "[['Ayşe' 25 50000]\n",
            " ['Mehmet' 30 60000]\n",
            " ['Ahmet' 35 70000]]\n"
          ]
        }
      ]
    },
    {
      "cell_type": "code",
      "source": [
        "print(df.shape)"
      ],
      "metadata": {
        "colab": {
          "base_uri": "https://localhost:8080/"
        },
        "id": "hkZqBKwEt-4V",
        "outputId": "e0a3b04c-7fe2-420b-8ed7-416b10b0624d"
      },
      "execution_count": 59,
      "outputs": [
        {
          "output_type": "stream",
          "name": "stdout",
          "text": [
            "(3, 3)\n"
          ]
        }
      ]
    },
    {
      "cell_type": "code",
      "source": [
        "print(df.dtypes)"
      ],
      "metadata": {
        "colab": {
          "base_uri": "https://localhost:8080/"
        },
        "id": "MGx-Bc3vuBzb",
        "outputId": "7779327d-5290-493e-c824-b0fce1583a97"
      },
      "execution_count": 60,
      "outputs": [
        {
          "output_type": "stream",
          "name": "stdout",
          "text": [
            "Ad       object\n",
            "Yaş       int64\n",
            "Gelir     int64\n",
            "dtype: object\n"
          ]
        }
      ]
    },
    {
      "cell_type": "code",
      "source": [
        "print(df.size)"
      ],
      "metadata": {
        "colab": {
          "base_uri": "https://localhost:8080/"
        },
        "id": "BZuLxDsAuEbx",
        "outputId": "3eaf7b61-c6e2-4a4f-9a4b-618245716f77"
      },
      "execution_count": 61,
      "outputs": [
        {
          "output_type": "stream",
          "name": "stdout",
          "text": [
            "9\n"
          ]
        }
      ]
    },
    {
      "cell_type": "code",
      "source": [
        "print(df.axes)\n"
      ],
      "metadata": {
        "colab": {
          "base_uri": "https://localhost:8080/"
        },
        "id": "RoxCWU1TuG_J",
        "outputId": "15118645-1035-4681-bb76-3faf28a6897e"
      },
      "execution_count": 62,
      "outputs": [
        {
          "output_type": "stream",
          "name": "stdout",
          "text": [
            "[Index(['a', 'b', 'c'], dtype='object'), Index(['Ad', 'Yaş', 'Gelir'], dtype='object')]\n"
          ]
        }
      ]
    },
    {
      "cell_type": "code",
      "source": [
        "print(df.empty)"
      ],
      "metadata": {
        "colab": {
          "base_uri": "https://localhost:8080/"
        },
        "id": "0Q0mdkI0uSgc",
        "outputId": "24488753-46c4-47ac-c511-5f4cdab0134f"
      },
      "execution_count": 63,
      "outputs": [
        {
          "output_type": "stream",
          "name": "stdout",
          "text": [
            "False\n"
          ]
        }
      ]
    },
    {
      "cell_type": "code",
      "source": [
        "import pandas as pd\n",
        "\n",
        "veri = {\n",
        "    'isim': ['Ali', 'Ayşe', 'Fatma', 'Mehmet', 'Ahmet', 'Veli'],\n",
        "    'yaş': [23, 25, 30, 35, 40, 22],\n",
        "    'şehir': ['İstanbul', 'Ankara', 'İzmir', 'Bursa', 'Antalya', 'Adana']\n",
        "}\n",
        "df = pd.DataFrame(veri)\n",
        "\n",
        "print(df.head(3))"
      ],
      "metadata": {
        "colab": {
          "base_uri": "https://localhost:8080/"
        },
        "id": "pwthno7auVQg",
        "outputId": "2976c31f-ae32-4634-d909-ce6400507f6b"
      },
      "execution_count": 64,
      "outputs": [
        {
          "output_type": "stream",
          "name": "stdout",
          "text": [
            "    isim  yaş     şehir\n",
            "0    Ali   23  İstanbul\n",
            "1   Ayşe   25    Ankara\n",
            "2  Fatma   30     İzmir\n"
          ]
        }
      ]
    },
    {
      "cell_type": "code",
      "source": [
        "print(df.tail(2))"
      ],
      "metadata": {
        "colab": {
          "base_uri": "https://localhost:8080/"
        },
        "id": "Oge7N2tZubZ2",
        "outputId": "ccdddb66-a779-4201-c950-2bd756a9c328"
      },
      "execution_count": 65,
      "outputs": [
        {
          "output_type": "stream",
          "name": "stdout",
          "text": [
            "    isim  yaş    şehir\n",
            "4  Ahmet   40  Antalya\n",
            "5   Veli   22    Adana\n"
          ]
        }
      ]
    },
    {
      "cell_type": "code",
      "source": [
        "df.info()"
      ],
      "metadata": {
        "colab": {
          "base_uri": "https://localhost:8080/"
        },
        "id": "zHaL9-rXueV3",
        "outputId": "614aeaa9-9cc3-4e56-d59e-10b2118d1311"
      },
      "execution_count": 66,
      "outputs": [
        {
          "output_type": "stream",
          "name": "stdout",
          "text": [
            "<class 'pandas.core.frame.DataFrame'>\n",
            "RangeIndex: 6 entries, 0 to 5\n",
            "Data columns (total 3 columns):\n",
            " #   Column  Non-Null Count  Dtype \n",
            "---  ------  --------------  ----- \n",
            " 0   isim    6 non-null      object\n",
            " 1   yaş     6 non-null      int64 \n",
            " 2   şehir   6 non-null      object\n",
            "dtypes: int64(1), object(2)\n",
            "memory usage: 272.0+ bytes\n"
          ]
        }
      ]
    },
    {
      "cell_type": "code",
      "source": [
        "\n",
        "print(df.describe())"
      ],
      "metadata": {
        "colab": {
          "base_uri": "https://localhost:8080/"
        },
        "id": "vtLP0g_Iug1z",
        "outputId": "739006b3-a42f-410b-c5c0-72e9a4efd44d"
      },
      "execution_count": 67,
      "outputs": [
        {
          "output_type": "stream",
          "name": "stdout",
          "text": [
            "             yaş\n",
            "count   6.000000\n",
            "mean   29.166667\n",
            "std     7.194906\n",
            "min    22.000000\n",
            "25%    23.500000\n",
            "50%    27.500000\n",
            "75%    33.750000\n",
            "max    40.000000\n"
          ]
        }
      ]
    },
    {
      "cell_type": "code",
      "source": [
        "\n",
        "import pandas as pd\n",
        "\n",
        "veri = {\n",
        "    'isim': ['Ali', 'Ayşe', 'Fatma', 'Mehmet', 'Ahmet', 'Veli'],\n",
        "    'yaş': [23, 25, 30, 35, 40, 22],\n",
        "    'şehir': ['İstanbul', 'Ankara', 'İzmir', 'Bursa', 'Antalya', 'Adana'],\n",
        "    'çalışma süresi': [2, 3, 10, 15, 20, 4],\n",
        "}\n",
        "df = pd.DataFrame(veri)\n",
        "\n",
        "\n",
        "ali_bilgileri = df.loc[0, ['yaş', 'şehir']]\n",
        "print(ali_bilgileri)"
      ],
      "metadata": {
        "colab": {
          "base_uri": "https://localhost:8080/"
        },
        "id": "BVn8ZMUVujSV",
        "outputId": "dcc38911-24a3-43b7-fa2c-24cef5b081d6"
      },
      "execution_count": 68,
      "outputs": [
        {
          "output_type": "stream",
          "name": "stdout",
          "text": [
            "yaş            23\n",
            "şehir    İstanbul\n",
            "Name: 0, dtype: object\n"
          ]
        }
      ]
    },
    {
      "cell_type": "code",
      "source": [
        "ali_satiri = df.loc[df['isim'] == 'Ali']\n",
        "print(ali_satiri)"
      ],
      "metadata": {
        "colab": {
          "base_uri": "https://localhost:8080/"
        },
        "id": "k8gV8KdwuoAz",
        "outputId": "643de87c-2adb-4b43-a4d1-4cc43b22b17d"
      },
      "execution_count": 69,
      "outputs": [
        {
          "output_type": "stream",
          "name": "stdout",
          "text": [
            "  isim  yaş     şehir  çalışma süresi\n",
            "0  Ali   23  İstanbul               2\n"
          ]
        }
      ]
    },
    {
      "cell_type": "code",
      "source": [
        "ilk_iki_satir = df.iloc[0:2, 0:3]\n",
        "print(ilk_iki_satir)"
      ],
      "metadata": {
        "colab": {
          "base_uri": "https://localhost:8080/"
        },
        "id": "sYKqUw5suqi2",
        "outputId": "3f4ce555-198e-488e-df9a-e00068773a86"
      },
      "execution_count": 70,
      "outputs": [
        {
          "output_type": "stream",
          "name": "stdout",
          "text": [
            "   isim  yaş     şehir\n",
            "0   Ali   23  İstanbul\n",
            "1  Ayşe   25    Ankara\n"
          ]
        }
      ]
    },
    {
      "cell_type": "code",
      "source": [
        "secili_sutunlar = df[['isim', 'şehir']]\n",
        "print(secili_sutunlar)"
      ],
      "metadata": {
        "colab": {
          "base_uri": "https://localhost:8080/"
        },
        "id": "co9Mn5SCut-k",
        "outputId": "d98d4025-6609-4ea9-ea2e-3e1bab4674f2"
      },
      "execution_count": 71,
      "outputs": [
        {
          "output_type": "stream",
          "name": "stdout",
          "text": [
            "     isim     şehir\n",
            "0     Ali  İstanbul\n",
            "1    Ayşe    Ankara\n",
            "2   Fatma     İzmir\n",
            "3  Mehmet     Bursa\n",
            "4   Ahmet   Antalya\n",
            "5    Veli     Adana\n"
          ]
        }
      ]
    },
    {
      "cell_type": "code",
      "source": [
        "sutun_adlari = df.columns.tolist()\n",
        "\n",
        "print(sutun_adlari)"
      ],
      "metadata": {
        "colab": {
          "base_uri": "https://localhost:8080/"
        },
        "id": "ZjYuDViuuwf0",
        "outputId": "6f95071f-b660-4d6f-a327-2d075e018e4f"
      },
      "execution_count": 72,
      "outputs": [
        {
          "output_type": "stream",
          "name": "stdout",
          "text": [
            "['isim', 'yaş', 'şehir', 'çalışma süresi']\n"
          ]
        }
      ]
    },
    {
      "cell_type": "code",
      "source": [
        "aralik_secimi = df.iloc[1:5, 1:3]\n",
        "print(aralik_secimi)"
      ],
      "metadata": {
        "colab": {
          "base_uri": "https://localhost:8080/"
        },
        "id": "CSB56Quyuz2A",
        "outputId": "e955d81f-2991-489b-f745-c53391c98ac7"
      },
      "execution_count": 73,
      "outputs": [
        {
          "output_type": "stream",
          "name": "stdout",
          "text": [
            "   yaş    şehir\n",
            "1   25   Ankara\n",
            "2   30    İzmir\n",
            "3   35    Bursa\n",
            "4   40  Antalya\n"
          ]
        }
      ]
    },
    {
      "cell_type": "code",
      "source": [
        "filtrelenmiş_veri = df[df['yaş'] > 30]\n",
        "print(filtrelenmiş_veri)"
      ],
      "metadata": {
        "colab": {
          "base_uri": "https://localhost:8080/"
        },
        "id": "SqoDeCWfu2AZ",
        "outputId": "50d831cc-b71c-4a47-8544-6a85e1a3a829"
      },
      "execution_count": 74,
      "outputs": [
        {
          "output_type": "stream",
          "name": "stdout",
          "text": [
            "     isim  yaş    şehir  çalışma süresi\n",
            "3  Mehmet   35    Bursa              15\n",
            "4   Ahmet   40  Antalya              20\n"
          ]
        }
      ]
    },
    {
      "cell_type": "code",
      "source": [
        "seçilen_satırlar = df[(df['yaş'] > 20) & (df['çalışma süresi'] < 10)]\n",
        "\n",
        "print(seçilen_satırlar)"
      ],
      "metadata": {
        "colab": {
          "base_uri": "https://localhost:8080/"
        },
        "id": "DdEWjfj_u4hZ",
        "outputId": "f4cf3aec-36f4-4e85-e898-c2338e0dd06e"
      },
      "execution_count": 76,
      "outputs": [
        {
          "output_type": "stream",
          "name": "stdout",
          "text": [
            "   isim  yaş     şehir  çalışma süresi\n",
            "0   Ali   23  İstanbul               2\n",
            "1  Ayşe   25    Ankara               3\n",
            "5  Veli   22     Adana               4\n"
          ]
        }
      ]
    },
    {
      "cell_type": "code",
      "source": [
        "transpoze_df = df.transpose()\n",
        "print(transpoze_df)"
      ],
      "metadata": {
        "colab": {
          "base_uri": "https://localhost:8080/"
        },
        "id": "tNxd7WTvu66b",
        "outputId": "f3203b63-25c7-45ad-cc4a-9361fed894c8"
      },
      "execution_count": 77,
      "outputs": [
        {
          "output_type": "stream",
          "name": "stdout",
          "text": [
            "                       0       1      2       3        4      5\n",
            "isim                 Ali    Ayşe  Fatma  Mehmet    Ahmet   Veli\n",
            "yaş                   23      25     30      35       40     22\n",
            "şehir           İstanbul  Ankara  İzmir   Bursa  Antalya  Adana\n",
            "çalışma süresi         2       3     10      15       20      4\n"
          ]
        }
      ]
    },
    {
      "cell_type": "code",
      "source": [
        "sıralı_veri = df.sort_values(by='yaş')\n",
        "print(sıralı_veri)"
      ],
      "metadata": {
        "colab": {
          "base_uri": "https://localhost:8080/"
        },
        "id": "7xAywuIJu-VL",
        "outputId": "e11771fc-f8ea-4721-a507-af3ae139b036"
      },
      "execution_count": 78,
      "outputs": [
        {
          "output_type": "stream",
          "name": "stdout",
          "text": [
            "     isim  yaş     şehir  çalışma süresi\n",
            "5    Veli   22     Adana               4\n",
            "0     Ali   23  İstanbul               2\n",
            "1    Ayşe   25    Ankara               3\n",
            "2   Fatma   30     İzmir              10\n",
            "3  Mehmet   35     Bursa              15\n",
            "4   Ahmet   40   Antalya              20\n"
          ]
        }
      ]
    },
    {
      "cell_type": "code",
      "source": [
        "df_sütun_silindi = df.drop('şehir', axis=1)\n",
        "print(df_sütun_silindi)"
      ],
      "metadata": {
        "colab": {
          "base_uri": "https://localhost:8080/"
        },
        "id": "qW6gVRRRvAhi",
        "outputId": "fbf28ef2-efb3-4b30-8b25-bd832f0ccb35"
      },
      "execution_count": 79,
      "outputs": [
        {
          "output_type": "stream",
          "name": "stdout",
          "text": [
            "     isim  yaş  çalışma süresi\n",
            "0     Ali   23               2\n",
            "1    Ayşe   25               3\n",
            "2   Fatma   30              10\n",
            "3  Mehmet   35              15\n",
            "4   Ahmet   40              20\n",
            "5    Veli   22               4\n"
          ]
        }
      ]
    },
    {
      "cell_type": "code",
      "source": [
        "df['yaş'].iloc[2] = None\n",
        "\n",
        "print(df)"
      ],
      "metadata": {
        "colab": {
          "base_uri": "https://localhost:8080/"
        },
        "id": "eGaQOZJZvDEc",
        "outputId": "f6be2877-aab5-47e5-da30-95cdfcaaddc7"
      },
      "execution_count": 80,
      "outputs": [
        {
          "output_type": "stream",
          "name": "stdout",
          "text": [
            "     isim   yaş     şehir  çalışma süresi\n",
            "0     Ali  23.0  İstanbul               2\n",
            "1    Ayşe  25.0    Ankara               3\n",
            "2   Fatma   NaN     İzmir              10\n",
            "3  Mehmet  35.0     Bursa              15\n",
            "4   Ahmet  40.0   Antalya              20\n",
            "5    Veli  22.0     Adana               4\n"
          ]
        },
        {
          "output_type": "stream",
          "name": "stderr",
          "text": [
            "<ipython-input-80-a28120894257>:1: FutureWarning: ChainedAssignmentError: behaviour will change in pandas 3.0!\n",
            "You are setting values through chained assignment. Currently this works in certain cases, but when using Copy-on-Write (which will become the default behaviour in pandas 3.0) this will never work to update the original DataFrame or Series, because the intermediate object on which we are setting values will behave as a copy.\n",
            "A typical example is when you are setting values in a column of a DataFrame, like:\n",
            "\n",
            "df[\"col\"][row_indexer] = value\n",
            "\n",
            "Use `df.loc[row_indexer, \"col\"] = values` instead, to perform the assignment in a single step and ensure this keeps updating the original `df`.\n",
            "\n",
            "See the caveats in the documentation: https://pandas.pydata.org/pandas-docs/stable/user_guide/indexing.html#returning-a-view-versus-a-copy\n",
            "\n",
            "  df['yaş'].iloc[2] = None\n",
            "<ipython-input-80-a28120894257>:1: SettingWithCopyWarning: \n",
            "A value is trying to be set on a copy of a slice from a DataFrame\n",
            "\n",
            "See the caveats in the documentation: https://pandas.pydata.org/pandas-docs/stable/user_guide/indexing.html#returning-a-view-versus-a-copy\n",
            "  df['yaş'].iloc[2] = None\n"
          ]
        }
      ]
    },
    {
      "cell_type": "code",
      "source": [
        "\n",
        "df_doldurulmuş = df.fillna(0)\n",
        "print(df_doldurulmuş)"
      ],
      "metadata": {
        "colab": {
          "base_uri": "https://localhost:8080/"
        },
        "id": "fBonk2dNvIMn",
        "outputId": "8d87edc9-8da8-44d8-d158-8e4e21bd8680"
      },
      "execution_count": 81,
      "outputs": [
        {
          "output_type": "stream",
          "name": "stdout",
          "text": [
            "     isim   yaş     şehir  çalışma süresi\n",
            "0     Ali  23.0  İstanbul               2\n",
            "1    Ayşe  25.0    Ankara               3\n",
            "2   Fatma   0.0     İzmir              10\n",
            "3  Mehmet  35.0     Bursa              15\n",
            "4   Ahmet  40.0   Antalya              20\n",
            "5    Veli  22.0     Adana               4\n"
          ]
        }
      ]
    },
    {
      "cell_type": "code",
      "source": [
        "df_eksikler_silindi = df.dropna()\n",
        "print(df_eksikler_silindi)"
      ],
      "metadata": {
        "colab": {
          "base_uri": "https://localhost:8080/"
        },
        "id": "GdtTTTL8vLhE",
        "outputId": "2d488618-8643-4993-992e-4bf5cf19fba6"
      },
      "execution_count": 82,
      "outputs": [
        {
          "output_type": "stream",
          "name": "stdout",
          "text": [
            "     isim   yaş     şehir  çalışma süresi\n",
            "0     Ali  23.0  İstanbul               2\n",
            "1    Ayşe  25.0    Ankara               3\n",
            "3  Mehmet  35.0     Bursa              15\n",
            "4   Ahmet  40.0   Antalya              20\n",
            "5    Veli  22.0     Adana               4\n"
          ]
        }
      ]
    },
    {
      "cell_type": "code",
      "source": [
        "df.loc[0, 'yaş'] = 76\n",
        "print(df)\n"
      ],
      "metadata": {
        "colab": {
          "base_uri": "https://localhost:8080/"
        },
        "id": "r7zgGN2JvNwf",
        "outputId": "1016a84b-528f-4a6d-88fb-ae4120194063"
      },
      "execution_count": 83,
      "outputs": [
        {
          "output_type": "stream",
          "name": "stdout",
          "text": [
            "     isim   yaş     şehir  çalışma süresi\n",
            "0     Ali  76.0  İstanbul               2\n",
            "1    Ayşe  25.0    Ankara               3\n",
            "2   Fatma   NaN     İzmir              10\n",
            "3  Mehmet  35.0     Bursa              15\n",
            "4   Ahmet  40.0   Antalya              20\n",
            "5    Veli  22.0     Adana               4\n"
          ]
        }
      ]
    },
    {
      "cell_type": "code",
      "source": [
        "df['yaş_kare'] = df['yaş'] ** 2\n",
        "print(df)"
      ],
      "metadata": {
        "colab": {
          "base_uri": "https://localhost:8080/"
        },
        "id": "lZS-s0ZjvQTW",
        "outputId": "80898458-f68b-49b7-b488-86b329c0f1fb"
      },
      "execution_count": 84,
      "outputs": [
        {
          "output_type": "stream",
          "name": "stdout",
          "text": [
            "     isim   yaş     şehir  çalışma süresi  yaş_kare\n",
            "0     Ali  76.0  İstanbul               2    5776.0\n",
            "1    Ayşe  25.0    Ankara               3     625.0\n",
            "2   Fatma   NaN     İzmir              10       NaN\n",
            "3  Mehmet  35.0     Bursa              15    1225.0\n",
            "4   Ahmet  40.0   Antalya              20    1600.0\n",
            "5    Veli  22.0     Adana               4     484.0\n"
          ]
        }
      ]
    },
    {
      "cell_type": "code",
      "source": [
        "ortalama_yaş = df['yaş'].mean()\n",
        "print(\"Yaş ortalaması:\", ortalama_yaş)"
      ],
      "metadata": {
        "colab": {
          "base_uri": "https://localhost:8080/"
        },
        "id": "kjXZm1KkvS-Z",
        "outputId": "5c17b18e-1df5-4a7e-e7e5-3a172e2c1862"
      },
      "execution_count": 85,
      "outputs": [
        {
          "output_type": "stream",
          "name": "stdout",
          "text": [
            "Yaş ortalaması: 39.6\n"
          ]
        }
      ]
    },
    {
      "cell_type": "code",
      "source": [
        "toplam_yaş = df['yaş'].sum()\n",
        "print(\"Yaş toplamı:\", toplam_yaş)"
      ],
      "metadata": {
        "colab": {
          "base_uri": "https://localhost:8080/"
        },
        "id": "ml-gMNPQvV57",
        "outputId": "5c9c47e4-1761-406c-ea65-50ec0d793a13"
      },
      "execution_count": 86,
      "outputs": [
        {
          "output_type": "stream",
          "name": "stdout",
          "text": [
            "Yaş toplamı: 198.0\n"
          ]
        }
      ]
    },
    {
      "cell_type": "code",
      "source": [
        "isim_sayısı = df['isim'].count()\n",
        "print(\"İsim sayısı:\", isim_sayısı)"
      ],
      "metadata": {
        "colab": {
          "base_uri": "https://localhost:8080/"
        },
        "id": "iiFHfLP0vZwr",
        "outputId": "ca6abf70-efef-4d80-a51b-e531b84452c0"
      },
      "execution_count": 87,
      "outputs": [
        {
          "output_type": "stream",
          "name": "stdout",
          "text": [
            "İsim sayısı: 6\n"
          ]
        }
      ]
    },
    {
      "cell_type": "code",
      "source": [
        "sayısal_veri = df.select_dtypes(include=['number'])\n",
        "\n",
        "korelasyon = sayısal_veri.corr()\n",
        "print(korelasyon)"
      ],
      "metadata": {
        "colab": {
          "base_uri": "https://localhost:8080/"
        },
        "id": "yunhKj9-vb3f",
        "outputId": "27c67ebd-202a-43cb-d4ab-54fac825b257"
      },
      "execution_count": 88,
      "outputs": [
        {
          "output_type": "stream",
          "name": "stdout",
          "text": [
            "                     yaş  çalışma süresi  yaş_kare\n",
            "yaş             1.000000       -0.145004  0.990550\n",
            "çalışma süresi -0.145004        1.000000 -0.275452\n",
            "yaş_kare        0.990550       -0.275452  1.000000\n"
          ]
        }
      ]
    },
    {
      "cell_type": "code",
      "source": [
        "melted_df = pd.melt(df, id_vars=['isim'], value_vars=['yaş', 'şehir'])\n",
        "print(melted_df)"
      ],
      "metadata": {
        "colab": {
          "base_uri": "https://localhost:8080/"
        },
        "id": "dkaEPxN8vfbu",
        "outputId": "991b8b94-89ca-44fe-a906-ce7fa459f6fe"
      },
      "execution_count": 89,
      "outputs": [
        {
          "output_type": "stream",
          "name": "stdout",
          "text": [
            "      isim variable     value\n",
            "0      Ali      yaş      76.0\n",
            "1     Ayşe      yaş      25.0\n",
            "2    Fatma      yaş       NaN\n",
            "3   Mehmet      yaş      35.0\n",
            "4    Ahmet      yaş      40.0\n",
            "5     Veli      yaş      22.0\n",
            "6      Ali    şehir  İstanbul\n",
            "7     Ayşe    şehir    Ankara\n",
            "8    Fatma    şehir     İzmir\n",
            "9   Mehmet    şehir     Bursa\n",
            "10   Ahmet    şehir   Antalya\n",
            "11    Veli    şehir     Adana\n"
          ]
        }
      ]
    },
    {
      "cell_type": "code",
      "source": [
        "pivot_df = df.pivot_table(values='yaş', index='şehir', aggfunc='mean')\n",
        "print(pivot_df)\n"
      ],
      "metadata": {
        "colab": {
          "base_uri": "https://localhost:8080/"
        },
        "id": "rvgykBtJvhRK",
        "outputId": "a1516f8e-61b9-4d0b-c32c-abd84ec3032b"
      },
      "execution_count": 90,
      "outputs": [
        {
          "output_type": "stream",
          "name": "stdout",
          "text": [
            "           yaş\n",
            "şehir         \n",
            "Adana     22.0\n",
            "Ankara    25.0\n",
            "Antalya   40.0\n",
            "Bursa     35.0\n",
            "İstanbul  76.0\n"
          ]
        }
      ]
    },
    {
      "cell_type": "code",
      "source": [
        "gruplandırılmış_veri = df.groupby('şehir')['yaş'].mean()\n",
        "print(gruplandırılmış_veri)"
      ],
      "metadata": {
        "colab": {
          "base_uri": "https://localhost:8080/"
        },
        "id": "dDgkOZWUvmWT",
        "outputId": "19e57684-9940-4f76-cde0-a26c141e53c2"
      },
      "execution_count": 91,
      "outputs": [
        {
          "output_type": "stream",
          "name": "stdout",
          "text": [
            "şehir\n",
            "Adana       22.0\n",
            "Ankara      25.0\n",
            "Antalya     40.0\n",
            "Bursa       35.0\n",
            "İstanbul    76.0\n",
            "İzmir        NaN\n",
            "Name: yaş, dtype: float64\n"
          ]
        }
      ]
    },
    {
      "cell_type": "code",
      "source": [
        "ek_veri = {\n",
        "    'isim': ['Ali', 'Jane', 'Fatma'],\n",
        "    'gelir': [3000, 3500, 4000]\n",
        "}\n",
        "df2 = pd.DataFrame(ek_veri)\n",
        "\n",
        "birleşmiş_df = df.merge(df2, on='isim', how='left')\n",
        "print(birleşmiş_df)"
      ],
      "metadata": {
        "colab": {
          "base_uri": "https://localhost:8080/"
        },
        "id": "fkdujwQQvoeo",
        "outputId": "7ec96541-2004-44ea-e0ea-fcf2778f3f6f"
      },
      "execution_count": 93,
      "outputs": [
        {
          "output_type": "stream",
          "name": "stdout",
          "text": [
            "     isim   yaş     şehir  çalışma süresi  yaş_kare   gelir\n",
            "0     Ali  76.0  İstanbul               2    5776.0  3000.0\n",
            "1    Ayşe  25.0    Ankara               3     625.0     NaN\n",
            "2   Fatma   NaN     İzmir              10       NaN  4000.0\n",
            "3  Mehmet  35.0     Bursa              15    1225.0     NaN\n",
            "4   Ahmet  40.0   Antalya              20    1600.0     NaN\n",
            "5    Veli  22.0     Adana               4     484.0     NaN\n"
          ]
        }
      ]
    },
    {
      "cell_type": "code",
      "source": [
        "ek_veri2 = {\n",
        "    'isim': ['John', 'Jane', 'Michael'],\n",
        "    'yaş': [34,50,79],\n",
        "    'gelir': [3000, 3500, 4000]\n",
        "}\n",
        "df2 = pd.DataFrame(ek_veri2)\n",
        "\n",
        "birleşik_df = pd.concat([df, df2], axis=0)\n",
        "print(birleşik_df)"
      ],
      "metadata": {
        "colab": {
          "base_uri": "https://localhost:8080/"
        },
        "id": "Fpqm7G5ovrYt",
        "outputId": "820b6184-66b2-476a-abc8-9e659286b983"
      },
      "execution_count": 94,
      "outputs": [
        {
          "output_type": "stream",
          "name": "stdout",
          "text": [
            "      isim   yaş     şehir  çalışma süresi  yaş_kare   gelir\n",
            "0      Ali  76.0  İstanbul             2.0    5776.0     NaN\n",
            "1     Ayşe  25.0    Ankara             3.0     625.0     NaN\n",
            "2    Fatma   NaN     İzmir            10.0       NaN     NaN\n",
            "3   Mehmet  35.0     Bursa            15.0    1225.0     NaN\n",
            "4    Ahmet  40.0   Antalya            20.0    1600.0     NaN\n",
            "5     Veli  22.0     Adana             4.0     484.0     NaN\n",
            "0     John  34.0       NaN             NaN       NaN  3000.0\n",
            "1     Jane  50.0       NaN             NaN       NaN  3500.0\n",
            "2  Michael  79.0       NaN             NaN       NaN  4000.0\n"
          ]
        }
      ]
    },
    {
      "cell_type": "code",
      "source": [
        "df_indeksli = df.set_index('isim')\n",
        "print(\"Yeni İndeksli DataFrame:\")\n",
        "print(df_indeksli)"
      ],
      "metadata": {
        "colab": {
          "base_uri": "https://localhost:8080/"
        },
        "id": "eTA-2TQRvwck",
        "outputId": "3f36d60a-31a7-4720-8f23-aa3df37e26f4"
      },
      "execution_count": 95,
      "outputs": [
        {
          "output_type": "stream",
          "name": "stdout",
          "text": [
            "Yeni İndeksli DataFrame:\n",
            "         yaş     şehir  çalışma süresi  yaş_kare\n",
            "isim                                            \n",
            "Ali     76.0  İstanbul               2    5776.0\n",
            "Ayşe    25.0    Ankara               3     625.0\n",
            "Fatma    NaN     İzmir              10       NaN\n",
            "Mehmet  35.0     Bursa              15    1225.0\n",
            "Ahmet   40.0   Antalya              20    1600.0\n",
            "Veli    22.0     Adana               4     484.0\n"
          ]
        }
      ]
    },
    {
      "cell_type": "code",
      "source": [
        "yeni_indeksler = ['Ali', 'Ayşe', 'Fatma', 'Mehmet', 'Ahmet', 'Veli', 'Kemal']\n",
        "df_yeniden_indekslenmis = df_indeksli.reindex(yeni_indeksler)\n",
        "print(\"\\nYeniden İndekslenmiş DataFrame:\")\n",
        "print(df_yeniden_indekslenmis)"
      ],
      "metadata": {
        "colab": {
          "base_uri": "https://localhost:8080/"
        },
        "id": "znyNkfc5vy_O",
        "outputId": "3b675f9b-a43f-45b5-be0c-3df02f239d7f"
      },
      "execution_count": 96,
      "outputs": [
        {
          "output_type": "stream",
          "name": "stdout",
          "text": [
            "\n",
            "Yeniden İndekslenmiş DataFrame:\n",
            "         yaş     şehir  çalışma süresi  yaş_kare\n",
            "isim                                            \n",
            "Ali     76.0  İstanbul             2.0    5776.0\n",
            "Ayşe    25.0    Ankara             3.0     625.0\n",
            "Fatma    NaN     İzmir            10.0       NaN\n",
            "Mehmet  35.0     Bursa            15.0    1225.0\n",
            "Ahmet   40.0   Antalya            20.0    1600.0\n",
            "Veli    22.0     Adana             4.0     484.0\n",
            "Kemal    NaN       NaN             NaN       NaN\n"
          ]
        }
      ]
    },
    {
      "cell_type": "code",
      "source": [],
      "metadata": {
        "id": "YTHqk_YUv1Rq"
      },
      "execution_count": null,
      "outputs": []
    }
  ]
}