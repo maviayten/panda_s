{
  "nbformat": 4,
  "nbformat_minor": 0,
  "metadata": {
    "colab": {
      "provenance": []
    },
    "kernelspec": {
      "name": "python3",
      "display_name": "Python 3"
    },
    "language_info": {
      "name": "python"
    }
  },
  "cells": [
    {
      "cell_type": "code",
      "execution_count": 1,
      "metadata": {
        "colab": {
          "base_uri": "https://localhost:8080/"
        },
        "id": "7gnZzg9Qw-xM",
        "outputId": "01342fa4-da48-48ed-c177-6a22a3810605"
      },
      "outputs": [
        {
          "output_type": "stream",
          "name": "stdout",
          "text": [
            "    ID    Yas     Maas  Departman Cinsiyet  Calisma_Saati Deneyim_Seviyesi\n",
            "0    1   23.0   4000.0         IT    Kadın             40        Başlangıç\n",
            "1    2   35.0   5000.0   Muhasebe    Erkek             45             Orta\n",
            "2    3   45.0   5500.0         IT    Erkek             50            İleri\n",
            "3    4   27.0   4500.0  Pazarlama    Kadın             39             Orta\n",
            "4    5    NaN   4800.0   Muhasebe    Kadın             42        Başlangıç\n",
            "5    6   31.0   4700.0  Pazarlama    Erkek             37             Orta\n",
            "6    7   29.0   5000.0         IT    Erkek             45            İleri\n",
            "7    8   42.0   5200.0         IT    Kadın             60            İleri\n",
            "8    9  120.0      NaN   Muhasebe      NaN             38        Başlangıç\n",
            "9   10   34.0  25000.0  Pazarlama    Kadın             55            İleri\n",
            "10  11   28.0   4600.0         IT    Erkek             47             Orta\n",
            "11  12   30.0   4900.0   Muhasebe    Kadın             40             Orta\n",
            "12  13   25.0  50000.0  Pazarlama      NaN             41        Başlangıç\n",
            "13  14   45.0   4300.0  Pazarlama    Erkek             39            İleri\n",
            "14  15    NaN   4000.0         IT      NaN             55        Başlangıç\n",
            "15  16   32.0   4700.0   Muhasebe      NaN             36             Orta\n",
            "16  17   60.0   5600.0         IT      NaN             60            İleri\n",
            "17  18   25.0   4800.0  Pazarlama    Kadın             44        Başlangıç\n",
            "18  19   27.0   4500.0         IT    Erkek             45             Orta\n",
            "19  20  133.0   5100.0   Muhasebe    Erkek             50            İleri\n",
            "20   5    NaN   4800.0   Muhasebe    Kadın             42        Başlangıç\n",
            "21  12   30.0   4900.0   Muhasebe    Kadın             40             Orta\n"
          ]
        }
      ],
      "source": [
        "import pandas as pd\n",
        "import numpy as np\n",
        "\n",
        "\n",
        "veri = {\n",
        "    'ID': [1, 2, 3, 4, 5, 6, 7, 8, 9, 10, 11, 12, 13, 14, 15, 16, 17, 18, 19, 20],\n",
        "    'Yas': [23, 35, 45, 27, np.nan, 31, 29, 42, 120, 34, 28, 30, 25, 45, np.nan, 32, 60, 25, 27, 133],\n",
        "    'Maas': [4000, 5000, 5500, 4500, 4800, 4700, 5000, 5200, np.nan, 25000, 4600, 4900, 50000, 4300, 4000, 4700, 5600, 4800, 4500, 5100],\n",
        "    'Departman': ['IT', 'Muhasebe', 'IT', 'Pazarlama', 'Muhasebe', 'Pazarlama', 'IT', 'IT', 'Muhasebe', 'Pazarlama',\n",
        "                  'IT', 'Muhasebe', 'Pazarlama', 'Pazarlama', 'IT', 'Muhasebe', 'IT', 'Pazarlama', 'IT', 'Muhasebe'],\n",
        "    'Cinsiyet': ['Kadın', 'Erkek', 'Erkek', 'Kadın', 'Kadın', 'Erkek', 'Erkek', 'Kadın', np.nan, 'Kadın',\n",
        "                 'Erkek', 'Kadın', np.nan, 'Erkek', np.nan, np.nan, np.nan, 'Kadın', 'Erkek', 'Erkek'],\n",
        "    'Calisma_Saati': [40, 45, 50, 39, 42, 37, 45, 60, 38, 55, 47, 40, 41, 39, 55, 36, 60, 44, 45, 50],\n",
        "    'Deneyim_Seviyesi': ['Başlangıç', 'Orta', 'İleri', 'Orta', 'Başlangıç', 'Orta', 'İleri', 'İleri', 'Başlangıç', 'İleri',\n",
        "                         'Orta', 'Orta', 'Başlangıç', 'İleri', 'Başlangıç', 'Orta', 'İleri', 'Başlangıç', 'Orta', 'İleri']\n",
        "}\n",
        "\n",
        "df = pd.DataFrame(veri)\n",
        "df = pd.concat([df, df.iloc[[4, 11]]], ignore_index=True)\n",
        "\n",
        "print(df)\n"
      ]
    },
    {
      "cell_type": "code",
      "source": [
        "df.info()"
      ],
      "metadata": {
        "colab": {
          "base_uri": "https://localhost:8080/"
        },
        "id": "GlrOmkgcxUbQ",
        "outputId": "86de93db-15cc-4ff1-dcd9-06cd21ea928e"
      },
      "execution_count": 2,
      "outputs": [
        {
          "output_type": "stream",
          "name": "stdout",
          "text": [
            "<class 'pandas.core.frame.DataFrame'>\n",
            "RangeIndex: 22 entries, 0 to 21\n",
            "Data columns (total 7 columns):\n",
            " #   Column            Non-Null Count  Dtype  \n",
            "---  ------            --------------  -----  \n",
            " 0   ID                22 non-null     int64  \n",
            " 1   Yas               19 non-null     float64\n",
            " 2   Maas              21 non-null     float64\n",
            " 3   Departman         22 non-null     object \n",
            " 4   Cinsiyet          17 non-null     object \n",
            " 5   Calisma_Saati     22 non-null     int64  \n",
            " 6   Deneyim_Seviyesi  22 non-null     object \n",
            "dtypes: float64(2), int64(2), object(3)\n",
            "memory usage: 1.3+ KB\n"
          ]
        }
      ]
    },
    {
      "cell_type": "code",
      "source": [
        "df.describe()"
      ],
      "metadata": {
        "colab": {
          "base_uri": "https://localhost:8080/",
          "height": 300
        },
        "id": "O08eA2ojxcM3",
        "outputId": "6c8fd5a8-5f70-47bf-cc91-1e34a4cbc38f"
      },
      "execution_count": 3,
      "outputs": [
        {
          "output_type": "execute_result",
          "data": {
            "text/plain": [
              "              ID         Yas          Maas  Calisma_Saati\n",
              "count  22.000000   19.000000     21.000000      22.000000\n",
              "mean   10.318182   43.210526   7900.000000      45.000000\n",
              "std     5.760178   30.781630  10612.539753       7.171372\n",
              "min     1.000000   23.000000   4000.000000      36.000000\n",
              "25%     5.250000   27.500000   4600.000000      40.000000\n",
              "50%    10.500000   31.000000   4800.000000      43.000000\n",
              "75%    14.750000   43.500000   5100.000000      49.250000\n",
              "max    20.000000  133.000000  50000.000000      60.000000"
            ],
            "text/html": [
              "\n",
              "  <div id=\"df-a0652360-ea0f-4456-b1f2-c23fbc83203e\" class=\"colab-df-container\">\n",
              "    <div>\n",
              "<style scoped>\n",
              "    .dataframe tbody tr th:only-of-type {\n",
              "        vertical-align: middle;\n",
              "    }\n",
              "\n",
              "    .dataframe tbody tr th {\n",
              "        vertical-align: top;\n",
              "    }\n",
              "\n",
              "    .dataframe thead th {\n",
              "        text-align: right;\n",
              "    }\n",
              "</style>\n",
              "<table border=\"1\" class=\"dataframe\">\n",
              "  <thead>\n",
              "    <tr style=\"text-align: right;\">\n",
              "      <th></th>\n",
              "      <th>ID</th>\n",
              "      <th>Yas</th>\n",
              "      <th>Maas</th>\n",
              "      <th>Calisma_Saati</th>\n",
              "    </tr>\n",
              "  </thead>\n",
              "  <tbody>\n",
              "    <tr>\n",
              "      <th>count</th>\n",
              "      <td>22.000000</td>\n",
              "      <td>19.000000</td>\n",
              "      <td>21.000000</td>\n",
              "      <td>22.000000</td>\n",
              "    </tr>\n",
              "    <tr>\n",
              "      <th>mean</th>\n",
              "      <td>10.318182</td>\n",
              "      <td>43.210526</td>\n",
              "      <td>7900.000000</td>\n",
              "      <td>45.000000</td>\n",
              "    </tr>\n",
              "    <tr>\n",
              "      <th>std</th>\n",
              "      <td>5.760178</td>\n",
              "      <td>30.781630</td>\n",
              "      <td>10612.539753</td>\n",
              "      <td>7.171372</td>\n",
              "    </tr>\n",
              "    <tr>\n",
              "      <th>min</th>\n",
              "      <td>1.000000</td>\n",
              "      <td>23.000000</td>\n",
              "      <td>4000.000000</td>\n",
              "      <td>36.000000</td>\n",
              "    </tr>\n",
              "    <tr>\n",
              "      <th>25%</th>\n",
              "      <td>5.250000</td>\n",
              "      <td>27.500000</td>\n",
              "      <td>4600.000000</td>\n",
              "      <td>40.000000</td>\n",
              "    </tr>\n",
              "    <tr>\n",
              "      <th>50%</th>\n",
              "      <td>10.500000</td>\n",
              "      <td>31.000000</td>\n",
              "      <td>4800.000000</td>\n",
              "      <td>43.000000</td>\n",
              "    </tr>\n",
              "    <tr>\n",
              "      <th>75%</th>\n",
              "      <td>14.750000</td>\n",
              "      <td>43.500000</td>\n",
              "      <td>5100.000000</td>\n",
              "      <td>49.250000</td>\n",
              "    </tr>\n",
              "    <tr>\n",
              "      <th>max</th>\n",
              "      <td>20.000000</td>\n",
              "      <td>133.000000</td>\n",
              "      <td>50000.000000</td>\n",
              "      <td>60.000000</td>\n",
              "    </tr>\n",
              "  </tbody>\n",
              "</table>\n",
              "</div>\n",
              "    <div class=\"colab-df-buttons\">\n",
              "\n",
              "  <div class=\"colab-df-container\">\n",
              "    <button class=\"colab-df-convert\" onclick=\"convertToInteractive('df-a0652360-ea0f-4456-b1f2-c23fbc83203e')\"\n",
              "            title=\"Convert this dataframe to an interactive table.\"\n",
              "            style=\"display:none;\">\n",
              "\n",
              "  <svg xmlns=\"http://www.w3.org/2000/svg\" height=\"24px\" viewBox=\"0 -960 960 960\">\n",
              "    <path d=\"M120-120v-720h720v720H120Zm60-500h600v-160H180v160Zm220 220h160v-160H400v160Zm0 220h160v-160H400v160ZM180-400h160v-160H180v160Zm440 0h160v-160H620v160ZM180-180h160v-160H180v160Zm440 0h160v-160H620v160Z\"/>\n",
              "  </svg>\n",
              "    </button>\n",
              "\n",
              "  <style>\n",
              "    .colab-df-container {\n",
              "      display:flex;\n",
              "      gap: 12px;\n",
              "    }\n",
              "\n",
              "    .colab-df-convert {\n",
              "      background-color: #E8F0FE;\n",
              "      border: none;\n",
              "      border-radius: 50%;\n",
              "      cursor: pointer;\n",
              "      display: none;\n",
              "      fill: #1967D2;\n",
              "      height: 32px;\n",
              "      padding: 0 0 0 0;\n",
              "      width: 32px;\n",
              "    }\n",
              "\n",
              "    .colab-df-convert:hover {\n",
              "      background-color: #E2EBFA;\n",
              "      box-shadow: 0px 1px 2px rgba(60, 64, 67, 0.3), 0px 1px 3px 1px rgba(60, 64, 67, 0.15);\n",
              "      fill: #174EA6;\n",
              "    }\n",
              "\n",
              "    .colab-df-buttons div {\n",
              "      margin-bottom: 4px;\n",
              "    }\n",
              "\n",
              "    [theme=dark] .colab-df-convert {\n",
              "      background-color: #3B4455;\n",
              "      fill: #D2E3FC;\n",
              "    }\n",
              "\n",
              "    [theme=dark] .colab-df-convert:hover {\n",
              "      background-color: #434B5C;\n",
              "      box-shadow: 0px 1px 3px 1px rgba(0, 0, 0, 0.15);\n",
              "      filter: drop-shadow(0px 1px 2px rgba(0, 0, 0, 0.3));\n",
              "      fill: #FFFFFF;\n",
              "    }\n",
              "  </style>\n",
              "\n",
              "    <script>\n",
              "      const buttonEl =\n",
              "        document.querySelector('#df-a0652360-ea0f-4456-b1f2-c23fbc83203e button.colab-df-convert');\n",
              "      buttonEl.style.display =\n",
              "        google.colab.kernel.accessAllowed ? 'block' : 'none';\n",
              "\n",
              "      async function convertToInteractive(key) {\n",
              "        const element = document.querySelector('#df-a0652360-ea0f-4456-b1f2-c23fbc83203e');\n",
              "        const dataTable =\n",
              "          await google.colab.kernel.invokeFunction('convertToInteractive',\n",
              "                                                    [key], {});\n",
              "        if (!dataTable) return;\n",
              "\n",
              "        const docLinkHtml = 'Like what you see? Visit the ' +\n",
              "          '<a target=\"_blank\" href=https://colab.research.google.com/notebooks/data_table.ipynb>data table notebook</a>'\n",
              "          + ' to learn more about interactive tables.';\n",
              "        element.innerHTML = '';\n",
              "        dataTable['output_type'] = 'display_data';\n",
              "        await google.colab.output.renderOutput(dataTable, element);\n",
              "        const docLink = document.createElement('div');\n",
              "        docLink.innerHTML = docLinkHtml;\n",
              "        element.appendChild(docLink);\n",
              "      }\n",
              "    </script>\n",
              "  </div>\n",
              "\n",
              "\n",
              "<div id=\"df-4f21f640-fe7b-4997-8cf2-91bba3775eb4\">\n",
              "  <button class=\"colab-df-quickchart\" onclick=\"quickchart('df-4f21f640-fe7b-4997-8cf2-91bba3775eb4')\"\n",
              "            title=\"Suggest charts\"\n",
              "            style=\"display:none;\">\n",
              "\n",
              "<svg xmlns=\"http://www.w3.org/2000/svg\" height=\"24px\"viewBox=\"0 0 24 24\"\n",
              "     width=\"24px\">\n",
              "    <g>\n",
              "        <path d=\"M19 3H5c-1.1 0-2 .9-2 2v14c0 1.1.9 2 2 2h14c1.1 0 2-.9 2-2V5c0-1.1-.9-2-2-2zM9 17H7v-7h2v7zm4 0h-2V7h2v10zm4 0h-2v-4h2v4z\"/>\n",
              "    </g>\n",
              "</svg>\n",
              "  </button>\n",
              "\n",
              "<style>\n",
              "  .colab-df-quickchart {\n",
              "      --bg-color: #E8F0FE;\n",
              "      --fill-color: #1967D2;\n",
              "      --hover-bg-color: #E2EBFA;\n",
              "      --hover-fill-color: #174EA6;\n",
              "      --disabled-fill-color: #AAA;\n",
              "      --disabled-bg-color: #DDD;\n",
              "  }\n",
              "\n",
              "  [theme=dark] .colab-df-quickchart {\n",
              "      --bg-color: #3B4455;\n",
              "      --fill-color: #D2E3FC;\n",
              "      --hover-bg-color: #434B5C;\n",
              "      --hover-fill-color: #FFFFFF;\n",
              "      --disabled-bg-color: #3B4455;\n",
              "      --disabled-fill-color: #666;\n",
              "  }\n",
              "\n",
              "  .colab-df-quickchart {\n",
              "    background-color: var(--bg-color);\n",
              "    border: none;\n",
              "    border-radius: 50%;\n",
              "    cursor: pointer;\n",
              "    display: none;\n",
              "    fill: var(--fill-color);\n",
              "    height: 32px;\n",
              "    padding: 0;\n",
              "    width: 32px;\n",
              "  }\n",
              "\n",
              "  .colab-df-quickchart:hover {\n",
              "    background-color: var(--hover-bg-color);\n",
              "    box-shadow: 0 1px 2px rgba(60, 64, 67, 0.3), 0 1px 3px 1px rgba(60, 64, 67, 0.15);\n",
              "    fill: var(--button-hover-fill-color);\n",
              "  }\n",
              "\n",
              "  .colab-df-quickchart-complete:disabled,\n",
              "  .colab-df-quickchart-complete:disabled:hover {\n",
              "    background-color: var(--disabled-bg-color);\n",
              "    fill: var(--disabled-fill-color);\n",
              "    box-shadow: none;\n",
              "  }\n",
              "\n",
              "  .colab-df-spinner {\n",
              "    border: 2px solid var(--fill-color);\n",
              "    border-color: transparent;\n",
              "    border-bottom-color: var(--fill-color);\n",
              "    animation:\n",
              "      spin 1s steps(1) infinite;\n",
              "  }\n",
              "\n",
              "  @keyframes spin {\n",
              "    0% {\n",
              "      border-color: transparent;\n",
              "      border-bottom-color: var(--fill-color);\n",
              "      border-left-color: var(--fill-color);\n",
              "    }\n",
              "    20% {\n",
              "      border-color: transparent;\n",
              "      border-left-color: var(--fill-color);\n",
              "      border-top-color: var(--fill-color);\n",
              "    }\n",
              "    30% {\n",
              "      border-color: transparent;\n",
              "      border-left-color: var(--fill-color);\n",
              "      border-top-color: var(--fill-color);\n",
              "      border-right-color: var(--fill-color);\n",
              "    }\n",
              "    40% {\n",
              "      border-color: transparent;\n",
              "      border-right-color: var(--fill-color);\n",
              "      border-top-color: var(--fill-color);\n",
              "    }\n",
              "    60% {\n",
              "      border-color: transparent;\n",
              "      border-right-color: var(--fill-color);\n",
              "    }\n",
              "    80% {\n",
              "      border-color: transparent;\n",
              "      border-right-color: var(--fill-color);\n",
              "      border-bottom-color: var(--fill-color);\n",
              "    }\n",
              "    90% {\n",
              "      border-color: transparent;\n",
              "      border-bottom-color: var(--fill-color);\n",
              "    }\n",
              "  }\n",
              "</style>\n",
              "\n",
              "  <script>\n",
              "    async function quickchart(key) {\n",
              "      const quickchartButtonEl =\n",
              "        document.querySelector('#' + key + ' button');\n",
              "      quickchartButtonEl.disabled = true;  // To prevent multiple clicks.\n",
              "      quickchartButtonEl.classList.add('colab-df-spinner');\n",
              "      try {\n",
              "        const charts = await google.colab.kernel.invokeFunction(\n",
              "            'suggestCharts', [key], {});\n",
              "      } catch (error) {\n",
              "        console.error('Error during call to suggestCharts:', error);\n",
              "      }\n",
              "      quickchartButtonEl.classList.remove('colab-df-spinner');\n",
              "      quickchartButtonEl.classList.add('colab-df-quickchart-complete');\n",
              "    }\n",
              "    (() => {\n",
              "      let quickchartButtonEl =\n",
              "        document.querySelector('#df-4f21f640-fe7b-4997-8cf2-91bba3775eb4 button');\n",
              "      quickchartButtonEl.style.display =\n",
              "        google.colab.kernel.accessAllowed ? 'block' : 'none';\n",
              "    })();\n",
              "  </script>\n",
              "</div>\n",
              "\n",
              "    </div>\n",
              "  </div>\n"
            ],
            "application/vnd.google.colaboratory.intrinsic+json": {
              "type": "dataframe",
              "summary": "{\n  \"name\": \"df\",\n  \"rows\": 8,\n  \"fields\": [\n    {\n      \"column\": \"ID\",\n      \"properties\": {\n        \"dtype\": \"number\",\n        \"std\": 7.338588860512874,\n        \"min\": 1.0,\n        \"max\": 22.0,\n        \"num_unique_values\": 8,\n        \"samples\": [\n          10.318181818181818,\n          10.5,\n          22.0\n        ],\n        \"semantic_type\": \"\",\n        \"description\": \"\"\n      }\n    },\n    {\n      \"column\": \"Yas\",\n      \"properties\": {\n        \"dtype\": \"number\",\n        \"std\": 37.03998147616731,\n        \"min\": 19.0,\n        \"max\": 133.0,\n        \"num_unique_values\": 8,\n        \"samples\": [\n          43.21052631578947,\n          31.0,\n          19.0\n        ],\n        \"semantic_type\": \"\",\n        \"description\": \"\"\n      }\n    },\n    {\n      \"column\": \"Maas\",\n      \"properties\": {\n        \"dtype\": \"number\",\n        \"std\": 16099.653105256217,\n        \"min\": 21.0,\n        \"max\": 50000.0,\n        \"num_unique_values\": 8,\n        \"samples\": [\n          7900.0,\n          4800.0,\n          21.0\n        ],\n        \"semantic_type\": \"\",\n        \"description\": \"\"\n      }\n    },\n    {\n      \"column\": \"Calisma_Saati\",\n      \"properties\": {\n        \"dtype\": \"number\",\n        \"std\": 16.469258449526198,\n        \"min\": 7.171371656006362,\n        \"max\": 60.0,\n        \"num_unique_values\": 8,\n        \"samples\": [\n          45.0,\n          43.0,\n          22.0\n        ],\n        \"semantic_type\": \"\",\n        \"description\": \"\"\n      }\n    }\n  ]\n}"
            }
          },
          "metadata": {},
          "execution_count": 3
        }
      ]
    },
    {
      "cell_type": "code",
      "source": [
        "df.describe(include='all')"
      ],
      "metadata": {
        "colab": {
          "base_uri": "https://localhost:8080/",
          "height": 394
        },
        "id": "Gz3pHpMWxelL",
        "outputId": "c87cb40d-50e0-4fe3-8a8b-4ba6386efac4"
      },
      "execution_count": 4,
      "outputs": [
        {
          "output_type": "execute_result",
          "data": {
            "text/plain": [
              "               ID         Yas          Maas Departman Cinsiyet  Calisma_Saati  \\\n",
              "count   22.000000   19.000000     21.000000        22       17      22.000000   \n",
              "unique        NaN         NaN           NaN         3        2            NaN   \n",
              "top           NaN         NaN           NaN        IT    Kadın            NaN   \n",
              "freq          NaN         NaN           NaN         8        9            NaN   \n",
              "mean    10.318182   43.210526   7900.000000       NaN      NaN      45.000000   \n",
              "std      5.760178   30.781630  10612.539753       NaN      NaN       7.171372   \n",
              "min      1.000000   23.000000   4000.000000       NaN      NaN      36.000000   \n",
              "25%      5.250000   27.500000   4600.000000       NaN      NaN      40.000000   \n",
              "50%     10.500000   31.000000   4800.000000       NaN      NaN      43.000000   \n",
              "75%     14.750000   43.500000   5100.000000       NaN      NaN      49.250000   \n",
              "max     20.000000  133.000000  50000.000000       NaN      NaN      60.000000   \n",
              "\n",
              "       Deneyim_Seviyesi  \n",
              "count                22  \n",
              "unique                3  \n",
              "top                Orta  \n",
              "freq                  8  \n",
              "mean                NaN  \n",
              "std                 NaN  \n",
              "min                 NaN  \n",
              "25%                 NaN  \n",
              "50%                 NaN  \n",
              "75%                 NaN  \n",
              "max                 NaN  "
            ],
            "text/html": [
              "\n",
              "  <div id=\"df-97b32baa-aef3-4e46-9c32-bb8694aa2a2e\" class=\"colab-df-container\">\n",
              "    <div>\n",
              "<style scoped>\n",
              "    .dataframe tbody tr th:only-of-type {\n",
              "        vertical-align: middle;\n",
              "    }\n",
              "\n",
              "    .dataframe tbody tr th {\n",
              "        vertical-align: top;\n",
              "    }\n",
              "\n",
              "    .dataframe thead th {\n",
              "        text-align: right;\n",
              "    }\n",
              "</style>\n",
              "<table border=\"1\" class=\"dataframe\">\n",
              "  <thead>\n",
              "    <tr style=\"text-align: right;\">\n",
              "      <th></th>\n",
              "      <th>ID</th>\n",
              "      <th>Yas</th>\n",
              "      <th>Maas</th>\n",
              "      <th>Departman</th>\n",
              "      <th>Cinsiyet</th>\n",
              "      <th>Calisma_Saati</th>\n",
              "      <th>Deneyim_Seviyesi</th>\n",
              "    </tr>\n",
              "  </thead>\n",
              "  <tbody>\n",
              "    <tr>\n",
              "      <th>count</th>\n",
              "      <td>22.000000</td>\n",
              "      <td>19.000000</td>\n",
              "      <td>21.000000</td>\n",
              "      <td>22</td>\n",
              "      <td>17</td>\n",
              "      <td>22.000000</td>\n",
              "      <td>22</td>\n",
              "    </tr>\n",
              "    <tr>\n",
              "      <th>unique</th>\n",
              "      <td>NaN</td>\n",
              "      <td>NaN</td>\n",
              "      <td>NaN</td>\n",
              "      <td>3</td>\n",
              "      <td>2</td>\n",
              "      <td>NaN</td>\n",
              "      <td>3</td>\n",
              "    </tr>\n",
              "    <tr>\n",
              "      <th>top</th>\n",
              "      <td>NaN</td>\n",
              "      <td>NaN</td>\n",
              "      <td>NaN</td>\n",
              "      <td>IT</td>\n",
              "      <td>Kadın</td>\n",
              "      <td>NaN</td>\n",
              "      <td>Orta</td>\n",
              "    </tr>\n",
              "    <tr>\n",
              "      <th>freq</th>\n",
              "      <td>NaN</td>\n",
              "      <td>NaN</td>\n",
              "      <td>NaN</td>\n",
              "      <td>8</td>\n",
              "      <td>9</td>\n",
              "      <td>NaN</td>\n",
              "      <td>8</td>\n",
              "    </tr>\n",
              "    <tr>\n",
              "      <th>mean</th>\n",
              "      <td>10.318182</td>\n",
              "      <td>43.210526</td>\n",
              "      <td>7900.000000</td>\n",
              "      <td>NaN</td>\n",
              "      <td>NaN</td>\n",
              "      <td>45.000000</td>\n",
              "      <td>NaN</td>\n",
              "    </tr>\n",
              "    <tr>\n",
              "      <th>std</th>\n",
              "      <td>5.760178</td>\n",
              "      <td>30.781630</td>\n",
              "      <td>10612.539753</td>\n",
              "      <td>NaN</td>\n",
              "      <td>NaN</td>\n",
              "      <td>7.171372</td>\n",
              "      <td>NaN</td>\n",
              "    </tr>\n",
              "    <tr>\n",
              "      <th>min</th>\n",
              "      <td>1.000000</td>\n",
              "      <td>23.000000</td>\n",
              "      <td>4000.000000</td>\n",
              "      <td>NaN</td>\n",
              "      <td>NaN</td>\n",
              "      <td>36.000000</td>\n",
              "      <td>NaN</td>\n",
              "    </tr>\n",
              "    <tr>\n",
              "      <th>25%</th>\n",
              "      <td>5.250000</td>\n",
              "      <td>27.500000</td>\n",
              "      <td>4600.000000</td>\n",
              "      <td>NaN</td>\n",
              "      <td>NaN</td>\n",
              "      <td>40.000000</td>\n",
              "      <td>NaN</td>\n",
              "    </tr>\n",
              "    <tr>\n",
              "      <th>50%</th>\n",
              "      <td>10.500000</td>\n",
              "      <td>31.000000</td>\n",
              "      <td>4800.000000</td>\n",
              "      <td>NaN</td>\n",
              "      <td>NaN</td>\n",
              "      <td>43.000000</td>\n",
              "      <td>NaN</td>\n",
              "    </tr>\n",
              "    <tr>\n",
              "      <th>75%</th>\n",
              "      <td>14.750000</td>\n",
              "      <td>43.500000</td>\n",
              "      <td>5100.000000</td>\n",
              "      <td>NaN</td>\n",
              "      <td>NaN</td>\n",
              "      <td>49.250000</td>\n",
              "      <td>NaN</td>\n",
              "    </tr>\n",
              "    <tr>\n",
              "      <th>max</th>\n",
              "      <td>20.000000</td>\n",
              "      <td>133.000000</td>\n",
              "      <td>50000.000000</td>\n",
              "      <td>NaN</td>\n",
              "      <td>NaN</td>\n",
              "      <td>60.000000</td>\n",
              "      <td>NaN</td>\n",
              "    </tr>\n",
              "  </tbody>\n",
              "</table>\n",
              "</div>\n",
              "    <div class=\"colab-df-buttons\">\n",
              "\n",
              "  <div class=\"colab-df-container\">\n",
              "    <button class=\"colab-df-convert\" onclick=\"convertToInteractive('df-97b32baa-aef3-4e46-9c32-bb8694aa2a2e')\"\n",
              "            title=\"Convert this dataframe to an interactive table.\"\n",
              "            style=\"display:none;\">\n",
              "\n",
              "  <svg xmlns=\"http://www.w3.org/2000/svg\" height=\"24px\" viewBox=\"0 -960 960 960\">\n",
              "    <path d=\"M120-120v-720h720v720H120Zm60-500h600v-160H180v160Zm220 220h160v-160H400v160Zm0 220h160v-160H400v160ZM180-400h160v-160H180v160Zm440 0h160v-160H620v160ZM180-180h160v-160H180v160Zm440 0h160v-160H620v160Z\"/>\n",
              "  </svg>\n",
              "    </button>\n",
              "\n",
              "  <style>\n",
              "    .colab-df-container {\n",
              "      display:flex;\n",
              "      gap: 12px;\n",
              "    }\n",
              "\n",
              "    .colab-df-convert {\n",
              "      background-color: #E8F0FE;\n",
              "      border: none;\n",
              "      border-radius: 50%;\n",
              "      cursor: pointer;\n",
              "      display: none;\n",
              "      fill: #1967D2;\n",
              "      height: 32px;\n",
              "      padding: 0 0 0 0;\n",
              "      width: 32px;\n",
              "    }\n",
              "\n",
              "    .colab-df-convert:hover {\n",
              "      background-color: #E2EBFA;\n",
              "      box-shadow: 0px 1px 2px rgba(60, 64, 67, 0.3), 0px 1px 3px 1px rgba(60, 64, 67, 0.15);\n",
              "      fill: #174EA6;\n",
              "    }\n",
              "\n",
              "    .colab-df-buttons div {\n",
              "      margin-bottom: 4px;\n",
              "    }\n",
              "\n",
              "    [theme=dark] .colab-df-convert {\n",
              "      background-color: #3B4455;\n",
              "      fill: #D2E3FC;\n",
              "    }\n",
              "\n",
              "    [theme=dark] .colab-df-convert:hover {\n",
              "      background-color: #434B5C;\n",
              "      box-shadow: 0px 1px 3px 1px rgba(0, 0, 0, 0.15);\n",
              "      filter: drop-shadow(0px 1px 2px rgba(0, 0, 0, 0.3));\n",
              "      fill: #FFFFFF;\n",
              "    }\n",
              "  </style>\n",
              "\n",
              "    <script>\n",
              "      const buttonEl =\n",
              "        document.querySelector('#df-97b32baa-aef3-4e46-9c32-bb8694aa2a2e button.colab-df-convert');\n",
              "      buttonEl.style.display =\n",
              "        google.colab.kernel.accessAllowed ? 'block' : 'none';\n",
              "\n",
              "      async function convertToInteractive(key) {\n",
              "        const element = document.querySelector('#df-97b32baa-aef3-4e46-9c32-bb8694aa2a2e');\n",
              "        const dataTable =\n",
              "          await google.colab.kernel.invokeFunction('convertToInteractive',\n",
              "                                                    [key], {});\n",
              "        if (!dataTable) return;\n",
              "\n",
              "        const docLinkHtml = 'Like what you see? Visit the ' +\n",
              "          '<a target=\"_blank\" href=https://colab.research.google.com/notebooks/data_table.ipynb>data table notebook</a>'\n",
              "          + ' to learn more about interactive tables.';\n",
              "        element.innerHTML = '';\n",
              "        dataTable['output_type'] = 'display_data';\n",
              "        await google.colab.output.renderOutput(dataTable, element);\n",
              "        const docLink = document.createElement('div');\n",
              "        docLink.innerHTML = docLinkHtml;\n",
              "        element.appendChild(docLink);\n",
              "      }\n",
              "    </script>\n",
              "  </div>\n",
              "\n",
              "\n",
              "<div id=\"df-b1c74fcc-1912-4183-9bee-7570ed369fca\">\n",
              "  <button class=\"colab-df-quickchart\" onclick=\"quickchart('df-b1c74fcc-1912-4183-9bee-7570ed369fca')\"\n",
              "            title=\"Suggest charts\"\n",
              "            style=\"display:none;\">\n",
              "\n",
              "<svg xmlns=\"http://www.w3.org/2000/svg\" height=\"24px\"viewBox=\"0 0 24 24\"\n",
              "     width=\"24px\">\n",
              "    <g>\n",
              "        <path d=\"M19 3H5c-1.1 0-2 .9-2 2v14c0 1.1.9 2 2 2h14c1.1 0 2-.9 2-2V5c0-1.1-.9-2-2-2zM9 17H7v-7h2v7zm4 0h-2V7h2v10zm4 0h-2v-4h2v4z\"/>\n",
              "    </g>\n",
              "</svg>\n",
              "  </button>\n",
              "\n",
              "<style>\n",
              "  .colab-df-quickchart {\n",
              "      --bg-color: #E8F0FE;\n",
              "      --fill-color: #1967D2;\n",
              "      --hover-bg-color: #E2EBFA;\n",
              "      --hover-fill-color: #174EA6;\n",
              "      --disabled-fill-color: #AAA;\n",
              "      --disabled-bg-color: #DDD;\n",
              "  }\n",
              "\n",
              "  [theme=dark] .colab-df-quickchart {\n",
              "      --bg-color: #3B4455;\n",
              "      --fill-color: #D2E3FC;\n",
              "      --hover-bg-color: #434B5C;\n",
              "      --hover-fill-color: #FFFFFF;\n",
              "      --disabled-bg-color: #3B4455;\n",
              "      --disabled-fill-color: #666;\n",
              "  }\n",
              "\n",
              "  .colab-df-quickchart {\n",
              "    background-color: var(--bg-color);\n",
              "    border: none;\n",
              "    border-radius: 50%;\n",
              "    cursor: pointer;\n",
              "    display: none;\n",
              "    fill: var(--fill-color);\n",
              "    height: 32px;\n",
              "    padding: 0;\n",
              "    width: 32px;\n",
              "  }\n",
              "\n",
              "  .colab-df-quickchart:hover {\n",
              "    background-color: var(--hover-bg-color);\n",
              "    box-shadow: 0 1px 2px rgba(60, 64, 67, 0.3), 0 1px 3px 1px rgba(60, 64, 67, 0.15);\n",
              "    fill: var(--button-hover-fill-color);\n",
              "  }\n",
              "\n",
              "  .colab-df-quickchart-complete:disabled,\n",
              "  .colab-df-quickchart-complete:disabled:hover {\n",
              "    background-color: var(--disabled-bg-color);\n",
              "    fill: var(--disabled-fill-color);\n",
              "    box-shadow: none;\n",
              "  }\n",
              "\n",
              "  .colab-df-spinner {\n",
              "    border: 2px solid var(--fill-color);\n",
              "    border-color: transparent;\n",
              "    border-bottom-color: var(--fill-color);\n",
              "    animation:\n",
              "      spin 1s steps(1) infinite;\n",
              "  }\n",
              "\n",
              "  @keyframes spin {\n",
              "    0% {\n",
              "      border-color: transparent;\n",
              "      border-bottom-color: var(--fill-color);\n",
              "      border-left-color: var(--fill-color);\n",
              "    }\n",
              "    20% {\n",
              "      border-color: transparent;\n",
              "      border-left-color: var(--fill-color);\n",
              "      border-top-color: var(--fill-color);\n",
              "    }\n",
              "    30% {\n",
              "      border-color: transparent;\n",
              "      border-left-color: var(--fill-color);\n",
              "      border-top-color: var(--fill-color);\n",
              "      border-right-color: var(--fill-color);\n",
              "    }\n",
              "    40% {\n",
              "      border-color: transparent;\n",
              "      border-right-color: var(--fill-color);\n",
              "      border-top-color: var(--fill-color);\n",
              "    }\n",
              "    60% {\n",
              "      border-color: transparent;\n",
              "      border-right-color: var(--fill-color);\n",
              "    }\n",
              "    80% {\n",
              "      border-color: transparent;\n",
              "      border-right-color: var(--fill-color);\n",
              "      border-bottom-color: var(--fill-color);\n",
              "    }\n",
              "    90% {\n",
              "      border-color: transparent;\n",
              "      border-bottom-color: var(--fill-color);\n",
              "    }\n",
              "  }\n",
              "</style>\n",
              "\n",
              "  <script>\n",
              "    async function quickchart(key) {\n",
              "      const quickchartButtonEl =\n",
              "        document.querySelector('#' + key + ' button');\n",
              "      quickchartButtonEl.disabled = true;  // To prevent multiple clicks.\n",
              "      quickchartButtonEl.classList.add('colab-df-spinner');\n",
              "      try {\n",
              "        const charts = await google.colab.kernel.invokeFunction(\n",
              "            'suggestCharts', [key], {});\n",
              "      } catch (error) {\n",
              "        console.error('Error during call to suggestCharts:', error);\n",
              "      }\n",
              "      quickchartButtonEl.classList.remove('colab-df-spinner');\n",
              "      quickchartButtonEl.classList.add('colab-df-quickchart-complete');\n",
              "    }\n",
              "    (() => {\n",
              "      let quickchartButtonEl =\n",
              "        document.querySelector('#df-b1c74fcc-1912-4183-9bee-7570ed369fca button');\n",
              "      quickchartButtonEl.style.display =\n",
              "        google.colab.kernel.accessAllowed ? 'block' : 'none';\n",
              "    })();\n",
              "  </script>\n",
              "</div>\n",
              "\n",
              "    </div>\n",
              "  </div>\n"
            ],
            "application/vnd.google.colaboratory.intrinsic+json": {
              "type": "dataframe",
              "summary": "{\n  \"name\": \"df\",\n  \"rows\": 11,\n  \"fields\": [\n    {\n      \"column\": \"ID\",\n      \"properties\": {\n        \"dtype\": \"number\",\n        \"std\": 7.338588860512874,\n        \"min\": 1.0,\n        \"max\": 22.0,\n        \"num_unique_values\": 8,\n        \"samples\": [\n          10.318181818181818,\n          10.5,\n          22.0\n        ],\n        \"semantic_type\": \"\",\n        \"description\": \"\"\n      }\n    },\n    {\n      \"column\": \"Yas\",\n      \"properties\": {\n        \"dtype\": \"number\",\n        \"std\": 37.03998147616731,\n        \"min\": 19.0,\n        \"max\": 133.0,\n        \"num_unique_values\": 8,\n        \"samples\": [\n          43.21052631578947,\n          31.0,\n          19.0\n        ],\n        \"semantic_type\": \"\",\n        \"description\": \"\"\n      }\n    },\n    {\n      \"column\": \"Maas\",\n      \"properties\": {\n        \"dtype\": \"number\",\n        \"std\": 16099.653105256217,\n        \"min\": 21.0,\n        \"max\": 50000.0,\n        \"num_unique_values\": 8,\n        \"samples\": [\n          7900.0,\n          4800.0,\n          21.0\n        ],\n        \"semantic_type\": \"\",\n        \"description\": \"\"\n      }\n    },\n    {\n      \"column\": \"Departman\",\n      \"properties\": {\n        \"dtype\": \"category\",\n        \"num_unique_values\": 4,\n        \"samples\": [\n          3,\n          \"8\",\n          \"22\"\n        ],\n        \"semantic_type\": \"\",\n        \"description\": \"\"\n      }\n    },\n    {\n      \"column\": \"Cinsiyet\",\n      \"properties\": {\n        \"dtype\": \"category\",\n        \"num_unique_values\": 4,\n        \"samples\": [\n          2,\n          \"9\",\n          \"17\"\n        ],\n        \"semantic_type\": \"\",\n        \"description\": \"\"\n      }\n    },\n    {\n      \"column\": \"Calisma_Saati\",\n      \"properties\": {\n        \"dtype\": \"number\",\n        \"std\": 16.469258449526198,\n        \"min\": 7.171371656006362,\n        \"max\": 60.0,\n        \"num_unique_values\": 8,\n        \"samples\": [\n          45.0,\n          43.0,\n          22.0\n        ],\n        \"semantic_type\": \"\",\n        \"description\": \"\"\n      }\n    },\n    {\n      \"column\": \"Deneyim_Seviyesi\",\n      \"properties\": {\n        \"dtype\": \"category\",\n        \"num_unique_values\": 4,\n        \"samples\": [\n          3,\n          \"8\",\n          \"22\"\n        ],\n        \"semantic_type\": \"\",\n        \"description\": \"\"\n      }\n    }\n  ]\n}"
            }
          },
          "metadata": {},
          "execution_count": 4
        }
      ]
    },
    {
      "cell_type": "code",
      "source": [
        "df.head()"
      ],
      "metadata": {
        "colab": {
          "base_uri": "https://localhost:8080/",
          "height": 206
        },
        "id": "e8YGOUVgxhGS",
        "outputId": "1644f521-58ee-4807-ea24-3ed1086c214d"
      },
      "execution_count": 5,
      "outputs": [
        {
          "output_type": "execute_result",
          "data": {
            "text/plain": [
              "   ID   Yas    Maas  Departman Cinsiyet  Calisma_Saati Deneyim_Seviyesi\n",
              "0   1  23.0  4000.0         IT    Kadın             40        Başlangıç\n",
              "1   2  35.0  5000.0   Muhasebe    Erkek             45             Orta\n",
              "2   3  45.0  5500.0         IT    Erkek             50            İleri\n",
              "3   4  27.0  4500.0  Pazarlama    Kadın             39             Orta\n",
              "4   5   NaN  4800.0   Muhasebe    Kadın             42        Başlangıç"
            ],
            "text/html": [
              "\n",
              "  <div id=\"df-b97bed8e-fe6c-4baa-9702-6007c12c472d\" class=\"colab-df-container\">\n",
              "    <div>\n",
              "<style scoped>\n",
              "    .dataframe tbody tr th:only-of-type {\n",
              "        vertical-align: middle;\n",
              "    }\n",
              "\n",
              "    .dataframe tbody tr th {\n",
              "        vertical-align: top;\n",
              "    }\n",
              "\n",
              "    .dataframe thead th {\n",
              "        text-align: right;\n",
              "    }\n",
              "</style>\n",
              "<table border=\"1\" class=\"dataframe\">\n",
              "  <thead>\n",
              "    <tr style=\"text-align: right;\">\n",
              "      <th></th>\n",
              "      <th>ID</th>\n",
              "      <th>Yas</th>\n",
              "      <th>Maas</th>\n",
              "      <th>Departman</th>\n",
              "      <th>Cinsiyet</th>\n",
              "      <th>Calisma_Saati</th>\n",
              "      <th>Deneyim_Seviyesi</th>\n",
              "    </tr>\n",
              "  </thead>\n",
              "  <tbody>\n",
              "    <tr>\n",
              "      <th>0</th>\n",
              "      <td>1</td>\n",
              "      <td>23.0</td>\n",
              "      <td>4000.0</td>\n",
              "      <td>IT</td>\n",
              "      <td>Kadın</td>\n",
              "      <td>40</td>\n",
              "      <td>Başlangıç</td>\n",
              "    </tr>\n",
              "    <tr>\n",
              "      <th>1</th>\n",
              "      <td>2</td>\n",
              "      <td>35.0</td>\n",
              "      <td>5000.0</td>\n",
              "      <td>Muhasebe</td>\n",
              "      <td>Erkek</td>\n",
              "      <td>45</td>\n",
              "      <td>Orta</td>\n",
              "    </tr>\n",
              "    <tr>\n",
              "      <th>2</th>\n",
              "      <td>3</td>\n",
              "      <td>45.0</td>\n",
              "      <td>5500.0</td>\n",
              "      <td>IT</td>\n",
              "      <td>Erkek</td>\n",
              "      <td>50</td>\n",
              "      <td>İleri</td>\n",
              "    </tr>\n",
              "    <tr>\n",
              "      <th>3</th>\n",
              "      <td>4</td>\n",
              "      <td>27.0</td>\n",
              "      <td>4500.0</td>\n",
              "      <td>Pazarlama</td>\n",
              "      <td>Kadın</td>\n",
              "      <td>39</td>\n",
              "      <td>Orta</td>\n",
              "    </tr>\n",
              "    <tr>\n",
              "      <th>4</th>\n",
              "      <td>5</td>\n",
              "      <td>NaN</td>\n",
              "      <td>4800.0</td>\n",
              "      <td>Muhasebe</td>\n",
              "      <td>Kadın</td>\n",
              "      <td>42</td>\n",
              "      <td>Başlangıç</td>\n",
              "    </tr>\n",
              "  </tbody>\n",
              "</table>\n",
              "</div>\n",
              "    <div class=\"colab-df-buttons\">\n",
              "\n",
              "  <div class=\"colab-df-container\">\n",
              "    <button class=\"colab-df-convert\" onclick=\"convertToInteractive('df-b97bed8e-fe6c-4baa-9702-6007c12c472d')\"\n",
              "            title=\"Convert this dataframe to an interactive table.\"\n",
              "            style=\"display:none;\">\n",
              "\n",
              "  <svg xmlns=\"http://www.w3.org/2000/svg\" height=\"24px\" viewBox=\"0 -960 960 960\">\n",
              "    <path d=\"M120-120v-720h720v720H120Zm60-500h600v-160H180v160Zm220 220h160v-160H400v160Zm0 220h160v-160H400v160ZM180-400h160v-160H180v160Zm440 0h160v-160H620v160ZM180-180h160v-160H180v160Zm440 0h160v-160H620v160Z\"/>\n",
              "  </svg>\n",
              "    </button>\n",
              "\n",
              "  <style>\n",
              "    .colab-df-container {\n",
              "      display:flex;\n",
              "      gap: 12px;\n",
              "    }\n",
              "\n",
              "    .colab-df-convert {\n",
              "      background-color: #E8F0FE;\n",
              "      border: none;\n",
              "      border-radius: 50%;\n",
              "      cursor: pointer;\n",
              "      display: none;\n",
              "      fill: #1967D2;\n",
              "      height: 32px;\n",
              "      padding: 0 0 0 0;\n",
              "      width: 32px;\n",
              "    }\n",
              "\n",
              "    .colab-df-convert:hover {\n",
              "      background-color: #E2EBFA;\n",
              "      box-shadow: 0px 1px 2px rgba(60, 64, 67, 0.3), 0px 1px 3px 1px rgba(60, 64, 67, 0.15);\n",
              "      fill: #174EA6;\n",
              "    }\n",
              "\n",
              "    .colab-df-buttons div {\n",
              "      margin-bottom: 4px;\n",
              "    }\n",
              "\n",
              "    [theme=dark] .colab-df-convert {\n",
              "      background-color: #3B4455;\n",
              "      fill: #D2E3FC;\n",
              "    }\n",
              "\n",
              "    [theme=dark] .colab-df-convert:hover {\n",
              "      background-color: #434B5C;\n",
              "      box-shadow: 0px 1px 3px 1px rgba(0, 0, 0, 0.15);\n",
              "      filter: drop-shadow(0px 1px 2px rgba(0, 0, 0, 0.3));\n",
              "      fill: #FFFFFF;\n",
              "    }\n",
              "  </style>\n",
              "\n",
              "    <script>\n",
              "      const buttonEl =\n",
              "        document.querySelector('#df-b97bed8e-fe6c-4baa-9702-6007c12c472d button.colab-df-convert');\n",
              "      buttonEl.style.display =\n",
              "        google.colab.kernel.accessAllowed ? 'block' : 'none';\n",
              "\n",
              "      async function convertToInteractive(key) {\n",
              "        const element = document.querySelector('#df-b97bed8e-fe6c-4baa-9702-6007c12c472d');\n",
              "        const dataTable =\n",
              "          await google.colab.kernel.invokeFunction('convertToInteractive',\n",
              "                                                    [key], {});\n",
              "        if (!dataTable) return;\n",
              "\n",
              "        const docLinkHtml = 'Like what you see? Visit the ' +\n",
              "          '<a target=\"_blank\" href=https://colab.research.google.com/notebooks/data_table.ipynb>data table notebook</a>'\n",
              "          + ' to learn more about interactive tables.';\n",
              "        element.innerHTML = '';\n",
              "        dataTable['output_type'] = 'display_data';\n",
              "        await google.colab.output.renderOutput(dataTable, element);\n",
              "        const docLink = document.createElement('div');\n",
              "        docLink.innerHTML = docLinkHtml;\n",
              "        element.appendChild(docLink);\n",
              "      }\n",
              "    </script>\n",
              "  </div>\n",
              "\n",
              "\n",
              "<div id=\"df-7b66ffdb-a5e8-43e9-811b-c3ce8f5c419d\">\n",
              "  <button class=\"colab-df-quickchart\" onclick=\"quickchart('df-7b66ffdb-a5e8-43e9-811b-c3ce8f5c419d')\"\n",
              "            title=\"Suggest charts\"\n",
              "            style=\"display:none;\">\n",
              "\n",
              "<svg xmlns=\"http://www.w3.org/2000/svg\" height=\"24px\"viewBox=\"0 0 24 24\"\n",
              "     width=\"24px\">\n",
              "    <g>\n",
              "        <path d=\"M19 3H5c-1.1 0-2 .9-2 2v14c0 1.1.9 2 2 2h14c1.1 0 2-.9 2-2V5c0-1.1-.9-2-2-2zM9 17H7v-7h2v7zm4 0h-2V7h2v10zm4 0h-2v-4h2v4z\"/>\n",
              "    </g>\n",
              "</svg>\n",
              "  </button>\n",
              "\n",
              "<style>\n",
              "  .colab-df-quickchart {\n",
              "      --bg-color: #E8F0FE;\n",
              "      --fill-color: #1967D2;\n",
              "      --hover-bg-color: #E2EBFA;\n",
              "      --hover-fill-color: #174EA6;\n",
              "      --disabled-fill-color: #AAA;\n",
              "      --disabled-bg-color: #DDD;\n",
              "  }\n",
              "\n",
              "  [theme=dark] .colab-df-quickchart {\n",
              "      --bg-color: #3B4455;\n",
              "      --fill-color: #D2E3FC;\n",
              "      --hover-bg-color: #434B5C;\n",
              "      --hover-fill-color: #FFFFFF;\n",
              "      --disabled-bg-color: #3B4455;\n",
              "      --disabled-fill-color: #666;\n",
              "  }\n",
              "\n",
              "  .colab-df-quickchart {\n",
              "    background-color: var(--bg-color);\n",
              "    border: none;\n",
              "    border-radius: 50%;\n",
              "    cursor: pointer;\n",
              "    display: none;\n",
              "    fill: var(--fill-color);\n",
              "    height: 32px;\n",
              "    padding: 0;\n",
              "    width: 32px;\n",
              "  }\n",
              "\n",
              "  .colab-df-quickchart:hover {\n",
              "    background-color: var(--hover-bg-color);\n",
              "    box-shadow: 0 1px 2px rgba(60, 64, 67, 0.3), 0 1px 3px 1px rgba(60, 64, 67, 0.15);\n",
              "    fill: var(--button-hover-fill-color);\n",
              "  }\n",
              "\n",
              "  .colab-df-quickchart-complete:disabled,\n",
              "  .colab-df-quickchart-complete:disabled:hover {\n",
              "    background-color: var(--disabled-bg-color);\n",
              "    fill: var(--disabled-fill-color);\n",
              "    box-shadow: none;\n",
              "  }\n",
              "\n",
              "  .colab-df-spinner {\n",
              "    border: 2px solid var(--fill-color);\n",
              "    border-color: transparent;\n",
              "    border-bottom-color: var(--fill-color);\n",
              "    animation:\n",
              "      spin 1s steps(1) infinite;\n",
              "  }\n",
              "\n",
              "  @keyframes spin {\n",
              "    0% {\n",
              "      border-color: transparent;\n",
              "      border-bottom-color: var(--fill-color);\n",
              "      border-left-color: var(--fill-color);\n",
              "    }\n",
              "    20% {\n",
              "      border-color: transparent;\n",
              "      border-left-color: var(--fill-color);\n",
              "      border-top-color: var(--fill-color);\n",
              "    }\n",
              "    30% {\n",
              "      border-color: transparent;\n",
              "      border-left-color: var(--fill-color);\n",
              "      border-top-color: var(--fill-color);\n",
              "      border-right-color: var(--fill-color);\n",
              "    }\n",
              "    40% {\n",
              "      border-color: transparent;\n",
              "      border-right-color: var(--fill-color);\n",
              "      border-top-color: var(--fill-color);\n",
              "    }\n",
              "    60% {\n",
              "      border-color: transparent;\n",
              "      border-right-color: var(--fill-color);\n",
              "    }\n",
              "    80% {\n",
              "      border-color: transparent;\n",
              "      border-right-color: var(--fill-color);\n",
              "      border-bottom-color: var(--fill-color);\n",
              "    }\n",
              "    90% {\n",
              "      border-color: transparent;\n",
              "      border-bottom-color: var(--fill-color);\n",
              "    }\n",
              "  }\n",
              "</style>\n",
              "\n",
              "  <script>\n",
              "    async function quickchart(key) {\n",
              "      const quickchartButtonEl =\n",
              "        document.querySelector('#' + key + ' button');\n",
              "      quickchartButtonEl.disabled = true;  // To prevent multiple clicks.\n",
              "      quickchartButtonEl.classList.add('colab-df-spinner');\n",
              "      try {\n",
              "        const charts = await google.colab.kernel.invokeFunction(\n",
              "            'suggestCharts', [key], {});\n",
              "      } catch (error) {\n",
              "        console.error('Error during call to suggestCharts:', error);\n",
              "      }\n",
              "      quickchartButtonEl.classList.remove('colab-df-spinner');\n",
              "      quickchartButtonEl.classList.add('colab-df-quickchart-complete');\n",
              "    }\n",
              "    (() => {\n",
              "      let quickchartButtonEl =\n",
              "        document.querySelector('#df-7b66ffdb-a5e8-43e9-811b-c3ce8f5c419d button');\n",
              "      quickchartButtonEl.style.display =\n",
              "        google.colab.kernel.accessAllowed ? 'block' : 'none';\n",
              "    })();\n",
              "  </script>\n",
              "</div>\n",
              "\n",
              "    </div>\n",
              "  </div>\n"
            ],
            "application/vnd.google.colaboratory.intrinsic+json": {
              "type": "dataframe",
              "variable_name": "df",
              "summary": "{\n  \"name\": \"df\",\n  \"rows\": 22,\n  \"fields\": [\n    {\n      \"column\": \"ID\",\n      \"properties\": {\n        \"dtype\": \"number\",\n        \"std\": 5,\n        \"min\": 1,\n        \"max\": 20,\n        \"num_unique_values\": 20,\n        \"samples\": [\n          1,\n          18,\n          16\n        ],\n        \"semantic_type\": \"\",\n        \"description\": \"\"\n      }\n    },\n    {\n      \"column\": \"Yas\",\n      \"properties\": {\n        \"dtype\": \"number\",\n        \"std\": 30.781630430011734,\n        \"min\": 23.0,\n        \"max\": 133.0,\n        \"num_unique_values\": 15,\n        \"samples\": [\n          28.0,\n          25.0,\n          23.0\n        ],\n        \"semantic_type\": \"\",\n        \"description\": \"\"\n      }\n    },\n    {\n      \"column\": \"Maas\",\n      \"properties\": {\n        \"dtype\": \"number\",\n        \"std\": 10612.539752575723,\n        \"min\": 4000.0,\n        \"max\": 50000.0,\n        \"num_unique_values\": 14,\n        \"samples\": [\n          4900.0,\n          4300.0,\n          4000.0\n        ],\n        \"semantic_type\": \"\",\n        \"description\": \"\"\n      }\n    },\n    {\n      \"column\": \"Departman\",\n      \"properties\": {\n        \"dtype\": \"category\",\n        \"num_unique_values\": 3,\n        \"samples\": [\n          \"IT\",\n          \"Muhasebe\",\n          \"Pazarlama\"\n        ],\n        \"semantic_type\": \"\",\n        \"description\": \"\"\n      }\n    },\n    {\n      \"column\": \"Cinsiyet\",\n      \"properties\": {\n        \"dtype\": \"category\",\n        \"num_unique_values\": 2,\n        \"samples\": [\n          \"Erkek\",\n          \"Kad\\u0131n\"\n        ],\n        \"semantic_type\": \"\",\n        \"description\": \"\"\n      }\n    },\n    {\n      \"column\": \"Calisma_Saati\",\n      \"properties\": {\n        \"dtype\": \"number\",\n        \"std\": 7,\n        \"min\": 36,\n        \"max\": 60,\n        \"num_unique_values\": 13,\n        \"samples\": [\n          36,\n          47\n        ],\n        \"semantic_type\": \"\",\n        \"description\": \"\"\n      }\n    },\n    {\n      \"column\": \"Deneyim_Seviyesi\",\n      \"properties\": {\n        \"dtype\": \"category\",\n        \"num_unique_values\": 3,\n        \"samples\": [\n          \"Ba\\u015flang\\u0131\\u00e7\",\n          \"Orta\"\n        ],\n        \"semantic_type\": \"\",\n        \"description\": \"\"\n      }\n    }\n  ]\n}"
            }
          },
          "metadata": {},
          "execution_count": 5
        }
      ]
    },
    {
      "cell_type": "code",
      "source": [
        "df.tail(3)"
      ],
      "metadata": {
        "colab": {
          "base_uri": "https://localhost:8080/",
          "height": 143
        },
        "id": "Q-2XzGT3xjCG",
        "outputId": "08af20e7-83ef-496b-b7d1-07436bb103cc"
      },
      "execution_count": 6,
      "outputs": [
        {
          "output_type": "execute_result",
          "data": {
            "text/plain": [
              "    ID    Yas    Maas Departman Cinsiyet  Calisma_Saati Deneyim_Seviyesi\n",
              "19  20  133.0  5100.0  Muhasebe    Erkek             50            İleri\n",
              "20   5    NaN  4800.0  Muhasebe    Kadın             42        Başlangıç\n",
              "21  12   30.0  4900.0  Muhasebe    Kadın             40             Orta"
            ],
            "text/html": [
              "\n",
              "  <div id=\"df-d9648e7e-6b74-457c-83cd-24bf9362ecb3\" class=\"colab-df-container\">\n",
              "    <div>\n",
              "<style scoped>\n",
              "    .dataframe tbody tr th:only-of-type {\n",
              "        vertical-align: middle;\n",
              "    }\n",
              "\n",
              "    .dataframe tbody tr th {\n",
              "        vertical-align: top;\n",
              "    }\n",
              "\n",
              "    .dataframe thead th {\n",
              "        text-align: right;\n",
              "    }\n",
              "</style>\n",
              "<table border=\"1\" class=\"dataframe\">\n",
              "  <thead>\n",
              "    <tr style=\"text-align: right;\">\n",
              "      <th></th>\n",
              "      <th>ID</th>\n",
              "      <th>Yas</th>\n",
              "      <th>Maas</th>\n",
              "      <th>Departman</th>\n",
              "      <th>Cinsiyet</th>\n",
              "      <th>Calisma_Saati</th>\n",
              "      <th>Deneyim_Seviyesi</th>\n",
              "    </tr>\n",
              "  </thead>\n",
              "  <tbody>\n",
              "    <tr>\n",
              "      <th>19</th>\n",
              "      <td>20</td>\n",
              "      <td>133.0</td>\n",
              "      <td>5100.0</td>\n",
              "      <td>Muhasebe</td>\n",
              "      <td>Erkek</td>\n",
              "      <td>50</td>\n",
              "      <td>İleri</td>\n",
              "    </tr>\n",
              "    <tr>\n",
              "      <th>20</th>\n",
              "      <td>5</td>\n",
              "      <td>NaN</td>\n",
              "      <td>4800.0</td>\n",
              "      <td>Muhasebe</td>\n",
              "      <td>Kadın</td>\n",
              "      <td>42</td>\n",
              "      <td>Başlangıç</td>\n",
              "    </tr>\n",
              "    <tr>\n",
              "      <th>21</th>\n",
              "      <td>12</td>\n",
              "      <td>30.0</td>\n",
              "      <td>4900.0</td>\n",
              "      <td>Muhasebe</td>\n",
              "      <td>Kadın</td>\n",
              "      <td>40</td>\n",
              "      <td>Orta</td>\n",
              "    </tr>\n",
              "  </tbody>\n",
              "</table>\n",
              "</div>\n",
              "    <div class=\"colab-df-buttons\">\n",
              "\n",
              "  <div class=\"colab-df-container\">\n",
              "    <button class=\"colab-df-convert\" onclick=\"convertToInteractive('df-d9648e7e-6b74-457c-83cd-24bf9362ecb3')\"\n",
              "            title=\"Convert this dataframe to an interactive table.\"\n",
              "            style=\"display:none;\">\n",
              "\n",
              "  <svg xmlns=\"http://www.w3.org/2000/svg\" height=\"24px\" viewBox=\"0 -960 960 960\">\n",
              "    <path d=\"M120-120v-720h720v720H120Zm60-500h600v-160H180v160Zm220 220h160v-160H400v160Zm0 220h160v-160H400v160ZM180-400h160v-160H180v160Zm440 0h160v-160H620v160ZM180-180h160v-160H180v160Zm440 0h160v-160H620v160Z\"/>\n",
              "  </svg>\n",
              "    </button>\n",
              "\n",
              "  <style>\n",
              "    .colab-df-container {\n",
              "      display:flex;\n",
              "      gap: 12px;\n",
              "    }\n",
              "\n",
              "    .colab-df-convert {\n",
              "      background-color: #E8F0FE;\n",
              "      border: none;\n",
              "      border-radius: 50%;\n",
              "      cursor: pointer;\n",
              "      display: none;\n",
              "      fill: #1967D2;\n",
              "      height: 32px;\n",
              "      padding: 0 0 0 0;\n",
              "      width: 32px;\n",
              "    }\n",
              "\n",
              "    .colab-df-convert:hover {\n",
              "      background-color: #E2EBFA;\n",
              "      box-shadow: 0px 1px 2px rgba(60, 64, 67, 0.3), 0px 1px 3px 1px rgba(60, 64, 67, 0.15);\n",
              "      fill: #174EA6;\n",
              "    }\n",
              "\n",
              "    .colab-df-buttons div {\n",
              "      margin-bottom: 4px;\n",
              "    }\n",
              "\n",
              "    [theme=dark] .colab-df-convert {\n",
              "      background-color: #3B4455;\n",
              "      fill: #D2E3FC;\n",
              "    }\n",
              "\n",
              "    [theme=dark] .colab-df-convert:hover {\n",
              "      background-color: #434B5C;\n",
              "      box-shadow: 0px 1px 3px 1px rgba(0, 0, 0, 0.15);\n",
              "      filter: drop-shadow(0px 1px 2px rgba(0, 0, 0, 0.3));\n",
              "      fill: #FFFFFF;\n",
              "    }\n",
              "  </style>\n",
              "\n",
              "    <script>\n",
              "      const buttonEl =\n",
              "        document.querySelector('#df-d9648e7e-6b74-457c-83cd-24bf9362ecb3 button.colab-df-convert');\n",
              "      buttonEl.style.display =\n",
              "        google.colab.kernel.accessAllowed ? 'block' : 'none';\n",
              "\n",
              "      async function convertToInteractive(key) {\n",
              "        const element = document.querySelector('#df-d9648e7e-6b74-457c-83cd-24bf9362ecb3');\n",
              "        const dataTable =\n",
              "          await google.colab.kernel.invokeFunction('convertToInteractive',\n",
              "                                                    [key], {});\n",
              "        if (!dataTable) return;\n",
              "\n",
              "        const docLinkHtml = 'Like what you see? Visit the ' +\n",
              "          '<a target=\"_blank\" href=https://colab.research.google.com/notebooks/data_table.ipynb>data table notebook</a>'\n",
              "          + ' to learn more about interactive tables.';\n",
              "        element.innerHTML = '';\n",
              "        dataTable['output_type'] = 'display_data';\n",
              "        await google.colab.output.renderOutput(dataTable, element);\n",
              "        const docLink = document.createElement('div');\n",
              "        docLink.innerHTML = docLinkHtml;\n",
              "        element.appendChild(docLink);\n",
              "      }\n",
              "    </script>\n",
              "  </div>\n",
              "\n",
              "\n",
              "<div id=\"df-c332c715-6140-42dd-8a16-3574755319d1\">\n",
              "  <button class=\"colab-df-quickchart\" onclick=\"quickchart('df-c332c715-6140-42dd-8a16-3574755319d1')\"\n",
              "            title=\"Suggest charts\"\n",
              "            style=\"display:none;\">\n",
              "\n",
              "<svg xmlns=\"http://www.w3.org/2000/svg\" height=\"24px\"viewBox=\"0 0 24 24\"\n",
              "     width=\"24px\">\n",
              "    <g>\n",
              "        <path d=\"M19 3H5c-1.1 0-2 .9-2 2v14c0 1.1.9 2 2 2h14c1.1 0 2-.9 2-2V5c0-1.1-.9-2-2-2zM9 17H7v-7h2v7zm4 0h-2V7h2v10zm4 0h-2v-4h2v4z\"/>\n",
              "    </g>\n",
              "</svg>\n",
              "  </button>\n",
              "\n",
              "<style>\n",
              "  .colab-df-quickchart {\n",
              "      --bg-color: #E8F0FE;\n",
              "      --fill-color: #1967D2;\n",
              "      --hover-bg-color: #E2EBFA;\n",
              "      --hover-fill-color: #174EA6;\n",
              "      --disabled-fill-color: #AAA;\n",
              "      --disabled-bg-color: #DDD;\n",
              "  }\n",
              "\n",
              "  [theme=dark] .colab-df-quickchart {\n",
              "      --bg-color: #3B4455;\n",
              "      --fill-color: #D2E3FC;\n",
              "      --hover-bg-color: #434B5C;\n",
              "      --hover-fill-color: #FFFFFF;\n",
              "      --disabled-bg-color: #3B4455;\n",
              "      --disabled-fill-color: #666;\n",
              "  }\n",
              "\n",
              "  .colab-df-quickchart {\n",
              "    background-color: var(--bg-color);\n",
              "    border: none;\n",
              "    border-radius: 50%;\n",
              "    cursor: pointer;\n",
              "    display: none;\n",
              "    fill: var(--fill-color);\n",
              "    height: 32px;\n",
              "    padding: 0;\n",
              "    width: 32px;\n",
              "  }\n",
              "\n",
              "  .colab-df-quickchart:hover {\n",
              "    background-color: var(--hover-bg-color);\n",
              "    box-shadow: 0 1px 2px rgba(60, 64, 67, 0.3), 0 1px 3px 1px rgba(60, 64, 67, 0.15);\n",
              "    fill: var(--button-hover-fill-color);\n",
              "  }\n",
              "\n",
              "  .colab-df-quickchart-complete:disabled,\n",
              "  .colab-df-quickchart-complete:disabled:hover {\n",
              "    background-color: var(--disabled-bg-color);\n",
              "    fill: var(--disabled-fill-color);\n",
              "    box-shadow: none;\n",
              "  }\n",
              "\n",
              "  .colab-df-spinner {\n",
              "    border: 2px solid var(--fill-color);\n",
              "    border-color: transparent;\n",
              "    border-bottom-color: var(--fill-color);\n",
              "    animation:\n",
              "      spin 1s steps(1) infinite;\n",
              "  }\n",
              "\n",
              "  @keyframes spin {\n",
              "    0% {\n",
              "      border-color: transparent;\n",
              "      border-bottom-color: var(--fill-color);\n",
              "      border-left-color: var(--fill-color);\n",
              "    }\n",
              "    20% {\n",
              "      border-color: transparent;\n",
              "      border-left-color: var(--fill-color);\n",
              "      border-top-color: var(--fill-color);\n",
              "    }\n",
              "    30% {\n",
              "      border-color: transparent;\n",
              "      border-left-color: var(--fill-color);\n",
              "      border-top-color: var(--fill-color);\n",
              "      border-right-color: var(--fill-color);\n",
              "    }\n",
              "    40% {\n",
              "      border-color: transparent;\n",
              "      border-right-color: var(--fill-color);\n",
              "      border-top-color: var(--fill-color);\n",
              "    }\n",
              "    60% {\n",
              "      border-color: transparent;\n",
              "      border-right-color: var(--fill-color);\n",
              "    }\n",
              "    80% {\n",
              "      border-color: transparent;\n",
              "      border-right-color: var(--fill-color);\n",
              "      border-bottom-color: var(--fill-color);\n",
              "    }\n",
              "    90% {\n",
              "      border-color: transparent;\n",
              "      border-bottom-color: var(--fill-color);\n",
              "    }\n",
              "  }\n",
              "</style>\n",
              "\n",
              "  <script>\n",
              "    async function quickchart(key) {\n",
              "      const quickchartButtonEl =\n",
              "        document.querySelector('#' + key + ' button');\n",
              "      quickchartButtonEl.disabled = true;  // To prevent multiple clicks.\n",
              "      quickchartButtonEl.classList.add('colab-df-spinner');\n",
              "      try {\n",
              "        const charts = await google.colab.kernel.invokeFunction(\n",
              "            'suggestCharts', [key], {});\n",
              "      } catch (error) {\n",
              "        console.error('Error during call to suggestCharts:', error);\n",
              "      }\n",
              "      quickchartButtonEl.classList.remove('colab-df-spinner');\n",
              "      quickchartButtonEl.classList.add('colab-df-quickchart-complete');\n",
              "    }\n",
              "    (() => {\n",
              "      let quickchartButtonEl =\n",
              "        document.querySelector('#df-c332c715-6140-42dd-8a16-3574755319d1 button');\n",
              "      quickchartButtonEl.style.display =\n",
              "        google.colab.kernel.accessAllowed ? 'block' : 'none';\n",
              "    })();\n",
              "  </script>\n",
              "</div>\n",
              "\n",
              "    </div>\n",
              "  </div>\n"
            ],
            "application/vnd.google.colaboratory.intrinsic+json": {
              "type": "dataframe",
              "summary": "{\n  \"name\": \"df\",\n  \"rows\": 3,\n  \"fields\": [\n    {\n      \"column\": \"ID\",\n      \"properties\": {\n        \"dtype\": \"number\",\n        \"std\": 7,\n        \"min\": 5,\n        \"max\": 20,\n        \"num_unique_values\": 3,\n        \"samples\": [\n          20,\n          5,\n          12\n        ],\n        \"semantic_type\": \"\",\n        \"description\": \"\"\n      }\n    },\n    {\n      \"column\": \"Yas\",\n      \"properties\": {\n        \"dtype\": \"number\",\n        \"std\": 72.8319984622144,\n        \"min\": 30.0,\n        \"max\": 133.0,\n        \"num_unique_values\": 2,\n        \"samples\": [\n          30.0,\n          133.0\n        ],\n        \"semantic_type\": \"\",\n        \"description\": \"\"\n      }\n    },\n    {\n      \"column\": \"Maas\",\n      \"properties\": {\n        \"dtype\": \"number\",\n        \"std\": 152.75252316519467,\n        \"min\": 4800.0,\n        \"max\": 5100.0,\n        \"num_unique_values\": 3,\n        \"samples\": [\n          5100.0,\n          4800.0\n        ],\n        \"semantic_type\": \"\",\n        \"description\": \"\"\n      }\n    },\n    {\n      \"column\": \"Departman\",\n      \"properties\": {\n        \"dtype\": \"category\",\n        \"num_unique_values\": 1,\n        \"samples\": [\n          \"Muhasebe\"\n        ],\n        \"semantic_type\": \"\",\n        \"description\": \"\"\n      }\n    },\n    {\n      \"column\": \"Cinsiyet\",\n      \"properties\": {\n        \"dtype\": \"string\",\n        \"num_unique_values\": 2,\n        \"samples\": [\n          \"Kad\\u0131n\"\n        ],\n        \"semantic_type\": \"\",\n        \"description\": \"\"\n      }\n    },\n    {\n      \"column\": \"Calisma_Saati\",\n      \"properties\": {\n        \"dtype\": \"number\",\n        \"std\": 5,\n        \"min\": 40,\n        \"max\": 50,\n        \"num_unique_values\": 3,\n        \"samples\": [\n          50\n        ],\n        \"semantic_type\": \"\",\n        \"description\": \"\"\n      }\n    },\n    {\n      \"column\": \"Deneyim_Seviyesi\",\n      \"properties\": {\n        \"dtype\": \"string\",\n        \"num_unique_values\": 3,\n        \"samples\": [\n          \"\\u0130leri\"\n        ],\n        \"semantic_type\": \"\",\n        \"description\": \"\"\n      }\n    }\n  ]\n}"
            }
          },
          "metadata": {},
          "execution_count": 6
        }
      ]
    },
    {
      "cell_type": "code",
      "source": [
        "df['Yas'].mean()"
      ],
      "metadata": {
        "colab": {
          "base_uri": "https://localhost:8080/"
        },
        "id": "YwSBLRWVxk-X",
        "outputId": "3480d345-5ef6-49f1-93d0-58ed53cbc660"
      },
      "execution_count": 7,
      "outputs": [
        {
          "output_type": "execute_result",
          "data": {
            "text/plain": [
              "43.21052631578947"
            ]
          },
          "metadata": {},
          "execution_count": 7
        }
      ]
    },
    {
      "cell_type": "code",
      "source": [
        "df['Departman'].mode()"
      ],
      "metadata": {
        "colab": {
          "base_uri": "https://localhost:8080/",
          "height": 147
        },
        "id": "LyGsN5Zdxm9j",
        "outputId": "495009df-9fb1-491e-b904-a71624674449"
      },
      "execution_count": 8,
      "outputs": [
        {
          "output_type": "execute_result",
          "data": {
            "text/plain": [
              "0          IT\n",
              "1    Muhasebe\n",
              "Name: Departman, dtype: object"
            ],
            "text/html": [
              "<div>\n",
              "<style scoped>\n",
              "    .dataframe tbody tr th:only-of-type {\n",
              "        vertical-align: middle;\n",
              "    }\n",
              "\n",
              "    .dataframe tbody tr th {\n",
              "        vertical-align: top;\n",
              "    }\n",
              "\n",
              "    .dataframe thead th {\n",
              "        text-align: right;\n",
              "    }\n",
              "</style>\n",
              "<table border=\"1\" class=\"dataframe\">\n",
              "  <thead>\n",
              "    <tr style=\"text-align: right;\">\n",
              "      <th></th>\n",
              "      <th>Departman</th>\n",
              "    </tr>\n",
              "  </thead>\n",
              "  <tbody>\n",
              "    <tr>\n",
              "      <th>0</th>\n",
              "      <td>IT</td>\n",
              "    </tr>\n",
              "    <tr>\n",
              "      <th>1</th>\n",
              "      <td>Muhasebe</td>\n",
              "    </tr>\n",
              "  </tbody>\n",
              "</table>\n",
              "</div><br><label><b>dtype:</b> object</label>"
            ]
          },
          "metadata": {},
          "execution_count": 8
        }
      ]
    },
    {
      "cell_type": "code",
      "source": [
        "df['Calisma_Saati'].std()"
      ],
      "metadata": {
        "colab": {
          "base_uri": "https://localhost:8080/"
        },
        "id": "QUvOh1Gwxo9O",
        "outputId": "55687ff5-968b-4f23-db43-411e0481f888"
      },
      "execution_count": 9,
      "outputs": [
        {
          "output_type": "execute_result",
          "data": {
            "text/plain": [
              "7.171371656006362"
            ]
          },
          "metadata": {},
          "execution_count": 9
        }
      ]
    },
    {
      "cell_type": "code",
      "source": [
        "df['Calisma_Saati'].var()"
      ],
      "metadata": {
        "colab": {
          "base_uri": "https://localhost:8080/"
        },
        "id": "Z3iI4jUcxq_u",
        "outputId": "5598dd66-0bbb-4c3d-cba4-c8a9d944c8cc"
      },
      "execution_count": 10,
      "outputs": [
        {
          "output_type": "execute_result",
          "data": {
            "text/plain": [
              "51.42857142857143"
            ]
          },
          "metadata": {},
          "execution_count": 10
        }
      ]
    },
    {
      "cell_type": "code",
      "source": [
        "df['Yas'].min()"
      ],
      "metadata": {
        "colab": {
          "base_uri": "https://localhost:8080/"
        },
        "id": "6U3aiEHkxsq3",
        "outputId": "f202b53a-9342-4242-ed4f-fd4c042589a6"
      },
      "execution_count": 11,
      "outputs": [
        {
          "output_type": "execute_result",
          "data": {
            "text/plain": [
              "23.0"
            ]
          },
          "metadata": {},
          "execution_count": 11
        }
      ]
    },
    {
      "cell_type": "code",
      "source": [
        "df['Maas'].max()"
      ],
      "metadata": {
        "colab": {
          "base_uri": "https://localhost:8080/"
        },
        "id": "UC3PRvudxu0i",
        "outputId": "d1bb3363-f213-47a3-bc7b-4f9275b03087"
      },
      "execution_count": 12,
      "outputs": [
        {
          "output_type": "execute_result",
          "data": {
            "text/plain": [
              "50000.0"
            ]
          },
          "metadata": {},
          "execution_count": 12
        }
      ]
    },
    {
      "cell_type": "code",
      "source": [
        "df['Maas'].quantile([0.25, 0.5, 0.75])"
      ],
      "metadata": {
        "colab": {
          "base_uri": "https://localhost:8080/",
          "height": 178
        },
        "id": "ms68YvGxxwr6",
        "outputId": "d5232559-0f94-4785-cc94-290c340a6957"
      },
      "execution_count": 13,
      "outputs": [
        {
          "output_type": "execute_result",
          "data": {
            "text/plain": [
              "0.25    4600.0\n",
              "0.50    4800.0\n",
              "0.75    5100.0\n",
              "Name: Maas, dtype: float64"
            ],
            "text/html": [
              "<div>\n",
              "<style scoped>\n",
              "    .dataframe tbody tr th:only-of-type {\n",
              "        vertical-align: middle;\n",
              "    }\n",
              "\n",
              "    .dataframe tbody tr th {\n",
              "        vertical-align: top;\n",
              "    }\n",
              "\n",
              "    .dataframe thead th {\n",
              "        text-align: right;\n",
              "    }\n",
              "</style>\n",
              "<table border=\"1\" class=\"dataframe\">\n",
              "  <thead>\n",
              "    <tr style=\"text-align: right;\">\n",
              "      <th></th>\n",
              "      <th>Maas</th>\n",
              "    </tr>\n",
              "  </thead>\n",
              "  <tbody>\n",
              "    <tr>\n",
              "      <th>0.25</th>\n",
              "      <td>4600.0</td>\n",
              "    </tr>\n",
              "    <tr>\n",
              "      <th>0.50</th>\n",
              "      <td>4800.0</td>\n",
              "    </tr>\n",
              "    <tr>\n",
              "      <th>0.75</th>\n",
              "      <td>5100.0</td>\n",
              "    </tr>\n",
              "  </tbody>\n",
              "</table>\n",
              "</div><br><label><b>dtype:</b> float64</label>"
            ]
          },
          "metadata": {},
          "execution_count": 13
        }
      ]
    },
    {
      "cell_type": "code",
      "source": [
        "df.shape"
      ],
      "metadata": {
        "colab": {
          "base_uri": "https://localhost:8080/"
        },
        "id": "yYJkNi63xynG",
        "outputId": "a6f13f7d-6c17-41c3-bb30-84bf31f72efd"
      },
      "execution_count": 14,
      "outputs": [
        {
          "output_type": "execute_result",
          "data": {
            "text/plain": [
              "(22, 7)"
            ]
          },
          "metadata": {},
          "execution_count": 14
        }
      ]
    },
    {
      "cell_type": "code",
      "source": [
        "df.columns"
      ],
      "metadata": {
        "colab": {
          "base_uri": "https://localhost:8080/"
        },
        "id": "Oz54Jaekx0pm",
        "outputId": "673664da-1bfe-4700-996d-59114049f876"
      },
      "execution_count": 15,
      "outputs": [
        {
          "output_type": "execute_result",
          "data": {
            "text/plain": [
              "Index(['ID', 'Yas', 'Maas', 'Departman', 'Cinsiyet', 'Calisma_Saati',\n",
              "       'Deneyim_Seviyesi'],\n",
              "      dtype='object')"
            ]
          },
          "metadata": {},
          "execution_count": 15
        }
      ]
    },
    {
      "cell_type": "code",
      "source": [
        "df.dtypes"
      ],
      "metadata": {
        "colab": {
          "base_uri": "https://localhost:8080/",
          "height": 303
        },
        "id": "gPvLBY1Vx2Wq",
        "outputId": "ee2c83ea-0b68-49aa-da0e-63748447f12d"
      },
      "execution_count": 16,
      "outputs": [
        {
          "output_type": "execute_result",
          "data": {
            "text/plain": [
              "ID                    int64\n",
              "Yas                 float64\n",
              "Maas                float64\n",
              "Departman            object\n",
              "Cinsiyet             object\n",
              "Calisma_Saati         int64\n",
              "Deneyim_Seviyesi     object\n",
              "dtype: object"
            ],
            "text/html": [
              "<div>\n",
              "<style scoped>\n",
              "    .dataframe tbody tr th:only-of-type {\n",
              "        vertical-align: middle;\n",
              "    }\n",
              "\n",
              "    .dataframe tbody tr th {\n",
              "        vertical-align: top;\n",
              "    }\n",
              "\n",
              "    .dataframe thead th {\n",
              "        text-align: right;\n",
              "    }\n",
              "</style>\n",
              "<table border=\"1\" class=\"dataframe\">\n",
              "  <thead>\n",
              "    <tr style=\"text-align: right;\">\n",
              "      <th></th>\n",
              "      <th>0</th>\n",
              "    </tr>\n",
              "  </thead>\n",
              "  <tbody>\n",
              "    <tr>\n",
              "      <th>ID</th>\n",
              "      <td>int64</td>\n",
              "    </tr>\n",
              "    <tr>\n",
              "      <th>Yas</th>\n",
              "      <td>float64</td>\n",
              "    </tr>\n",
              "    <tr>\n",
              "      <th>Maas</th>\n",
              "      <td>float64</td>\n",
              "    </tr>\n",
              "    <tr>\n",
              "      <th>Departman</th>\n",
              "      <td>object</td>\n",
              "    </tr>\n",
              "    <tr>\n",
              "      <th>Cinsiyet</th>\n",
              "      <td>object</td>\n",
              "    </tr>\n",
              "    <tr>\n",
              "      <th>Calisma_Saati</th>\n",
              "      <td>int64</td>\n",
              "    </tr>\n",
              "    <tr>\n",
              "      <th>Deneyim_Seviyesi</th>\n",
              "      <td>object</td>\n",
              "    </tr>\n",
              "  </tbody>\n",
              "</table>\n",
              "</div><br><label><b>dtype:</b> object</label>"
            ]
          },
          "metadata": {},
          "execution_count": 16
        }
      ]
    },
    {
      "cell_type": "code",
      "source": [
        "\n",
        "df.select_dtypes(include=[np.number]).corr()"
      ],
      "metadata": {
        "colab": {
          "base_uri": "https://localhost:8080/",
          "height": 175
        },
        "id": "c_ggkKhwx4rw",
        "outputId": "c5061196-f705-44f9-928e-dc89b212f7a0"
      },
      "execution_count": 17,
      "outputs": [
        {
          "output_type": "execute_result",
          "data": {
            "text/plain": [
              "                     ID       Yas      Maas  Calisma_Saati\n",
              "ID             1.000000  0.274634  0.089357       0.200582\n",
              "Yas            0.274634  1.000000 -0.135570       0.158280\n",
              "Maas           0.089357 -0.135570  1.000000       0.015504\n",
              "Calisma_Saati  0.200582  0.158280  0.015504       1.000000"
            ],
            "text/html": [
              "\n",
              "  <div id=\"df-ce7d1ed8-28a7-4f38-9d1e-c1fbbb90c443\" class=\"colab-df-container\">\n",
              "    <div>\n",
              "<style scoped>\n",
              "    .dataframe tbody tr th:only-of-type {\n",
              "        vertical-align: middle;\n",
              "    }\n",
              "\n",
              "    .dataframe tbody tr th {\n",
              "        vertical-align: top;\n",
              "    }\n",
              "\n",
              "    .dataframe thead th {\n",
              "        text-align: right;\n",
              "    }\n",
              "</style>\n",
              "<table border=\"1\" class=\"dataframe\">\n",
              "  <thead>\n",
              "    <tr style=\"text-align: right;\">\n",
              "      <th></th>\n",
              "      <th>ID</th>\n",
              "      <th>Yas</th>\n",
              "      <th>Maas</th>\n",
              "      <th>Calisma_Saati</th>\n",
              "    </tr>\n",
              "  </thead>\n",
              "  <tbody>\n",
              "    <tr>\n",
              "      <th>ID</th>\n",
              "      <td>1.000000</td>\n",
              "      <td>0.274634</td>\n",
              "      <td>0.089357</td>\n",
              "      <td>0.200582</td>\n",
              "    </tr>\n",
              "    <tr>\n",
              "      <th>Yas</th>\n",
              "      <td>0.274634</td>\n",
              "      <td>1.000000</td>\n",
              "      <td>-0.135570</td>\n",
              "      <td>0.158280</td>\n",
              "    </tr>\n",
              "    <tr>\n",
              "      <th>Maas</th>\n",
              "      <td>0.089357</td>\n",
              "      <td>-0.135570</td>\n",
              "      <td>1.000000</td>\n",
              "      <td>0.015504</td>\n",
              "    </tr>\n",
              "    <tr>\n",
              "      <th>Calisma_Saati</th>\n",
              "      <td>0.200582</td>\n",
              "      <td>0.158280</td>\n",
              "      <td>0.015504</td>\n",
              "      <td>1.000000</td>\n",
              "    </tr>\n",
              "  </tbody>\n",
              "</table>\n",
              "</div>\n",
              "    <div class=\"colab-df-buttons\">\n",
              "\n",
              "  <div class=\"colab-df-container\">\n",
              "    <button class=\"colab-df-convert\" onclick=\"convertToInteractive('df-ce7d1ed8-28a7-4f38-9d1e-c1fbbb90c443')\"\n",
              "            title=\"Convert this dataframe to an interactive table.\"\n",
              "            style=\"display:none;\">\n",
              "\n",
              "  <svg xmlns=\"http://www.w3.org/2000/svg\" height=\"24px\" viewBox=\"0 -960 960 960\">\n",
              "    <path d=\"M120-120v-720h720v720H120Zm60-500h600v-160H180v160Zm220 220h160v-160H400v160Zm0 220h160v-160H400v160ZM180-400h160v-160H180v160Zm440 0h160v-160H620v160ZM180-180h160v-160H180v160Zm440 0h160v-160H620v160Z\"/>\n",
              "  </svg>\n",
              "    </button>\n",
              "\n",
              "  <style>\n",
              "    .colab-df-container {\n",
              "      display:flex;\n",
              "      gap: 12px;\n",
              "    }\n",
              "\n",
              "    .colab-df-convert {\n",
              "      background-color: #E8F0FE;\n",
              "      border: none;\n",
              "      border-radius: 50%;\n",
              "      cursor: pointer;\n",
              "      display: none;\n",
              "      fill: #1967D2;\n",
              "      height: 32px;\n",
              "      padding: 0 0 0 0;\n",
              "      width: 32px;\n",
              "    }\n",
              "\n",
              "    .colab-df-convert:hover {\n",
              "      background-color: #E2EBFA;\n",
              "      box-shadow: 0px 1px 2px rgba(60, 64, 67, 0.3), 0px 1px 3px 1px rgba(60, 64, 67, 0.15);\n",
              "      fill: #174EA6;\n",
              "    }\n",
              "\n",
              "    .colab-df-buttons div {\n",
              "      margin-bottom: 4px;\n",
              "    }\n",
              "\n",
              "    [theme=dark] .colab-df-convert {\n",
              "      background-color: #3B4455;\n",
              "      fill: #D2E3FC;\n",
              "    }\n",
              "\n",
              "    [theme=dark] .colab-df-convert:hover {\n",
              "      background-color: #434B5C;\n",
              "      box-shadow: 0px 1px 3px 1px rgba(0, 0, 0, 0.15);\n",
              "      filter: drop-shadow(0px 1px 2px rgba(0, 0, 0, 0.3));\n",
              "      fill: #FFFFFF;\n",
              "    }\n",
              "  </style>\n",
              "\n",
              "    <script>\n",
              "      const buttonEl =\n",
              "        document.querySelector('#df-ce7d1ed8-28a7-4f38-9d1e-c1fbbb90c443 button.colab-df-convert');\n",
              "      buttonEl.style.display =\n",
              "        google.colab.kernel.accessAllowed ? 'block' : 'none';\n",
              "\n",
              "      async function convertToInteractive(key) {\n",
              "        const element = document.querySelector('#df-ce7d1ed8-28a7-4f38-9d1e-c1fbbb90c443');\n",
              "        const dataTable =\n",
              "          await google.colab.kernel.invokeFunction('convertToInteractive',\n",
              "                                                    [key], {});\n",
              "        if (!dataTable) return;\n",
              "\n",
              "        const docLinkHtml = 'Like what you see? Visit the ' +\n",
              "          '<a target=\"_blank\" href=https://colab.research.google.com/notebooks/data_table.ipynb>data table notebook</a>'\n",
              "          + ' to learn more about interactive tables.';\n",
              "        element.innerHTML = '';\n",
              "        dataTable['output_type'] = 'display_data';\n",
              "        await google.colab.output.renderOutput(dataTable, element);\n",
              "        const docLink = document.createElement('div');\n",
              "        docLink.innerHTML = docLinkHtml;\n",
              "        element.appendChild(docLink);\n",
              "      }\n",
              "    </script>\n",
              "  </div>\n",
              "\n",
              "\n",
              "<div id=\"df-d3678ca5-5d04-4069-a421-904bff170b5b\">\n",
              "  <button class=\"colab-df-quickchart\" onclick=\"quickchart('df-d3678ca5-5d04-4069-a421-904bff170b5b')\"\n",
              "            title=\"Suggest charts\"\n",
              "            style=\"display:none;\">\n",
              "\n",
              "<svg xmlns=\"http://www.w3.org/2000/svg\" height=\"24px\"viewBox=\"0 0 24 24\"\n",
              "     width=\"24px\">\n",
              "    <g>\n",
              "        <path d=\"M19 3H5c-1.1 0-2 .9-2 2v14c0 1.1.9 2 2 2h14c1.1 0 2-.9 2-2V5c0-1.1-.9-2-2-2zM9 17H7v-7h2v7zm4 0h-2V7h2v10zm4 0h-2v-4h2v4z\"/>\n",
              "    </g>\n",
              "</svg>\n",
              "  </button>\n",
              "\n",
              "<style>\n",
              "  .colab-df-quickchart {\n",
              "      --bg-color: #E8F0FE;\n",
              "      --fill-color: #1967D2;\n",
              "      --hover-bg-color: #E2EBFA;\n",
              "      --hover-fill-color: #174EA6;\n",
              "      --disabled-fill-color: #AAA;\n",
              "      --disabled-bg-color: #DDD;\n",
              "  }\n",
              "\n",
              "  [theme=dark] .colab-df-quickchart {\n",
              "      --bg-color: #3B4455;\n",
              "      --fill-color: #D2E3FC;\n",
              "      --hover-bg-color: #434B5C;\n",
              "      --hover-fill-color: #FFFFFF;\n",
              "      --disabled-bg-color: #3B4455;\n",
              "      --disabled-fill-color: #666;\n",
              "  }\n",
              "\n",
              "  .colab-df-quickchart {\n",
              "    background-color: var(--bg-color);\n",
              "    border: none;\n",
              "    border-radius: 50%;\n",
              "    cursor: pointer;\n",
              "    display: none;\n",
              "    fill: var(--fill-color);\n",
              "    height: 32px;\n",
              "    padding: 0;\n",
              "    width: 32px;\n",
              "  }\n",
              "\n",
              "  .colab-df-quickchart:hover {\n",
              "    background-color: var(--hover-bg-color);\n",
              "    box-shadow: 0 1px 2px rgba(60, 64, 67, 0.3), 0 1px 3px 1px rgba(60, 64, 67, 0.15);\n",
              "    fill: var(--button-hover-fill-color);\n",
              "  }\n",
              "\n",
              "  .colab-df-quickchart-complete:disabled,\n",
              "  .colab-df-quickchart-complete:disabled:hover {\n",
              "    background-color: var(--disabled-bg-color);\n",
              "    fill: var(--disabled-fill-color);\n",
              "    box-shadow: none;\n",
              "  }\n",
              "\n",
              "  .colab-df-spinner {\n",
              "    border: 2px solid var(--fill-color);\n",
              "    border-color: transparent;\n",
              "    border-bottom-color: var(--fill-color);\n",
              "    animation:\n",
              "      spin 1s steps(1) infinite;\n",
              "  }\n",
              "\n",
              "  @keyframes spin {\n",
              "    0% {\n",
              "      border-color: transparent;\n",
              "      border-bottom-color: var(--fill-color);\n",
              "      border-left-color: var(--fill-color);\n",
              "    }\n",
              "    20% {\n",
              "      border-color: transparent;\n",
              "      border-left-color: var(--fill-color);\n",
              "      border-top-color: var(--fill-color);\n",
              "    }\n",
              "    30% {\n",
              "      border-color: transparent;\n",
              "      border-left-color: var(--fill-color);\n",
              "      border-top-color: var(--fill-color);\n",
              "      border-right-color: var(--fill-color);\n",
              "    }\n",
              "    40% {\n",
              "      border-color: transparent;\n",
              "      border-right-color: var(--fill-color);\n",
              "      border-top-color: var(--fill-color);\n",
              "    }\n",
              "    60% {\n",
              "      border-color: transparent;\n",
              "      border-right-color: var(--fill-color);\n",
              "    }\n",
              "    80% {\n",
              "      border-color: transparent;\n",
              "      border-right-color: var(--fill-color);\n",
              "      border-bottom-color: var(--fill-color);\n",
              "    }\n",
              "    90% {\n",
              "      border-color: transparent;\n",
              "      border-bottom-color: var(--fill-color);\n",
              "    }\n",
              "  }\n",
              "</style>\n",
              "\n",
              "  <script>\n",
              "    async function quickchart(key) {\n",
              "      const quickchartButtonEl =\n",
              "        document.querySelector('#' + key + ' button');\n",
              "      quickchartButtonEl.disabled = true;  // To prevent multiple clicks.\n",
              "      quickchartButtonEl.classList.add('colab-df-spinner');\n",
              "      try {\n",
              "        const charts = await google.colab.kernel.invokeFunction(\n",
              "            'suggestCharts', [key], {});\n",
              "      } catch (error) {\n",
              "        console.error('Error during call to suggestCharts:', error);\n",
              "      }\n",
              "      quickchartButtonEl.classList.remove('colab-df-spinner');\n",
              "      quickchartButtonEl.classList.add('colab-df-quickchart-complete');\n",
              "    }\n",
              "    (() => {\n",
              "      let quickchartButtonEl =\n",
              "        document.querySelector('#df-d3678ca5-5d04-4069-a421-904bff170b5b button');\n",
              "      quickchartButtonEl.style.display =\n",
              "        google.colab.kernel.accessAllowed ? 'block' : 'none';\n",
              "    })();\n",
              "  </script>\n",
              "</div>\n",
              "\n",
              "    </div>\n",
              "  </div>\n"
            ],
            "application/vnd.google.colaboratory.intrinsic+json": {
              "type": "dataframe",
              "summary": "{\n  \"name\": \"df\",\n  \"rows\": 4,\n  \"fields\": [\n    {\n      \"column\": \"ID\",\n      \"properties\": {\n        \"dtype\": \"number\",\n        \"std\": 0.41298478925765275,\n        \"min\": 0.0893572823720977,\n        \"max\": 1.0,\n        \"num_unique_values\": 4,\n        \"samples\": [\n          0.27463411604276416,\n          0.20058192679549142,\n          1.0\n        ],\n        \"semantic_type\": \"\",\n        \"description\": \"\"\n      }\n    },\n    {\n      \"column\": \"Yas\",\n      \"properties\": {\n        \"dtype\": \"number\",\n        \"std\": 0.4823831674702121,\n        \"min\": -0.13557031429955904,\n        \"max\": 1.0,\n        \"num_unique_values\": 4,\n        \"samples\": [\n          1.0,\n          0.15827991104719624,\n          0.27463411604276416\n        ],\n        \"semantic_type\": \"\",\n        \"description\": \"\"\n      }\n    },\n    {\n      \"column\": \"Maas\",\n      \"properties\": {\n        \"dtype\": \"number\",\n        \"std\": 0.5137195143285828,\n        \"min\": -0.13557031429955904,\n        \"max\": 1.0,\n        \"num_unique_values\": 4,\n        \"samples\": [\n          -0.13557031429955904,\n          0.015503877976319502,\n          0.0893572823720977\n        ],\n        \"semantic_type\": \"\",\n        \"description\": \"\"\n      }\n    },\n    {\n      \"column\": \"Calisma_Saati\",\n      \"properties\": {\n        \"dtype\": \"number\",\n        \"std\": 0.4447117904237649,\n        \"min\": 0.015503877976319502,\n        \"max\": 1.0,\n        \"num_unique_values\": 4,\n        \"samples\": [\n          0.15827991104719624,\n          1.0,\n          0.20058192679549142\n        ],\n        \"semantic_type\": \"\",\n        \"description\": \"\"\n      }\n    }\n  ]\n}"
            }
          },
          "metadata": {},
          "execution_count": 17
        }
      ]
    },
    {
      "cell_type": "code",
      "source": [
        "df['Departman'].value_counts()"
      ],
      "metadata": {
        "colab": {
          "base_uri": "https://localhost:8080/",
          "height": 209
        },
        "id": "Ltvspwmhx6sf",
        "outputId": "8a07e613-40ac-4e4a-945c-aff19d60a36b"
      },
      "execution_count": 18,
      "outputs": [
        {
          "output_type": "execute_result",
          "data": {
            "text/plain": [
              "Departman\n",
              "IT           8\n",
              "Muhasebe     8\n",
              "Pazarlama    6\n",
              "Name: count, dtype: int64"
            ],
            "text/html": [
              "<div>\n",
              "<style scoped>\n",
              "    .dataframe tbody tr th:only-of-type {\n",
              "        vertical-align: middle;\n",
              "    }\n",
              "\n",
              "    .dataframe tbody tr th {\n",
              "        vertical-align: top;\n",
              "    }\n",
              "\n",
              "    .dataframe thead th {\n",
              "        text-align: right;\n",
              "    }\n",
              "</style>\n",
              "<table border=\"1\" class=\"dataframe\">\n",
              "  <thead>\n",
              "    <tr style=\"text-align: right;\">\n",
              "      <th></th>\n",
              "      <th>count</th>\n",
              "    </tr>\n",
              "    <tr>\n",
              "      <th>Departman</th>\n",
              "      <th></th>\n",
              "    </tr>\n",
              "  </thead>\n",
              "  <tbody>\n",
              "    <tr>\n",
              "      <th>IT</th>\n",
              "      <td>8</td>\n",
              "    </tr>\n",
              "    <tr>\n",
              "      <th>Muhasebe</th>\n",
              "      <td>8</td>\n",
              "    </tr>\n",
              "    <tr>\n",
              "      <th>Pazarlama</th>\n",
              "      <td>6</td>\n",
              "    </tr>\n",
              "  </tbody>\n",
              "</table>\n",
              "</div><br><label><b>dtype:</b> int64</label>"
            ]
          },
          "metadata": {},
          "execution_count": 18
        }
      ]
    },
    {
      "cell_type": "code",
      "source": [
        "print(\"\\nHer Sütundaki Eksik Değerlerin Sayısı:\")\n",
        "print(df.isnull().sum())"
      ],
      "metadata": {
        "colab": {
          "base_uri": "https://localhost:8080/"
        },
        "id": "gU-r-NhGx8ru",
        "outputId": "3dfa00e8-6ce5-4606-a86e-c862c9bbb90e"
      },
      "execution_count": 19,
      "outputs": [
        {
          "output_type": "stream",
          "name": "stdout",
          "text": [
            "\n",
            "Her Sütundaki Eksik Değerlerin Sayısı:\n",
            "ID                  0\n",
            "Yas                 3\n",
            "Maas                1\n",
            "Departman           0\n",
            "Cinsiyet            5\n",
            "Calisma_Saati       0\n",
            "Deneyim_Seviyesi    0\n",
            "dtype: int64\n"
          ]
        }
      ]
    },
    {
      "cell_type": "code",
      "source": [
        "import seaborn as sns\n",
        "import matplotlib.pyplot as plt\n",
        "\n",
        "missing_values = df.isnull().sum()\n",
        "\n",
        "plt.figure(figsize=(5, 3))\n",
        "\n",
        "\n",
        "sns.barplot(x=missing_values.index, y=missing_values.values, palette=\"viridis\")\n",
        "\n",
        "\n",
        "plt.xticks(rotation=45)\n",
        "\n",
        "\n",
        "plt.ylabel(\"Eksik Değer Sayısı\")\n",
        "\n",
        "\n",
        "plt.xlabel(\"Sütunlar\")\n",
        "\n",
        "\n",
        "plt.title(\"Her Sütundaki Eksik Değer Sayısı\")\n",
        "\n",
        "\n",
        "plt.show()"
      ],
      "metadata": {
        "colab": {
          "base_uri": "https://localhost:8080/",
          "height": 509
        },
        "id": "i2mQJJtgyAiZ",
        "outputId": "e8f7e418-72a7-4eec-f7d4-d4e89ca40463"
      },
      "execution_count": 21,
      "outputs": [
        {
          "output_type": "stream",
          "name": "stderr",
          "text": [
            "<ipython-input-21-ba0171e6e99e>:9: FutureWarning: \n",
            "\n",
            "Passing `palette` without assigning `hue` is deprecated and will be removed in v0.14.0. Assign the `x` variable to `hue` and set `legend=False` for the same effect.\n",
            "\n",
            "  sns.barplot(x=missing_values.index, y=missing_values.values, palette=\"viridis\")\n"
          ]
        },
        {
          "output_type": "display_data",
          "data": {
            "text/plain": [
              "<Figure size 500x300 with 1 Axes>"
            ],
            "image/png": "[encoded data removed]"
          },
          "metadata": {}
        }
      ]
    },
    {
      "cell_type": "code",
      "source": [
        "print(df['Yas'].median())\n",
        "\n",
        "df['Yas'].fillna(df['Yas'].median(), inplace=True)\n",
        "\n",
        "print(df)"
      ],
      "metadata": {
        "colab": {
          "base_uri": "https://localhost:8080/"
        },
        "id": "lHf69huzyQ7R",
        "outputId": "844f3586-a87a-4347-be62-e6e88cbe755e"
      },
      "execution_count": 22,
      "outputs": [
        {
          "output_type": "stream",
          "name": "stdout",
          "text": [
            "31.0\n",
            "    ID    Yas     Maas  Departman Cinsiyet  Calisma_Saati Deneyim_Seviyesi\n",
            "0    1   23.0   4000.0         IT    Kadın             40        Başlangıç\n",
            "1    2   35.0   5000.0   Muhasebe    Erkek             45             Orta\n",
            "2    3   45.0   5500.0         IT    Erkek             50            İleri\n",
            "3    4   27.0   4500.0  Pazarlama    Kadın             39             Orta\n",
            "4    5   31.0   4800.0   Muhasebe    Kadın             42        Başlangıç\n",
            "5    6   31.0   4700.0  Pazarlama    Erkek             37             Orta\n",
            "6    7   29.0   5000.0         IT    Erkek             45            İleri\n",
            "7    8   42.0   5200.0         IT    Kadın             60            İleri\n",
            "8    9  120.0      NaN   Muhasebe      NaN             38        Başlangıç\n",
            "9   10   34.0  25000.0  Pazarlama    Kadın             55            İleri\n",
            "10  11   28.0   4600.0         IT    Erkek             47             Orta\n",
            "11  12   30.0   4900.0   Muhasebe    Kadın             40             Orta\n",
            "12  13   25.0  50000.0  Pazarlama      NaN             41        Başlangıç\n",
            "13  14   45.0   4300.0  Pazarlama    Erkek             39            İleri\n",
            "14  15   31.0   4000.0         IT      NaN             55        Başlangıç\n",
            "15  16   32.0   4700.0   Muhasebe      NaN             36             Orta\n",
            "16  17   60.0   5600.0         IT      NaN             60            İleri\n",
            "17  18   25.0   4800.0  Pazarlama    Kadın             44        Başlangıç\n",
            "18  19   27.0   4500.0         IT    Erkek             45             Orta\n",
            "19  20  133.0   5100.0   Muhasebe    Erkek             50            İleri\n",
            "20   5   31.0   4800.0   Muhasebe    Kadın             42        Başlangıç\n",
            "21  12   30.0   4900.0   Muhasebe    Kadın             40             Orta\n"
          ]
        },
        {
          "output_type": "stream",
          "name": "stderr",
          "text": [
            "<ipython-input-22-41875a1e54ff>:3: FutureWarning: A value is trying to be set on a copy of a DataFrame or Series through chained assignment using an inplace method.\n",
            "The behavior will change in pandas 3.0. This inplace method will never work because the intermediate object on which we are setting values always behaves as a copy.\n",
            "\n",
            "For example, when doing 'df[col].method(value, inplace=True)', try using 'df.method({col: value}, inplace=True)' or df[col] = df[col].method(value) instead, to perform the operation inplace on the original object.\n",
            "\n",
            "\n",
            "  df['Yas'].fillna(df['Yas'].median(), inplace=True)\n"
          ]
        }
      ]
    },
    {
      "cell_type": "code",
      "source": [
        "df['Cinsiyet'].fillna('Bilinmeyen', inplace=True)\n",
        "\n",
        "print(df)"
      ],
      "metadata": {
        "colab": {
          "base_uri": "https://localhost:8080/"
        },
        "id": "3Fxm4e0tyXPr",
        "outputId": "ceaf2102-a1b7-425a-98dd-4309d1a40cb5"
      },
      "execution_count": 23,
      "outputs": [
        {
          "output_type": "stream",
          "name": "stdout",
          "text": [
            "    ID    Yas     Maas  Departman    Cinsiyet  Calisma_Saati Deneyim_Seviyesi\n",
            "0    1   23.0   4000.0         IT       Kadın             40        Başlangıç\n",
            "1    2   35.0   5000.0   Muhasebe       Erkek             45             Orta\n",
            "2    3   45.0   5500.0         IT       Erkek             50            İleri\n",
            "3    4   27.0   4500.0  Pazarlama       Kadın             39             Orta\n",
            "4    5   31.0   4800.0   Muhasebe       Kadın             42        Başlangıç\n",
            "5    6   31.0   4700.0  Pazarlama       Erkek             37             Orta\n",
            "6    7   29.0   5000.0         IT       Erkek             45            İleri\n",
            "7    8   42.0   5200.0         IT       Kadın             60            İleri\n",
            "8    9  120.0      NaN   Muhasebe  Bilinmeyen             38        Başlangıç\n",
            "9   10   34.0  25000.0  Pazarlama       Kadın             55            İleri\n",
            "10  11   28.0   4600.0         IT       Erkek             47             Orta\n",
            "11  12   30.0   4900.0   Muhasebe       Kadın             40             Orta\n",
            "12  13   25.0  50000.0  Pazarlama  Bilinmeyen             41        Başlangıç\n",
            "13  14   45.0   4300.0  Pazarlama       Erkek             39            İleri\n",
            "14  15   31.0   4000.0         IT  Bilinmeyen             55        Başlangıç\n",
            "15  16   32.0   4700.0   Muhasebe  Bilinmeyen             36             Orta\n",
            "16  17   60.0   5600.0         IT  Bilinmeyen             60            İleri\n",
            "17  18   25.0   4800.0  Pazarlama       Kadın             44        Başlangıç\n",
            "18  19   27.0   4500.0         IT       Erkek             45             Orta\n",
            "19  20  133.0   5100.0   Muhasebe       Erkek             50            İleri\n",
            "20   5   31.0   4800.0   Muhasebe       Kadın             42        Başlangıç\n",
            "21  12   30.0   4900.0   Muhasebe       Kadın             40             Orta\n"
          ]
        },
        {
          "output_type": "stream",
          "name": "stderr",
          "text": [
            "<ipython-input-23-0321a5452a5b>:1: FutureWarning: A value is trying to be set on a copy of a DataFrame or Series through chained assignment using an inplace method.\n",
            "The behavior will change in pandas 3.0. This inplace method will never work because the intermediate object on which we are setting values always behaves as a copy.\n",
            "\n",
            "For example, when doing 'df[col].method(value, inplace=True)', try using 'df.method({col: value}, inplace=True)' or df[col] = df[col].method(value) instead, to perform the operation inplace on the original object.\n",
            "\n",
            "\n",
            "  df['Cinsiyet'].fillna('Bilinmeyen', inplace=True)\n"
          ]
        }
      ]
    },
    {
      "cell_type": "code",
      "source": [
        "print(df['Maas'].mean())\n",
        "\n",
        "df['Maas'].fillna(df['Maas'].mean(), inplace=True)\n",
        "\n",
        "print(df)"
      ],
      "metadata": {
        "colab": {
          "base_uri": "https://localhost:8080/"
        },
        "id": "v-oMf4kLyaXn",
        "outputId": "bd83cca7-b297-44aa-c2ea-cd7e9a988617"
      },
      "execution_count": 24,
      "outputs": [
        {
          "output_type": "stream",
          "name": "stdout",
          "text": [
            "7900.0\n",
            "    ID    Yas     Maas  Departman    Cinsiyet  Calisma_Saati Deneyim_Seviyesi\n",
            "0    1   23.0   4000.0         IT       Kadın             40        Başlangıç\n",
            "1    2   35.0   5000.0   Muhasebe       Erkek             45             Orta\n",
            "2    3   45.0   5500.0         IT       Erkek             50            İleri\n",
            "3    4   27.0   4500.0  Pazarlama       Kadın             39             Orta\n",
            "4    5   31.0   4800.0   Muhasebe       Kadın             42        Başlangıç\n",
            "5    6   31.0   4700.0  Pazarlama       Erkek             37             Orta\n",
            "6    7   29.0   5000.0         IT       Erkek             45            İleri\n",
            "7    8   42.0   5200.0         IT       Kadın             60            İleri\n",
            "8    9  120.0   7900.0   Muhasebe  Bilinmeyen             38        Başlangıç\n",
            "9   10   34.0  25000.0  Pazarlama       Kadın             55            İleri\n",
            "10  11   28.0   4600.0         IT       Erkek             47             Orta\n",
            "11  12   30.0   4900.0   Muhasebe       Kadın             40             Orta\n",
            "12  13   25.0  50000.0  Pazarlama  Bilinmeyen             41        Başlangıç\n",
            "13  14   45.0   4300.0  Pazarlama       Erkek             39            İleri\n",
            "14  15   31.0   4000.0         IT  Bilinmeyen             55        Başlangıç\n",
            "15  16   32.0   4700.0   Muhasebe  Bilinmeyen             36             Orta\n",
            "16  17   60.0   5600.0         IT  Bilinmeyen             60            İleri\n",
            "17  18   25.0   4800.0  Pazarlama       Kadın             44        Başlangıç\n",
            "18  19   27.0   4500.0         IT       Erkek             45             Orta\n",
            "19  20  133.0   5100.0   Muhasebe       Erkek             50            İleri\n",
            "20   5   31.0   4800.0   Muhasebe       Kadın             42        Başlangıç\n",
            "21  12   30.0   4900.0   Muhasebe       Kadın             40             Orta\n"
          ]
        },
        {
          "output_type": "stream",
          "name": "stderr",
          "text": [
            "<ipython-input-24-e403078ad83e>:3: FutureWarning: A value is trying to be set on a copy of a DataFrame or Series through chained assignment using an inplace method.\n",
            "The behavior will change in pandas 3.0. This inplace method will never work because the intermediate object on which we are setting values always behaves as a copy.\n",
            "\n",
            "For example, when doing 'df[col].method(value, inplace=True)', try using 'df.method({col: value}, inplace=True)' or df[col] = df[col].method(value) instead, to perform the operation inplace on the original object.\n",
            "\n",
            "\n",
            "  df['Maas'].fillna(df['Maas'].mean(), inplace=True)\n"
          ]
        }
      ]
    },
    {
      "cell_type": "code",
      "source": [
        "print(\"\\nEksik Değerlerin Doldurulmasından Sonra Her Sütundaki Eksik Değer Sayısı:\")\n",
        "print(df.isnull().sum())"
      ],
      "metadata": {
        "colab": {
          "base_uri": "https://localhost:8080/"
        },
        "id": "bFwse49Ryfli",
        "outputId": "4dfbb834-f29b-49b6-c1a1-5e28e097df3f"
      },
      "execution_count": 25,
      "outputs": [
        {
          "output_type": "stream",
          "name": "stdout",
          "text": [
            "\n",
            "Eksik Değerlerin Doldurulmasından Sonra Her Sütundaki Eksik Değer Sayısı:\n",
            "ID                  0\n",
            "Yas                 0\n",
            "Maas                0\n",
            "Departman           0\n",
            "Cinsiyet            0\n",
            "Calisma_Saati       0\n",
            "Deneyim_Seviyesi    0\n",
            "dtype: int64\n"
          ]
        }
      ]
    },
    {
      "cell_type": "code",
      "source": [
        "print(\"Tekrarlı satır sayısı:\", df.duplicated().sum())"
      ],
      "metadata": {
        "colab": {
          "base_uri": "https://localhost:8080/"
        },
        "id": "yEA7g3ibyiQP",
        "outputId": "99229918-c46a-47d8-d3a2-192d6ecc802e"
      },
      "execution_count": 26,
      "outputs": [
        {
          "output_type": "stream",
          "name": "stdout",
          "text": [
            "Tekrarlı satır sayısı: 2\n"
          ]
        }
      ]
    },
    {
      "cell_type": "code",
      "source": [
        "print(\"Tekrarlı satırlar:\")\n",
        "print(df[df.duplicated()])"
      ],
      "metadata": {
        "colab": {
          "base_uri": "https://localhost:8080/"
        },
        "id": "OEKnDHFLylJA",
        "outputId": "ac2dbc06-9263-4825-8b3c-4116899abc8f"
      },
      "execution_count": 27,
      "outputs": [
        {
          "output_type": "stream",
          "name": "stdout",
          "text": [
            "Tekrarlı satırlar:\n",
            "    ID   Yas    Maas Departman Cinsiyet  Calisma_Saati Deneyim_Seviyesi\n",
            "20   5  31.0  4800.0  Muhasebe    Kadın             42        Başlangıç\n",
            "21  12  30.0  4900.0  Muhasebe    Kadın             40             Orta\n"
          ]
        }
      ]
    },
    {
      "cell_type": "code",
      "source": [
        "df = df.drop_duplicates()"
      ],
      "metadata": {
        "id": "PWDiLhznynCz"
      },
      "execution_count": 28,
      "outputs": []
    },
    {
      "cell_type": "code",
      "source": [
        "print(\"\\nTekrarlı satırlar kaldırıldıktan sonraki veri seti:\")\n",
        "print(df)"
      ],
      "metadata": {
        "colab": {
          "base_uri": "https://localhost:8080/"
        },
        "id": "pLTT--mIypXZ",
        "outputId": "393ccb2d-2dee-47fc-dc39-3d63b7bab57a"
      },
      "execution_count": 29,
      "outputs": [
        {
          "output_type": "stream",
          "name": "stdout",
          "text": [
            "\n",
            "Tekrarlı satırlar kaldırıldıktan sonraki veri seti:\n",
            "    ID    Yas     Maas  Departman    Cinsiyet  Calisma_Saati Deneyim_Seviyesi\n",
            "0    1   23.0   4000.0         IT       Kadın             40        Başlangıç\n",
            "1    2   35.0   5000.0   Muhasebe       Erkek             45             Orta\n",
            "2    3   45.0   5500.0         IT       Erkek             50            İleri\n",
            "3    4   27.0   4500.0  Pazarlama       Kadın             39             Orta\n",
            "4    5   31.0   4800.0   Muhasebe       Kadın             42        Başlangıç\n",
            "5    6   31.0   4700.0  Pazarlama       Erkek             37             Orta\n",
            "6    7   29.0   5000.0         IT       Erkek             45            İleri\n",
            "7    8   42.0   5200.0         IT       Kadın             60            İleri\n",
            "8    9  120.0   7900.0   Muhasebe  Bilinmeyen             38        Başlangıç\n",
            "9   10   34.0  25000.0  Pazarlama       Kadın             55            İleri\n",
            "10  11   28.0   4600.0         IT       Erkek             47             Orta\n",
            "11  12   30.0   4900.0   Muhasebe       Kadın             40             Orta\n",
            "12  13   25.0  50000.0  Pazarlama  Bilinmeyen             41        Başlangıç\n",
            "13  14   45.0   4300.0  Pazarlama       Erkek             39            İleri\n",
            "14  15   31.0   4000.0         IT  Bilinmeyen             55        Başlangıç\n",
            "15  16   32.0   4700.0   Muhasebe  Bilinmeyen             36             Orta\n",
            "16  17   60.0   5600.0         IT  Bilinmeyen             60            İleri\n",
            "17  18   25.0   4800.0  Pazarlama       Kadın             44        Başlangıç\n",
            "18  19   27.0   4500.0         IT       Erkek             45             Orta\n",
            "19  20  133.0   5100.0   Muhasebe       Erkek             50            İleri\n"
          ]
        }
      ]
    },
    {
      "cell_type": "code",
      "source": [
        "Q1 = df['Yas'].quantile(0.25)\n",
        "Q3 = df['Yas'].quantile(0.75)\n",
        "IQR = Q3 - Q1\n",
        "\n",
        "alt_sınır = Q1 - 1.5 * IQR\n",
        "üst_sınır = Q3 + 1.5 * IQR\n",
        "\n",
        "\n",
        "aykiri_yas = df[(df['Yas'] < alt_sınır) | (df['Yas'] > üst_sınır)]\n",
        "print(\"\\nAykırı Yaş Değerleri (IQR Yöntemi):\")\n",
        "print(aykiri_yas)\n"
      ],
      "metadata": {
        "colab": {
          "base_uri": "https://localhost:8080/"
        },
        "id": "Fih049TAyria",
        "outputId": "08e60b67-7dae-41be-9478-001500b8ec1c"
      },
      "execution_count": 30,
      "outputs": [
        {
          "output_type": "stream",
          "name": "stdout",
          "text": [
            "\n",
            "Aykırı Yaş Değerleri (IQR Yöntemi):\n",
            "    ID    Yas    Maas Departman    Cinsiyet  Calisma_Saati Deneyim_Seviyesi\n",
            "8    9  120.0  7900.0  Muhasebe  Bilinmeyen             38        Başlangıç\n",
            "19  20  133.0  5100.0  Muhasebe       Erkek             50            İleri\n"
          ]
        }
      ]
    },
    {
      "cell_type": "code",
      "source": [
        "aykiri_indexler = df[(df['Yas'] < alt_sınır) | (df['Yas'] > üst_sınır)].index\n",
        "\n",
        "\n",
        "df = df.drop(aykiri_indexler)\n",
        "\n",
        "\n",
        "print(\"\\nAykırı Yaş Değerleri Çıkarıldıktan Sonra Veri Seti:\")\n",
        "print(df)"
      ],
      "metadata": {
        "colab": {
          "base_uri": "https://localhost:8080/"
        },
        "id": "w8liXI5nyy4r",
        "outputId": "ca4303f7-8ff3-4592-db25-dc18b7d6f9a8"
      },
      "execution_count": 31,
      "outputs": [
        {
          "output_type": "stream",
          "name": "stdout",
          "text": [
            "\n",
            "Aykırı Yaş Değerleri Çıkarıldıktan Sonra Veri Seti:\n",
            "    ID   Yas     Maas  Departman    Cinsiyet  Calisma_Saati Deneyim_Seviyesi\n",
            "0    1  23.0   4000.0         IT       Kadın             40        Başlangıç\n",
            "1    2  35.0   5000.0   Muhasebe       Erkek             45             Orta\n",
            "2    3  45.0   5500.0         IT       Erkek             50            İleri\n",
            "3    4  27.0   4500.0  Pazarlama       Kadın             39             Orta\n",
            "4    5  31.0   4800.0   Muhasebe       Kadın             42        Başlangıç\n",
            "5    6  31.0   4700.0  Pazarlama       Erkek             37             Orta\n",
            "6    7  29.0   5000.0         IT       Erkek             45            İleri\n",
            "7    8  42.0   5200.0         IT       Kadın             60            İleri\n",
            "9   10  34.0  25000.0  Pazarlama       Kadın             55            İleri\n",
            "10  11  28.0   4600.0         IT       Erkek             47             Orta\n",
            "11  12  30.0   4900.0   Muhasebe       Kadın             40             Orta\n",
            "12  13  25.0  50000.0  Pazarlama  Bilinmeyen             41        Başlangıç\n",
            "13  14  45.0   4300.0  Pazarlama       Erkek             39            İleri\n",
            "14  15  31.0   4000.0         IT  Bilinmeyen             55        Başlangıç\n",
            "15  16  32.0   4700.0   Muhasebe  Bilinmeyen             36             Orta\n",
            "16  17  60.0   5600.0         IT  Bilinmeyen             60            İleri\n",
            "17  18  25.0   4800.0  Pazarlama       Kadın             44        Başlangıç\n",
            "18  19  27.0   4500.0         IT       Erkek             45             Orta\n"
          ]
        }
      ]
    },
    {
      "cell_type": "code",
      "source": [
        "from scipy import stats\n",
        "import matplotlib.pyplot as plt\n",
        "\n",
        "\n",
        "z_skorları_maas = stats.zscore(df['Maas'])\n",
        "\n",
        "aykiri_z_maas = df[(z_skorları_maas > 3) | (z_skorları_maas < -3)]\n",
        "\n",
        "print(\"\\nAykırı Maaş Değerleri (Z-Skoru Yöntemi):\")\n",
        "print(aykiri_z_maas)"
      ],
      "metadata": {
        "colab": {
          "base_uri": "https://localhost:8080/"
        },
        "id": "f1GNz-nIy3J6",
        "outputId": "1f5d2dab-45be-4750-c31e-089fdd97d1e2"
      },
      "execution_count": 32,
      "outputs": [
        {
          "output_type": "stream",
          "name": "stdout",
          "text": [
            "\n",
            "Aykırı Maaş Değerleri (Z-Skoru Yöntemi):\n",
            "    ID   Yas     Maas  Departman    Cinsiyet  Calisma_Saati Deneyim_Seviyesi\n",
            "12  13  25.0  50000.0  Pazarlama  Bilinmeyen             41        Başlangıç\n"
          ]
        }
      ]
    },
    {
      "cell_type": "code",
      "source": [
        "ortalama_maas = df['Maas'].mean()\n",
        "standart_sapma_maas = df['Maas'].std()\n",
        "\n",
        "alt_sınır_maas_z = ortalama_maas - 3 * standart_sapma_maas\n",
        "üst_sınır_maas_z = ortalama_maas + 3 * standart_sapma_maas\n",
        "\n",
        "\n",
        "df['Maas'] = df['Maas'].clip(lower=alt_sınır_maas_z, upper=üst_sınır_maas_z)\n",
        "\n",
        "print(\"\\nZ-Skoru Yöntemiyle Aykırı Maaş Değerleri Kırpıldıktan Sonra Veri Seti:\")\n",
        "print(df)"
      ],
      "metadata": {
        "colab": {
          "base_uri": "https://localhost:8080/"
        },
        "id": "mzDJvQfOy9Bs",
        "outputId": "c53e56fc-78c6-4b1a-f8be-d9f621e158b2"
      },
      "execution_count": 33,
      "outputs": [
        {
          "output_type": "stream",
          "name": "stdout",
          "text": [
            "\n",
            "Z-Skoru Yöntemiyle Aykırı Maaş Değerleri Kırpıldıktan Sonra Veri Seti:\n",
            "    ID   Yas         Maas  Departman    Cinsiyet  Calisma_Saati  \\\n",
            "0    1  23.0   4000.00000         IT       Kadın             40   \n",
            "1    2  35.0   5000.00000   Muhasebe       Erkek             45   \n",
            "2    3  45.0   5500.00000         IT       Erkek             50   \n",
            "3    4  27.0   4500.00000  Pazarlama       Kadın             39   \n",
            "4    5  31.0   4800.00000   Muhasebe       Kadın             42   \n",
            "5    6  31.0   4700.00000  Pazarlama       Erkek             37   \n",
            "6    7  29.0   5000.00000         IT       Erkek             45   \n",
            "7    8  42.0   5200.00000         IT       Kadın             60   \n",
            "9   10  34.0  25000.00000  Pazarlama       Kadın             55   \n",
            "10  11  28.0   4600.00000         IT       Erkek             47   \n",
            "11  12  30.0   4900.00000   Muhasebe       Kadın             40   \n",
            "12  13  25.0  42689.89518  Pazarlama  Bilinmeyen             41   \n",
            "13  14  45.0   4300.00000  Pazarlama       Erkek             39   \n",
            "14  15  31.0   4000.00000         IT  Bilinmeyen             55   \n",
            "15  16  32.0   4700.00000   Muhasebe  Bilinmeyen             36   \n",
            "16  17  60.0   5600.00000         IT  Bilinmeyen             60   \n",
            "17  18  25.0   4800.00000  Pazarlama       Kadın             44   \n",
            "18  19  27.0   4500.00000         IT       Erkek             45   \n",
            "\n",
            "   Deneyim_Seviyesi  \n",
            "0         Başlangıç  \n",
            "1              Orta  \n",
            "2             İleri  \n",
            "3              Orta  \n",
            "4         Başlangıç  \n",
            "5              Orta  \n",
            "6             İleri  \n",
            "7             İleri  \n",
            "9             İleri  \n",
            "10             Orta  \n",
            "11             Orta  \n",
            "12        Başlangıç  \n",
            "13            İleri  \n",
            "14        Başlangıç  \n",
            "15             Orta  \n",
            "16            İleri  \n",
            "17        Başlangıç  \n",
            "18             Orta  \n"
          ]
        }
      ]
    },
    {
      "cell_type": "code",
      "source": [
        "Q1 = df['Calisma_Saati'].quantile(0.25)\n",
        "Q3 = df['Calisma_Saati'].quantile(0.75)\n",
        "IQR = Q3 - Q1\n",
        "\n",
        "\n",
        "alt_sınır_calisma = Q1 - 1.5 * IQR\n",
        "üst_sınır_calisma = Q3 + 1.5 * IQR\n",
        "\n",
        "\n",
        "aykiri_degerler = df[(df['Calisma_Saati'] < alt_sınır_calisma) | (df['Calisma_Saati'] > üst_sınır_calisma)]\n",
        "print(\"\\nAykırı Çalışma Saati Değerleri:\")\n",
        "print(aykiri_degerler)\n"
      ],
      "metadata": {
        "colab": {
          "base_uri": "https://localhost:8080/"
        },
        "id": "flYkj2rnzH48",
        "outputId": "932e2f00-9fca-416e-8bc8-89aabebf6bca"
      },
      "execution_count": 34,
      "outputs": [
        {
          "output_type": "stream",
          "name": "stdout",
          "text": [
            "\n",
            "Aykırı Çalışma Saati Değerleri:\n",
            "Empty DataFrame\n",
            "Columns: [ID, Yas, Maas, Departman, Cinsiyet, Calisma_Saati, Deneyim_Seviyesi]\n",
            "Index: []\n"
          ]
        }
      ]
    },
    {
      "cell_type": "code",
      "source": [
        "medyan_calisma = df['Calisma_Saati'].median()\n",
        "\n",
        "print(medyan_calisma)\n",
        "\n",
        "df['Calisma_Saati'] = df['Calisma_Saati'].apply(lambda x: medyan_calisma if (x < alt_sınır_calisma or x > üst_sınır_calisma) else x)\n",
        "\n",
        "print(\"\\nIQR Yöntemiyle Aykırı Çalışma Saati Değerleri Medyan ile Doldurulduktan Sonra Veri Seti:\")\n",
        "print(df)"
      ],
      "metadata": {
        "colab": {
          "base_uri": "https://localhost:8080/"
        },
        "id": "p-tK_Ji2zPuR",
        "outputId": "0fe6811c-56b9-4452-c3c5-0158cc41141e"
      },
      "execution_count": 35,
      "outputs": [
        {
          "output_type": "stream",
          "name": "stdout",
          "text": [
            "44.5\n",
            "\n",
            "IQR Yöntemiyle Aykırı Çalışma Saati Değerleri Medyan ile Doldurulduktan Sonra Veri Seti:\n",
            "    ID   Yas         Maas  Departman    Cinsiyet  Calisma_Saati  \\\n",
            "0    1  23.0   4000.00000         IT       Kadın             40   \n",
            "1    2  35.0   5000.00000   Muhasebe       Erkek             45   \n",
            "2    3  45.0   5500.00000         IT       Erkek             50   \n",
            "3    4  27.0   4500.00000  Pazarlama       Kadın             39   \n",
            "4    5  31.0   4800.00000   Muhasebe       Kadın             42   \n",
            "5    6  31.0   4700.00000  Pazarlama       Erkek             37   \n",
            "6    7  29.0   5000.00000         IT       Erkek             45   \n",
            "7    8  42.0   5200.00000         IT       Kadın             60   \n",
            "9   10  34.0  25000.00000  Pazarlama       Kadın             55   \n",
            "10  11  28.0   4600.00000         IT       Erkek             47   \n",
            "11  12  30.0   4900.00000   Muhasebe       Kadın             40   \n",
            "12  13  25.0  42689.89518  Pazarlama  Bilinmeyen             41   \n",
            "13  14  45.0   4300.00000  Pazarlama       Erkek             39   \n",
            "14  15  31.0   4000.00000         IT  Bilinmeyen             55   \n",
            "15  16  32.0   4700.00000   Muhasebe  Bilinmeyen             36   \n",
            "16  17  60.0   5600.00000         IT  Bilinmeyen             60   \n",
            "17  18  25.0   4800.00000  Pazarlama       Kadın             44   \n",
            "18  19  27.0   4500.00000         IT       Erkek             45   \n",
            "\n",
            "   Deneyim_Seviyesi  \n",
            "0         Başlangıç  \n",
            "1              Orta  \n",
            "2             İleri  \n",
            "3              Orta  \n",
            "4         Başlangıç  \n",
            "5              Orta  \n",
            "6             İleri  \n",
            "7             İleri  \n",
            "9             İleri  \n",
            "10             Orta  \n",
            "11             Orta  \n",
            "12        Başlangıç  \n",
            "13            İleri  \n",
            "14        Başlangıç  \n",
            "15             Orta  \n",
            "16            İleri  \n",
            "17        Başlangıç  \n",
            "18             Orta  \n"
          ]
        }
      ]
    },
    {
      "cell_type": "code",
      "source": [
        "df = pd.get_dummies(df, columns=['Departman', 'Cinsiyet'], dtype=int)\n",
        "\n",
        "\n",
        "print(df)"
      ],
      "metadata": {
        "colab": {
          "base_uri": "https://localhost:8080/"
        },
        "id": "dc5ZZ0uQzTI9",
        "outputId": "60aeae40-8462-4a13-8e53-c03740c7227a"
      },
      "execution_count": 36,
      "outputs": [
        {
          "output_type": "stream",
          "name": "stdout",
          "text": [
            "    ID   Yas         Maas  Calisma_Saati Deneyim_Seviyesi  Departman_IT  \\\n",
            "0    1  23.0   4000.00000             40        Başlangıç             1   \n",
            "1    2  35.0   5000.00000             45             Orta             0   \n",
            "2    3  45.0   5500.00000             50            İleri             1   \n",
            "3    4  27.0   4500.00000             39             Orta             0   \n",
            "4    5  31.0   4800.00000             42        Başlangıç             0   \n",
            "5    6  31.0   4700.00000             37             Orta             0   \n",
            "6    7  29.0   5000.00000             45            İleri             1   \n",
            "7    8  42.0   5200.00000             60            İleri             1   \n",
            "9   10  34.0  25000.00000             55            İleri             0   \n",
            "10  11  28.0   4600.00000             47             Orta             1   \n",
            "11  12  30.0   4900.00000             40             Orta             0   \n",
            "12  13  25.0  42689.89518             41        Başlangıç             0   \n",
            "13  14  45.0   4300.00000             39            İleri             0   \n",
            "14  15  31.0   4000.00000             55        Başlangıç             1   \n",
            "15  16  32.0   4700.00000             36             Orta             0   \n",
            "16  17  60.0   5600.00000             60            İleri             1   \n",
            "17  18  25.0   4800.00000             44        Başlangıç             0   \n",
            "18  19  27.0   4500.00000             45             Orta             1   \n",
            "\n",
            "    Departman_Muhasebe  Departman_Pazarlama  Cinsiyet_Bilinmeyen  \\\n",
            "0                    0                    0                    0   \n",
            "1                    1                    0                    0   \n",
            "2                    0                    0                    0   \n",
            "3                    0                    1                    0   \n",
            "4                    1                    0                    0   \n",
            "5                    0                    1                    0   \n",
            "6                    0                    0                    0   \n",
            "7                    0                    0                    0   \n",
            "9                    0                    1                    0   \n",
            "10                   0                    0                    0   \n",
            "11                   1                    0                    0   \n",
            "12                   0                    1                    1   \n",
            "13                   0                    1                    0   \n",
            "14                   0                    0                    1   \n",
            "15                   1                    0                    1   \n",
            "16                   0                    0                    1   \n",
            "17                   0                    1                    0   \n",
            "18                   0                    0                    0   \n",
            "\n",
            "    Cinsiyet_Erkek  Cinsiyet_Kadın  \n",
            "0                0               1  \n",
            "1                1               0  \n",
            "2                1               0  \n",
            "3                0               1  \n",
            "4                0               1  \n",
            "5                1               0  \n",
            "6                1               0  \n",
            "7                0               1  \n",
            "9                0               1  \n",
            "10               1               0  \n",
            "11               0               1  \n",
            "12               0               0  \n",
            "13               1               0  \n",
            "14               0               0  \n",
            "15               0               0  \n",
            "16               0               0  \n",
            "17               0               1  \n",
            "18               1               0  \n"
          ]
        }
      ]
    },
    {
      "cell_type": "code",
      "source": [
        "from sklearn.preprocessing import OrdinalEncoder\n",
        "\n",
        "\n",
        "ordinal_encoder = OrdinalEncoder(categories=[['Başlangıç', 'Orta', 'İleri']])\n",
        "\n",
        "df['Deneyim_Seviyesi'] = ordinal_encoder.fit_transform(df[['Deneyim_Seviyesi']])\n",
        "\n",
        "print(df)"
      ],
      "metadata": {
        "colab": {
          "base_uri": "https://localhost:8080/"
        },
        "id": "dC-NOzD8zXEN",
        "outputId": "227e4eb4-22de-4ef4-efe5-64bd140e114a"
      },
      "execution_count": 37,
      "outputs": [
        {
          "output_type": "stream",
          "name": "stdout",
          "text": [
            "    ID   Yas         Maas  Calisma_Saati  Deneyim_Seviyesi  Departman_IT  \\\n",
            "0    1  23.0   4000.00000             40               0.0             1   \n",
            "1    2  35.0   5000.00000             45               1.0             0   \n",
            "2    3  45.0   5500.00000             50               2.0             1   \n",
            "3    4  27.0   4500.00000             39               1.0             0   \n",
            "4    5  31.0   4800.00000             42               0.0             0   \n",
            "5    6  31.0   4700.00000             37               1.0             0   \n",
            "6    7  29.0   5000.00000             45               2.0             1   \n",
            "7    8  42.0   5200.00000             60               2.0             1   \n",
            "9   10  34.0  25000.00000             55               2.0             0   \n",
            "10  11  28.0   4600.00000             47               1.0             1   \n",
            "11  12  30.0   4900.00000             40               1.0             0   \n",
            "12  13  25.0  42689.89518             41               0.0             0   \n",
            "13  14  45.0   4300.00000             39               2.0             0   \n",
            "14  15  31.0   4000.00000             55               0.0             1   \n",
            "15  16  32.0   4700.00000             36               1.0             0   \n",
            "16  17  60.0   5600.00000             60               2.0             1   \n",
            "17  18  25.0   4800.00000             44               0.0             0   \n",
            "18  19  27.0   4500.00000             45               1.0             1   \n",
            "\n",
            "    Departman_Muhasebe  Departman_Pazarlama  Cinsiyet_Bilinmeyen  \\\n",
            "0                    0                    0                    0   \n",
            "1                    1                    0                    0   \n",
            "2                    0                    0                    0   \n",
            "3                    0                    1                    0   \n",
            "4                    1                    0                    0   \n",
            "5                    0                    1                    0   \n",
            "6                    0                    0                    0   \n",
            "7                    0                    0                    0   \n",
            "9                    0                    1                    0   \n",
            "10                   0                    0                    0   \n",
            "11                   1                    0                    0   \n",
            "12                   0                    1                    1   \n",
            "13                   0                    1                    0   \n",
            "14                   0                    0                    1   \n",
            "15                   1                    0                    1   \n",
            "16                   0                    0                    1   \n",
            "17                   0                    1                    0   \n",
            "18                   0                    0                    0   \n",
            "\n",
            "    Cinsiyet_Erkek  Cinsiyet_Kadın  \n",
            "0                0               1  \n",
            "1                1               0  \n",
            "2                1               0  \n",
            "3                0               1  \n",
            "4                0               1  \n",
            "5                1               0  \n",
            "6                1               0  \n",
            "7                0               1  \n",
            "9                0               1  \n",
            "10               1               0  \n",
            "11               0               1  \n",
            "12               0               0  \n",
            "13               1               0  \n",
            "14               0               0  \n",
            "15               0               0  \n",
            "16               0               0  \n",
            "17               0               1  \n",
            "18               1               0  \n"
          ]
        }
      ]
    },
    {
      "cell_type": "code",
      "source": [
        "print(\"\\nDepartman ve Cinsiyet Kategorik Değerlerin Dağılımı (One-Hot Kodlama Sonrası):\")\n",
        "\n",
        "print(\"Departman_IT:\", df['Departman_IT'].sum())\n",
        "print(\"Departman_Muhasebe:\", df['Departman_Muhasebe'].sum())\n",
        "print(\"Departman_Pazarlama:\", df['Departman_Pazarlama'].sum())\n",
        "\n",
        "print(\"\\nCinsiyet_Erkek:\", df['Cinsiyet_Erkek'].sum())\n",
        "print(\"Cinsiyet_Kadın:\", df['Cinsiyet_Kadın'].sum())"
      ],
      "metadata": {
        "colab": {
          "base_uri": "https://localhost:8080/"
        },
        "id": "kCGgdWgpzfcf",
        "outputId": "e1be0f54-3940-43c3-abbc-4a8409b94baa"
      },
      "execution_count": 38,
      "outputs": [
        {
          "output_type": "stream",
          "name": "stdout",
          "text": [
            "\n",
            "Departman ve Cinsiyet Kategorik Değerlerin Dağılımı (One-Hot Kodlama Sonrası):\n",
            "Departman_IT: 8\n",
            "Departman_Muhasebe: 4\n",
            "Departman_Pazarlama: 6\n",
            "\n",
            "Cinsiyet_Erkek: 7\n",
            "Cinsiyet_Kadın: 7\n"
          ]
        }
      ]
    },
    {
      "cell_type": "code",
      "source": [
        "print(\"\\nDeneyim Seviyesi Dağılımı (Label Encoding Sonrası):\")\n",
        "print(df['Deneyim_Seviyesi'].value_counts())"
      ],
      "metadata": {
        "colab": {
          "base_uri": "https://localhost:8080/"
        },
        "id": "3T72bXt2zlVY",
        "outputId": "4144dab1-9935-41bd-c05d-0622098cbc7a"
      },
      "execution_count": 39,
      "outputs": [
        {
          "output_type": "stream",
          "name": "stdout",
          "text": [
            "\n",
            "Deneyim Seviyesi Dağılımı (Label Encoding Sonrası):\n",
            "Deneyim_Seviyesi\n",
            "1.0    7\n",
            "2.0    6\n",
            "0.0    5\n",
            "Name: count, dtype: int64\n"
          ]
        }
      ]
    },
    {
      "cell_type": "code",
      "source": [
        "from sklearn.preprocessing import MinMaxScaler, StandardScaler\n",
        "\n",
        "scaler = MinMaxScaler()\n",
        "df['Calisma_Saati'] = scaler.fit_transform(df[['Calisma_Saati']])\n",
        "df['Maas'] = scaler.fit_transform(df[['Maas']])\n",
        "\n",
        "print(df)"
      ],
      "metadata": {
        "colab": {
          "base_uri": "https://localhost:8080/"
        },
        "id": "LjItkxR5zny6",
        "outputId": "7d4e56a8-6f01-485a-83f5-33a9556157b7"
      },
      "execution_count": 40,
      "outputs": [
        {
          "output_type": "stream",
          "name": "stdout",
          "text": [
            "    ID   Yas      Maas  Calisma_Saati  Deneyim_Seviyesi  Departman_IT  \\\n",
            "0    1  23.0  0.000000       0.166667               0.0             1   \n",
            "1    2  35.0  0.025847       0.375000               1.0             0   \n",
            "2    3  45.0  0.038770       0.583333               2.0             1   \n",
            "3    4  27.0  0.012923       0.125000               1.0             0   \n",
            "4    5  31.0  0.020677       0.250000               0.0             0   \n",
            "5    6  31.0  0.018093       0.041667               1.0             0   \n",
            "6    7  29.0  0.025847       0.375000               2.0             1   \n",
            "7    8  42.0  0.031016       1.000000               2.0             1   \n",
            "9   10  34.0  0.542777       0.791667               2.0             0   \n",
            "10  11  28.0  0.015508       0.458333               1.0             1   \n",
            "11  12  30.0  0.023262       0.166667               1.0             0   \n",
            "12  13  25.0  1.000000       0.208333               0.0             0   \n",
            "13  14  45.0  0.007754       0.125000               2.0             0   \n",
            "14  15  31.0  0.000000       0.791667               0.0             1   \n",
            "15  16  32.0  0.018093       0.000000               1.0             0   \n",
            "16  17  60.0  0.041354       1.000000               2.0             1   \n",
            "17  18  25.0  0.020677       0.333333               0.0             0   \n",
            "18  19  27.0  0.012923       0.375000               1.0             1   \n",
            "\n",
            "    Departman_Muhasebe  Departman_Pazarlama  Cinsiyet_Bilinmeyen  \\\n",
            "0                    0                    0                    0   \n",
            "1                    1                    0                    0   \n",
            "2                    0                    0                    0   \n",
            "3                    0                    1                    0   \n",
            "4                    1                    0                    0   \n",
            "5                    0                    1                    0   \n",
            "6                    0                    0                    0   \n",
            "7                    0                    0                    0   \n",
            "9                    0                    1                    0   \n",
            "10                   0                    0                    0   \n",
            "11                   1                    0                    0   \n",
            "12                   0                    1                    1   \n",
            "13                   0                    1                    0   \n",
            "14                   0                    0                    1   \n",
            "15                   1                    0                    1   \n",
            "16                   0                    0                    1   \n",
            "17                   0                    1                    0   \n",
            "18                   0                    0                    0   \n",
            "\n",
            "    Cinsiyet_Erkek  Cinsiyet_Kadın  \n",
            "0                0               1  \n",
            "1                1               0  \n",
            "2                1               0  \n",
            "3                0               1  \n",
            "4                0               1  \n",
            "5                1               0  \n",
            "6                1               0  \n",
            "7                0               1  \n",
            "9                0               1  \n",
            "10               1               0  \n",
            "11               0               1  \n",
            "12               0               0  \n",
            "13               1               0  \n",
            "14               0               0  \n",
            "15               0               0  \n",
            "16               0               0  \n",
            "17               0               1  \n",
            "18               1               0  \n"
          ]
        }
      ]
    },
    {
      "cell_type": "code",
      "source": [
        "from sklearn.preprocessing import MinMaxScaler, StandardScaler\n",
        "\n",
        "\n",
        "standard_scaler = StandardScaler()\n",
        "df['Yas'] = standard_scaler.fit_transform(df[['Yas']])\n",
        "\n",
        "print(df)"
      ],
      "metadata": {
        "colab": {
          "base_uri": "https://localhost:8080/"
        },
        "id": "oKc-D-Fvzqnt",
        "outputId": "fb861324-44b9-4fbf-d89f-2a8f59c55795"
      },
      "execution_count": 41,
      "outputs": [
        {
          "output_type": "stream",
          "name": "stdout",
          "text": [
            "    ID       Yas      Maas  Calisma_Saati  Deneyim_Seviyesi  Departman_IT  \\\n",
            "0    1 -1.145793  0.000000       0.166667               0.0             1   \n",
            "1    2  0.184805  0.025847       0.375000               1.0             0   \n",
            "2    3  1.293637  0.038770       0.583333               2.0             1   \n",
            "3    4 -0.702260  0.012923       0.125000               1.0             0   \n",
            "4    5 -0.258727  0.020677       0.250000               0.0             0   \n",
            "5    6 -0.258727  0.018093       0.041667               1.0             0   \n",
            "6    7 -0.480494  0.025847       0.375000               2.0             1   \n",
            "7    8  0.960988  0.031016       1.000000               2.0             1   \n",
            "9   10  0.073922  0.542777       0.791667               2.0             0   \n",
            "10  11 -0.591377  0.015508       0.458333               1.0             1   \n",
            "11  12 -0.369611  0.023262       0.166667               1.0             0   \n",
            "12  13 -0.924027  1.000000       0.208333               0.0             0   \n",
            "13  14  1.293637  0.007754       0.125000               2.0             0   \n",
            "14  15 -0.258727  0.000000       0.791667               0.0             1   \n",
            "15  16 -0.147844  0.018093       0.000000               1.0             0   \n",
            "16  17  2.956885  0.041354       1.000000               2.0             1   \n",
            "17  18 -0.924027  0.020677       0.333333               0.0             0   \n",
            "18  19 -0.702260  0.012923       0.375000               1.0             1   \n",
            "\n",
            "    Departman_Muhasebe  Departman_Pazarlama  Cinsiyet_Bilinmeyen  \\\n",
            "0                    0                    0                    0   \n",
            "1                    1                    0                    0   \n",
            "2                    0                    0                    0   \n",
            "3                    0                    1                    0   \n",
            "4                    1                    0                    0   \n",
            "5                    0                    1                    0   \n",
            "6                    0                    0                    0   \n",
            "7                    0                    0                    0   \n",
            "9                    0                    1                    0   \n",
            "10                   0                    0                    0   \n",
            "11                   1                    0                    0   \n",
            "12                   0                    1                    1   \n",
            "13                   0                    1                    0   \n",
            "14                   0                    0                    1   \n",
            "15                   1                    0                    1   \n",
            "16                   0                    0                    1   \n",
            "17                   0                    1                    0   \n",
            "18                   0                    0                    0   \n",
            "\n",
            "    Cinsiyet_Erkek  Cinsiyet_Kadın  \n",
            "0                0               1  \n",
            "1                1               0  \n",
            "2                1               0  \n",
            "3                0               1  \n",
            "4                0               1  \n",
            "5                1               0  \n",
            "6                1               0  \n",
            "7                0               1  \n",
            "9                0               1  \n",
            "10               1               0  \n",
            "11               0               1  \n",
            "12               0               0  \n",
            "13               1               0  \n",
            "14               0               0  \n",
            "15               0               0  \n",
            "16               0               0  \n",
            "17               0               1  \n",
            "18               1               0  \n"
          ]
        }
      ]
    },
    {
      "cell_type": "code",
      "source": [
        "df['ID'] = df['ID'].astype('category')\n",
        "\n",
        "\n",
        "print(df)"
      ],
      "metadata": {
        "colab": {
          "base_uri": "https://localhost:8080/"
        },
        "id": "jhPN2eMGzvSs",
        "outputId": "a6168e09-1dc5-4fd4-ff27-47ed81fa3baf"
      },
      "execution_count": 42,
      "outputs": [
        {
          "output_type": "stream",
          "name": "stdout",
          "text": [
            "    ID       Yas      Maas  Calisma_Saati  Deneyim_Seviyesi  Departman_IT  \\\n",
            "0    1 -1.145793  0.000000       0.166667               0.0             1   \n",
            "1    2  0.184805  0.025847       0.375000               1.0             0   \n",
            "2    3  1.293637  0.038770       0.583333               2.0             1   \n",
            "3    4 -0.702260  0.012923       0.125000               1.0             0   \n",
            "4    5 -0.258727  0.020677       0.250000               0.0             0   \n",
            "5    6 -0.258727  0.018093       0.041667               1.0             0   \n",
            "6    7 -0.480494  0.025847       0.375000               2.0             1   \n",
            "7    8  0.960988  0.031016       1.000000               2.0             1   \n",
            "9   10  0.073922  0.542777       0.791667               2.0             0   \n",
            "10  11 -0.591377  0.015508       0.458333               1.0             1   \n",
            "11  12 -0.369611  0.023262       0.166667               1.0             0   \n",
            "12  13 -0.924027  1.000000       0.208333               0.0             0   \n",
            "13  14  1.293637  0.007754       0.125000               2.0             0   \n",
            "14  15 -0.258727  0.000000       0.791667               0.0             1   \n",
            "15  16 -0.147844  0.018093       0.000000               1.0             0   \n",
            "16  17  2.956885  0.041354       1.000000               2.0             1   \n",
            "17  18 -0.924027  0.020677       0.333333               0.0             0   \n",
            "18  19 -0.702260  0.012923       0.375000               1.0             1   \n",
            "\n",
            "    Departman_Muhasebe  Departman_Pazarlama  Cinsiyet_Bilinmeyen  \\\n",
            "0                    0                    0                    0   \n",
            "1                    1                    0                    0   \n",
            "2                    0                    0                    0   \n",
            "3                    0                    1                    0   \n",
            "4                    1                    0                    0   \n",
            "5                    0                    1                    0   \n",
            "6                    0                    0                    0   \n",
            "7                    0                    0                    0   \n",
            "9                    0                    1                    0   \n",
            "10                   0                    0                    0   \n",
            "11                   1                    0                    0   \n",
            "12                   0                    1                    1   \n",
            "13                   0                    1                    0   \n",
            "14                   0                    0                    1   \n",
            "15                   1                    0                    1   \n",
            "16                   0                    0                    1   \n",
            "17                   0                    1                    0   \n",
            "18                   0                    0                    0   \n",
            "\n",
            "    Cinsiyet_Erkek  Cinsiyet_Kadın  \n",
            "0                0               1  \n",
            "1                1               0  \n",
            "2                1               0  \n",
            "3                0               1  \n",
            "4                0               1  \n",
            "5                1               0  \n",
            "6                1               0  \n",
            "7                0               1  \n",
            "9                0               1  \n",
            "10               1               0  \n",
            "11               0               1  \n",
            "12               0               0  \n",
            "13               1               0  \n",
            "14               0               0  \n",
            "15               0               0  \n",
            "16               0               0  \n",
            "17               0               1  \n",
            "18               1               0  \n"
          ]
        }
      ]
    },
    {
      "cell_type": "code",
      "source": [
        "df['Yas_Kategorisi'] = df['Yas'].apply(lambda x: 'Genç' if x < -0.5 else ('Orta' if x < 0.5 else 'Yaşlı'))\n",
        "\n",
        "\n",
        "print(df)"
      ],
      "metadata": {
        "colab": {
          "base_uri": "https://localhost:8080/"
        },
        "id": "TblRlPKdzzTq",
        "outputId": "0d07f9e0-3c3d-4b33-9c01-3820585a6391"
      },
      "execution_count": 43,
      "outputs": [
        {
          "output_type": "stream",
          "name": "stdout",
          "text": [
            "    ID       Yas      Maas  Calisma_Saati  Deneyim_Seviyesi  Departman_IT  \\\n",
            "0    1 -1.145793  0.000000       0.166667               0.0             1   \n",
            "1    2  0.184805  0.025847       0.375000               1.0             0   \n",
            "2    3  1.293637  0.038770       0.583333               2.0             1   \n",
            "3    4 -0.702260  0.012923       0.125000               1.0             0   \n",
            "4    5 -0.258727  0.020677       0.250000               0.0             0   \n",
            "5    6 -0.258727  0.018093       0.041667               1.0             0   \n",
            "6    7 -0.480494  0.025847       0.375000               2.0             1   \n",
            "7    8  0.960988  0.031016       1.000000               2.0             1   \n",
            "9   10  0.073922  0.542777       0.791667               2.0             0   \n",
            "10  11 -0.591377  0.015508       0.458333               1.0             1   \n",
            "11  12 -0.369611  0.023262       0.166667               1.0             0   \n",
            "12  13 -0.924027  1.000000       0.208333               0.0             0   \n",
            "13  14  1.293637  0.007754       0.125000               2.0             0   \n",
            "14  15 -0.258727  0.000000       0.791667               0.0             1   \n",
            "15  16 -0.147844  0.018093       0.000000               1.0             0   \n",
            "16  17  2.956885  0.041354       1.000000               2.0             1   \n",
            "17  18 -0.924027  0.020677       0.333333               0.0             0   \n",
            "18  19 -0.702260  0.012923       0.375000               1.0             1   \n",
            "\n",
            "    Departman_Muhasebe  Departman_Pazarlama  Cinsiyet_Bilinmeyen  \\\n",
            "0                    0                    0                    0   \n",
            "1                    1                    0                    0   \n",
            "2                    0                    0                    0   \n",
            "3                    0                    1                    0   \n",
            "4                    1                    0                    0   \n",
            "5                    0                    1                    0   \n",
            "6                    0                    0                    0   \n",
            "7                    0                    0                    0   \n",
            "9                    0                    1                    0   \n",
            "10                   0                    0                    0   \n",
            "11                   1                    0                    0   \n",
            "12                   0                    1                    1   \n",
            "13                   0                    1                    0   \n",
            "14                   0                    0                    1   \n",
            "15                   1                    0                    1   \n",
            "16                   0                    0                    1   \n",
            "17                   0                    1                    0   \n",
            "18                   0                    0                    0   \n",
            "\n",
            "    Cinsiyet_Erkek  Cinsiyet_Kadın Yas_Kategorisi  \n",
            "0                0               1           Genç  \n",
            "1                1               0           Orta  \n",
            "2                1               0          Yaşlı  \n",
            "3                0               1           Genç  \n",
            "4                0               1           Orta  \n",
            "5                1               0           Orta  \n",
            "6                1               0           Orta  \n",
            "7                0               1          Yaşlı  \n",
            "9                0               1           Orta  \n",
            "10               1               0           Genç  \n",
            "11               0               1           Orta  \n",
            "12               0               0           Genç  \n",
            "13               1               0          Yaşlı  \n",
            "14               0               0           Orta  \n",
            "15               0               0           Orta  \n",
            "16               0               0          Yaşlı  \n",
            "17               0               1           Genç  \n",
            "18               1               0           Genç  \n"
          ]
        }
      ]
    },
    {
      "cell_type": "code",
      "source": [
        "df['Yeni_Maas'] = df['Maas'].apply(lambda x: x * 1.10)\n",
        "\n",
        "\n",
        "print(df)"
      ],
      "metadata": {
        "colab": {
          "base_uri": "https://localhost:8080/"
        },
        "id": "wLvEzW1Kz3Qp",
        "outputId": "60404df7-6c0c-45d1-c533-044c09f38e73"
      },
      "execution_count": 44,
      "outputs": [
        {
          "output_type": "stream",
          "name": "stdout",
          "text": [
            "    ID       Yas      Maas  Calisma_Saati  Deneyim_Seviyesi  Departman_IT  \\\n",
            "0    1 -1.145793  0.000000       0.166667               0.0             1   \n",
            "1    2  0.184805  0.025847       0.375000               1.0             0   \n",
            "2    3  1.293637  0.038770       0.583333               2.0             1   \n",
            "3    4 -0.702260  0.012923       0.125000               1.0             0   \n",
            "4    5 -0.258727  0.020677       0.250000               0.0             0   \n",
            "5    6 -0.258727  0.018093       0.041667               1.0             0   \n",
            "6    7 -0.480494  0.025847       0.375000               2.0             1   \n",
            "7    8  0.960988  0.031016       1.000000               2.0             1   \n",
            "9   10  0.073922  0.542777       0.791667               2.0             0   \n",
            "10  11 -0.591377  0.015508       0.458333               1.0             1   \n",
            "11  12 -0.369611  0.023262       0.166667               1.0             0   \n",
            "12  13 -0.924027  1.000000       0.208333               0.0             0   \n",
            "13  14  1.293637  0.007754       0.125000               2.0             0   \n",
            "14  15 -0.258727  0.000000       0.791667               0.0             1   \n",
            "15  16 -0.147844  0.018093       0.000000               1.0             0   \n",
            "16  17  2.956885  0.041354       1.000000               2.0             1   \n",
            "17  18 -0.924027  0.020677       0.333333               0.0             0   \n",
            "18  19 -0.702260  0.012923       0.375000               1.0             1   \n",
            "\n",
            "    Departman_Muhasebe  Departman_Pazarlama  Cinsiyet_Bilinmeyen  \\\n",
            "0                    0                    0                    0   \n",
            "1                    1                    0                    0   \n",
            "2                    0                    0                    0   \n",
            "3                    0                    1                    0   \n",
            "4                    1                    0                    0   \n",
            "5                    0                    1                    0   \n",
            "6                    0                    0                    0   \n",
            "7                    0                    0                    0   \n",
            "9                    0                    1                    0   \n",
            "10                   0                    0                    0   \n",
            "11                   1                    0                    0   \n",
            "12                   0                    1                    1   \n",
            "13                   0                    1                    0   \n",
            "14                   0                    0                    1   \n",
            "15                   1                    0                    1   \n",
            "16                   0                    0                    1   \n",
            "17                   0                    1                    0   \n",
            "18                   0                    0                    0   \n",
            "\n",
            "    Cinsiyet_Erkek  Cinsiyet_Kadın Yas_Kategorisi  Yeni_Maas  \n",
            "0                0               1           Genç   0.000000  \n",
            "1                1               0           Orta   0.028431  \n",
            "2                1               0          Yaşlı   0.042647  \n",
            "3                0               1           Genç   0.014216  \n",
            "4                0               1           Orta   0.022745  \n",
            "5                1               0           Orta   0.019902  \n",
            "6                1               0           Orta   0.028431  \n",
            "7                0               1          Yaşlı   0.034117  \n",
            "9                0               1           Orta   0.597055  \n",
            "10               1               0           Genç   0.017059  \n",
            "11               0               1           Orta   0.025588  \n",
            "12               0               0           Genç   1.100000  \n",
            "13               1               0          Yaşlı   0.008529  \n",
            "14               0               0           Orta   0.000000  \n",
            "15               0               0           Orta   0.019902  \n",
            "16               0               0          Yaşlı   0.045490  \n",
            "17               0               1           Genç   0.022745  \n",
            "18               1               0           Genç   0.014216  \n"
          ]
        }
      ]
    },
    {
      "cell_type": "code",
      "source": [
        "pivot_df = df.pivot_table(\n",
        "    values=['Calisma_Saati', 'Maas'],\n",
        "    index=['Departman_IT', 'Departman_Muhasebe', 'Departman_Pazarlama'],\n",
        "    aggfunc={'Calisma_Saati': 'sum', 'Maas': 'mean'}\n",
        ")\n",
        "\n",
        "\n",
        "print(pivot_df)"
      ],
      "metadata": {
        "colab": {
          "base_uri": "https://localhost:8080/"
        },
        "id": "mR9JDW9bz73G",
        "outputId": "6bbd409b-a497-4c2c-9e3d-b3846a188ed8"
      },
      "execution_count": 45,
      "outputs": [
        {
          "output_type": "stream",
          "name": "stdout",
          "text": [
            "                                                     Calisma_Saati      Maas\n",
            "Departman_IT Departman_Muhasebe Departman_Pazarlama                         \n",
            "0            0                  1                         1.625000  0.267037\n",
            "             1                  0                         0.791667  0.021970\n",
            "1            0                  0                         4.750000  0.020677\n"
          ]
        }
      ]
    },
    {
      "cell_type": "code",
      "source": [
        "melted_df = df.melt(\n",
        "    id_vars=['ID', 'Deneyim_Seviyesi'],\n",
        "    value_vars=['Yas', 'Maas', 'Calisma_Saati'],\n",
        "    var_name='Özellik',\n",
        "    value_name='Değer'\n",
        ")\n",
        "\n",
        "print(melted_df)"
      ],
      "metadata": {
        "colab": {
          "base_uri": "https://localhost:8080/"
        },
        "id": "r2zYlgXS0CpE",
        "outputId": "cf81fc9b-5841-4c0c-9aec-56944e73963b"
      },
      "execution_count": 46,
      "outputs": [
        {
          "output_type": "stream",
          "name": "stdout",
          "text": [
            "    ID  Deneyim_Seviyesi        Özellik     Değer\n",
            "0    1               0.0            Yas -1.145793\n",
            "1    2               1.0            Yas  0.184805\n",
            "2    3               2.0            Yas  1.293637\n",
            "3    4               1.0            Yas -0.702260\n",
            "4    5               0.0            Yas -0.258727\n",
            "5    6               1.0            Yas -0.258727\n",
            "6    7               2.0            Yas -0.480494\n",
            "7    8               2.0            Yas  0.960988\n",
            "8   10               2.0            Yas  0.073922\n",
            "9   11               1.0            Yas -0.591377\n",
            "10  12               1.0            Yas -0.369611\n",
            "11  13               0.0            Yas -0.924027\n",
            "12  14               2.0            Yas  1.293637\n",
            "13  15               0.0            Yas -0.258727\n",
            "14  16               1.0            Yas -0.147844\n",
            "15  17               2.0            Yas  2.956885\n",
            "16  18               0.0            Yas -0.924027\n",
            "17  19               1.0            Yas -0.702260\n",
            "18   1               0.0           Maas  0.000000\n",
            "19   2               1.0           Maas  0.025847\n",
            "20   3               2.0           Maas  0.038770\n",
            "21   4               1.0           Maas  0.012923\n",
            "22   5               0.0           Maas  0.020677\n",
            "23   6               1.0           Maas  0.018093\n",
            "24   7               2.0           Maas  0.025847\n",
            "25   8               2.0           Maas  0.031016\n",
            "26  10               2.0           Maas  0.542777\n",
            "27  11               1.0           Maas  0.015508\n",
            "28  12               1.0           Maas  0.023262\n",
            "29  13               0.0           Maas  1.000000\n",
            "30  14               2.0           Maas  0.007754\n",
            "31  15               0.0           Maas  0.000000\n",
            "32  16               1.0           Maas  0.018093\n",
            "33  17               2.0           Maas  0.041354\n",
            "34  18               0.0           Maas  0.020677\n",
            "35  19               1.0           Maas  0.012923\n",
            "36   1               0.0  Calisma_Saati  0.166667\n",
            "37   2               1.0  Calisma_Saati  0.375000\n",
            "38   3               2.0  Calisma_Saati  0.583333\n",
            "39   4               1.0  Calisma_Saati  0.125000\n",
            "40   5               0.0  Calisma_Saati  0.250000\n",
            "41   6               1.0  Calisma_Saati  0.041667\n",
            "42   7               2.0  Calisma_Saati  0.375000\n",
            "43   8               2.0  Calisma_Saati  1.000000\n",
            "44  10               2.0  Calisma_Saati  0.791667\n",
            "45  11               1.0  Calisma_Saati  0.458333\n",
            "46  12               1.0  Calisma_Saati  0.166667\n",
            "47  13               0.0  Calisma_Saati  0.208333\n",
            "48  14               2.0  Calisma_Saati  0.125000\n",
            "49  15               0.0  Calisma_Saati  0.791667\n",
            "50  16               1.0  Calisma_Saati  0.000000\n",
            "51  17               2.0  Calisma_Saati  1.000000\n",
            "52  18               0.0  Calisma_Saati  0.333333\n",
            "53  19               1.0  Calisma_Saati  0.375000\n"
          ]
        }
      ]
    },
    {
      "cell_type": "code",
      "source": [
        "genc_calisanlar = df[df['Yas_Kategorisi'] == 'Genç']\n",
        "print(\"Genç Çalışanlar:\")\n",
        "print(genc_calisanlar)"
      ],
      "metadata": {
        "colab": {
          "base_uri": "https://localhost:8080/"
        },
        "id": "aLgNY4Yi0F58",
        "outputId": "2b5b86c6-fb63-4fbb-b0ab-80e494f19079"
      },
      "execution_count": 47,
      "outputs": [
        {
          "output_type": "stream",
          "name": "stdout",
          "text": [
            "Genç Çalışanlar:\n",
            "    ID       Yas      Maas  Calisma_Saati  Deneyim_Seviyesi  Departman_IT  \\\n",
            "0    1 -1.145793  0.000000       0.166667               0.0             1   \n",
            "3    4 -0.702260  0.012923       0.125000               1.0             0   \n",
            "10  11 -0.591377  0.015508       0.458333               1.0             1   \n",
            "12  13 -0.924027  1.000000       0.208333               0.0             0   \n",
            "17  18 -0.924027  0.020677       0.333333               0.0             0   \n",
            "18  19 -0.702260  0.012923       0.375000               1.0             1   \n",
            "\n",
            "    Departman_Muhasebe  Departman_Pazarlama  Cinsiyet_Bilinmeyen  \\\n",
            "0                    0                    0                    0   \n",
            "3                    0                    1                    0   \n",
            "10                   0                    0                    0   \n",
            "12                   0                    1                    1   \n",
            "17                   0                    1                    0   \n",
            "18                   0                    0                    0   \n",
            "\n",
            "    Cinsiyet_Erkek  Cinsiyet_Kadın Yas_Kategorisi  Yeni_Maas  \n",
            "0                0               1           Genç   0.000000  \n",
            "3                0               1           Genç   0.014216  \n",
            "10               1               0           Genç   0.017059  \n",
            "12               0               0           Genç   1.100000  \n",
            "17               0               1           Genç   0.022745  \n",
            "18               1               0           Genç   0.014216  \n"
          ]
        }
      ]
    },
    {
      "cell_type": "code",
      "source": [
        "it_departmani = df[df['Departman_IT'] == 1]\n",
        "print(\"\\nIT Departmanındaki Çalışanlar:\")\n",
        "print(it_departmani)\n"
      ],
      "metadata": {
        "colab": {
          "base_uri": "https://localhost:8080/"
        },
        "id": "MwbEiW8N0Iz-",
        "outputId": "55464dbf-0268-4325-e6ad-19478b6f07fc"
      },
      "execution_count": 48,
      "outputs": [
        {
          "output_type": "stream",
          "name": "stdout",
          "text": [
            "\n",
            "IT Departmanındaki Çalışanlar:\n",
            "    ID       Yas      Maas  Calisma_Saati  Deneyim_Seviyesi  Departman_IT  \\\n",
            "0    1 -1.145793  0.000000       0.166667               0.0             1   \n",
            "2    3  1.293637  0.038770       0.583333               2.0             1   \n",
            "6    7 -0.480494  0.025847       0.375000               2.0             1   \n",
            "7    8  0.960988  0.031016       1.000000               2.0             1   \n",
            "10  11 -0.591377  0.015508       0.458333               1.0             1   \n",
            "14  15 -0.258727  0.000000       0.791667               0.0             1   \n",
            "16  17  2.956885  0.041354       1.000000               2.0             1   \n",
            "18  19 -0.702260  0.012923       0.375000               1.0             1   \n",
            "\n",
            "    Departman_Muhasebe  Departman_Pazarlama  Cinsiyet_Bilinmeyen  \\\n",
            "0                    0                    0                    0   \n",
            "2                    0                    0                    0   \n",
            "6                    0                    0                    0   \n",
            "7                    0                    0                    0   \n",
            "10                   0                    0                    0   \n",
            "14                   0                    0                    1   \n",
            "16                   0                    0                    1   \n",
            "18                   0                    0                    0   \n",
            "\n",
            "    Cinsiyet_Erkek  Cinsiyet_Kadın Yas_Kategorisi  Yeni_Maas  \n",
            "0                0               1           Genç   0.000000  \n",
            "2                1               0          Yaşlı   0.042647  \n",
            "6                1               0           Orta   0.028431  \n",
            "7                0               1          Yaşlı   0.034117  \n",
            "10               1               0           Genç   0.017059  \n",
            "14               0               0           Orta   0.000000  \n",
            "16               0               0          Yaşlı   0.045490  \n",
            "18               1               0           Genç   0.014216  \n"
          ]
        }
      ]
    },
    {
      "cell_type": "code",
      "source": [
        "secilen_sutunlar = df[['ID', 'Maas', 'Yas_Kategorisi']]\n",
        "print(\"\\nSeçilen Sütunlar (ID, Maas, Yas_Kategorisi):\")\n",
        "print(secilen_sutunlar)"
      ],
      "metadata": {
        "colab": {
          "base_uri": "https://localhost:8080/"
        },
        "id": "8z7CR0SH0LRz",
        "outputId": "1af7e873-ea7a-443a-e660-6b0b7091b8b5"
      },
      "execution_count": 49,
      "outputs": [
        {
          "output_type": "stream",
          "name": "stdout",
          "text": [
            "\n",
            "Seçilen Sütunlar (ID, Maas, Yas_Kategorisi):\n",
            "    ID      Maas Yas_Kategorisi\n",
            "0    1  0.000000           Genç\n",
            "1    2  0.025847           Orta\n",
            "2    3  0.038770          Yaşlı\n",
            "3    4  0.012923           Genç\n",
            "4    5  0.020677           Orta\n",
            "5    6  0.018093           Orta\n",
            "6    7  0.025847           Orta\n",
            "7    8  0.031016          Yaşlı\n",
            "9   10  0.542777           Orta\n",
            "10  11  0.015508           Genç\n",
            "11  12  0.023262           Orta\n",
            "12  13  1.000000           Genç\n",
            "13  14  0.007754          Yaşlı\n",
            "14  15  0.000000           Orta\n",
            "15  16  0.018093           Orta\n",
            "16  17  0.041354          Yaşlı\n",
            "17  18  0.020677           Genç\n",
            "18  19  0.012923           Genç\n"
          ]
        }
      ]
    },
    {
      "cell_type": "code",
      "source": [
        "ilk_bes_satir = df.iloc[:5]\n",
        "print(\"\\nİlk 5 Satır:\")\n",
        "print(ilk_bes_satir)"
      ],
      "metadata": {
        "colab": {
          "base_uri": "https://localhost:8080/"
        },
        "id": "7gs06qub0Nl0",
        "outputId": "4755814c-eb3d-4a51-afd9-1caaa6fb753b"
      },
      "execution_count": 50,
      "outputs": [
        {
          "output_type": "stream",
          "name": "stdout",
          "text": [
            "\n",
            "İlk 5 Satır:\n",
            "  ID       Yas      Maas  Calisma_Saati  Deneyim_Seviyesi  Departman_IT  \\\n",
            "0  1 -1.145793  0.000000       0.166667               0.0             1   \n",
            "1  2  0.184805  0.025847       0.375000               1.0             0   \n",
            "2  3  1.293637  0.038770       0.583333               2.0             1   \n",
            "3  4 -0.702260  0.012923       0.125000               1.0             0   \n",
            "4  5 -0.258727  0.020677       0.250000               0.0             0   \n",
            "\n",
            "   Departman_Muhasebe  Departman_Pazarlama  Cinsiyet_Bilinmeyen  \\\n",
            "0                   0                    0                    0   \n",
            "1                   1                    0                    0   \n",
            "2                   0                    0                    0   \n",
            "3                   0                    1                    0   \n",
            "4                   1                    0                    0   \n",
            "\n",
            "   Cinsiyet_Erkek  Cinsiyet_Kadın Yas_Kategorisi  Yeni_Maas  \n",
            "0               0               1           Genç   0.000000  \n",
            "1               1               0           Orta   0.028431  \n",
            "2               1               0          Yaşlı   0.042647  \n",
            "3               0               1           Genç   0.014216  \n",
            "4               0               1           Orta   0.022745  \n"
          ]
        }
      ]
    },
    {
      "cell_type": "code",
      "source": [
        "genc_it_calisanlari = df[(df['Yas_Kategorisi'] == 'Genç') & (df['Departman_IT'] == 1)]\n",
        "print(\"\\nGenç ve IT Departmanındaki Çalışanlar:\")\n",
        "print(genc_it_calisanlari)"
      ],
      "metadata": {
        "colab": {
          "base_uri": "https://localhost:8080/"
        },
        "id": "pChPbxlK0QSP",
        "outputId": "527b2e99-311e-4a50-8e3e-652f690601d8"
      },
      "execution_count": 51,
      "outputs": [
        {
          "output_type": "stream",
          "name": "stdout",
          "text": [
            "\n",
            "Genç ve IT Departmanındaki Çalışanlar:\n",
            "    ID       Yas      Maas  Calisma_Saati  Deneyim_Seviyesi  Departman_IT  \\\n",
            "0    1 -1.145793  0.000000       0.166667               0.0             1   \n",
            "10  11 -0.591377  0.015508       0.458333               1.0             1   \n",
            "18  19 -0.702260  0.012923       0.375000               1.0             1   \n",
            "\n",
            "    Departman_Muhasebe  Departman_Pazarlama  Cinsiyet_Bilinmeyen  \\\n",
            "0                    0                    0                    0   \n",
            "10                   0                    0                    0   \n",
            "18                   0                    0                    0   \n",
            "\n",
            "    Cinsiyet_Erkek  Cinsiyet_Kadın Yas_Kategorisi  Yeni_Maas  \n",
            "0                0               1           Genç   0.000000  \n",
            "10               1               0           Genç   0.017059  \n",
            "18               1               0           Genç   0.014216  \n"
          ]
        }
      ]
    },
    {
      "cell_type": "code",
      "source": [
        "yuksek_maas_veya_deneyimli = df[(df['Maas'] > 0.02) | (df['Deneyim_Seviyesi'] == 2)]\n",
        "print(\"\\nMaaşı 0.02'den Büyük Olan veya Deneyim Seviyesi 2 Olan Çalışanlar:\")\n",
        "print(yuksek_maas_veya_deneyimli)"
      ],
      "metadata": {
        "colab": {
          "base_uri": "https://localhost:8080/"
        },
        "id": "NzrDOXU40TfU",
        "outputId": "cf055332-e736-4988-f197-0fc6eb7d2ad5"
      },
      "execution_count": 52,
      "outputs": [
        {
          "output_type": "stream",
          "name": "stdout",
          "text": [
            "\n",
            "Maaşı 0.02'den Büyük Olan veya Deneyim Seviyesi 2 Olan Çalışanlar:\n",
            "    ID       Yas      Maas  Calisma_Saati  Deneyim_Seviyesi  Departman_IT  \\\n",
            "1    2  0.184805  0.025847       0.375000               1.0             0   \n",
            "2    3  1.293637  0.038770       0.583333               2.0             1   \n",
            "4    5 -0.258727  0.020677       0.250000               0.0             0   \n",
            "6    7 -0.480494  0.025847       0.375000               2.0             1   \n",
            "7    8  0.960988  0.031016       1.000000               2.0             1   \n",
            "9   10  0.073922  0.542777       0.791667               2.0             0   \n",
            "11  12 -0.369611  0.023262       0.166667               1.0             0   \n",
            "12  13 -0.924027  1.000000       0.208333               0.0             0   \n",
            "13  14  1.293637  0.007754       0.125000               2.0             0   \n",
            "16  17  2.956885  0.041354       1.000000               2.0             1   \n",
            "17  18 -0.924027  0.020677       0.333333               0.0             0   \n",
            "\n",
            "    Departman_Muhasebe  Departman_Pazarlama  Cinsiyet_Bilinmeyen  \\\n",
            "1                    1                    0                    0   \n",
            "2                    0                    0                    0   \n",
            "4                    1                    0                    0   \n",
            "6                    0                    0                    0   \n",
            "7                    0                    0                    0   \n",
            "9                    0                    1                    0   \n",
            "11                   1                    0                    0   \n",
            "12                   0                    1                    1   \n",
            "13                   0                    1                    0   \n",
            "16                   0                    0                    1   \n",
            "17                   0                    1                    0   \n",
            "\n",
            "    Cinsiyet_Erkek  Cinsiyet_Kadın Yas_Kategorisi  Yeni_Maas  \n",
            "1                1               0           Orta   0.028431  \n",
            "2                1               0          Yaşlı   0.042647  \n",
            "4                0               1           Orta   0.022745  \n",
            "6                1               0           Orta   0.028431  \n",
            "7                0               1          Yaşlı   0.034117  \n",
            "9                0               1           Orta   0.597055  \n",
            "11               0               1           Orta   0.025588  \n",
            "12               0               0           Genç   1.100000  \n",
            "13               1               0          Yaşlı   0.008529  \n",
            "16               0               0          Yaşlı   0.045490  \n",
            "17               0               1           Genç   0.022745  \n"
          ]
        }
      ]
    },
    {
      "cell_type": "code",
      "source": [
        "import pandas as pd\n",
        "\n",
        "data_yeni = {\n",
        "    'ID': ['30', '31', '32'],\n",
        "    'Yas': [0.125, -1.215, 1.345],\n",
        "    'Maas': [0.045, 0.030, 0.060],\n",
        "    'Calisma_Saati': [0.5, 0.4, 0.6],\n",
        "    'Deneyim_Seviyesi': [1, 2, 0],\n",
        "    'Departman_IT': [1, 0, 0],\n",
        "    'Departman_Muhasebe': [0, 1, 0],\n",
        "    'Departman_Pazarlama': [0, 0, 1],\n",
        "    'Cinsiyet_Bilinmeyen': [0, 0, 0],\n",
        "    'Cinsiyet_Erkek': [1, 0, 0],\n",
        "    'Cinsiyet_Kadın': [0, 1, 1],\n",
        "    'Yas_Kategorisi': ['Yaşlı','Yaşlı','Yaşlı'],\n",
        "    'Yeni_Maas':[0.99, 0.98, 0.97]\n",
        "}\n",
        "\n",
        "df_yeni = pd.DataFrame(data_yeni)\n",
        "\n",
        "df_birlesik = pd.concat([df, df_yeni], axis=0)\n",
        "print(\"Birleştirilmiş DataFrame (Concat):\")\n",
        "print(df_birlesik)\n"
      ],
      "metadata": {
        "colab": {
          "base_uri": "https://localhost:8080/"
        },
        "id": "CNFgKtuc0Wep",
        "outputId": "c22723c6-835f-4fe9-9bc8-876874972ae9"
      },
      "execution_count": 53,
      "outputs": [
        {
          "output_type": "stream",
          "name": "stdout",
          "text": [
            "Birleştirilmiş DataFrame (Concat):\n",
            "    ID       Yas      Maas  Calisma_Saati  Deneyim_Seviyesi  Departman_IT  \\\n",
            "0    1 -1.145793  0.000000       0.166667               0.0             1   \n",
            "1    2  0.184805  0.025847       0.375000               1.0             0   \n",
            "2    3  1.293637  0.038770       0.583333               2.0             1   \n",
            "3    4 -0.702260  0.012923       0.125000               1.0             0   \n",
            "4    5 -0.258727  0.020677       0.250000               0.0             0   \n",
            "5    6 -0.258727  0.018093       0.041667               1.0             0   \n",
            "6    7 -0.480494  0.025847       0.375000               2.0             1   \n",
            "7    8  0.960988  0.031016       1.000000               2.0             1   \n",
            "9   10  0.073922  0.542777       0.791667               2.0             0   \n",
            "10  11 -0.591377  0.015508       0.458333               1.0             1   \n",
            "11  12 -0.369611  0.023262       0.166667               1.0             0   \n",
            "12  13 -0.924027  1.000000       0.208333               0.0             0   \n",
            "13  14  1.293637  0.007754       0.125000               2.0             0   \n",
            "14  15 -0.258727  0.000000       0.791667               0.0             1   \n",
            "15  16 -0.147844  0.018093       0.000000               1.0             0   \n",
            "16  17  2.956885  0.041354       1.000000               2.0             1   \n",
            "17  18 -0.924027  0.020677       0.333333               0.0             0   \n",
            "18  19 -0.702260  0.012923       0.375000               1.0             1   \n",
            "0   30  0.125000  0.045000       0.500000               1.0             1   \n",
            "1   31 -1.215000  0.030000       0.400000               2.0             0   \n",
            "2   32  1.345000  0.060000       0.600000               0.0             0   \n",
            "\n",
            "    Departman_Muhasebe  Departman_Pazarlama  Cinsiyet_Bilinmeyen  \\\n",
            "0                    0                    0                    0   \n",
            "1                    1                    0                    0   \n",
            "2                    0                    0                    0   \n",
            "3                    0                    1                    0   \n",
            "4                    1                    0                    0   \n",
            "5                    0                    1                    0   \n",
            "6                    0                    0                    0   \n",
            "7                    0                    0                    0   \n",
            "9                    0                    1                    0   \n",
            "10                   0                    0                    0   \n",
            "11                   1                    0                    0   \n",
            "12                   0                    1                    1   \n",
            "13                   0                    1                    0   \n",
            "14                   0                    0                    1   \n",
            "15                   1                    0                    1   \n",
            "16                   0                    0                    1   \n",
            "17                   0                    1                    0   \n",
            "18                   0                    0                    0   \n",
            "0                    0                    0                    0   \n",
            "1                    1                    0                    0   \n",
            "2                    0                    1                    0   \n",
            "\n",
            "    Cinsiyet_Erkek  Cinsiyet_Kadın Yas_Kategorisi  Yeni_Maas  \n",
            "0                0               1           Genç   0.000000  \n",
            "1                1               0           Orta   0.028431  \n",
            "2                1               0          Yaşlı   0.042647  \n",
            "3                0               1           Genç   0.014216  \n",
            "4                0               1           Orta   0.022745  \n",
            "5                1               0           Orta   0.019902  \n",
            "6                1               0           Orta   0.028431  \n",
            "7                0               1          Yaşlı   0.034117  \n",
            "9                0               1           Orta   0.597055  \n",
            "10               1               0           Genç   0.017059  \n",
            "11               0               1           Orta   0.025588  \n",
            "12               0               0           Genç   1.100000  \n",
            "13               1               0          Yaşlı   0.008529  \n",
            "14               0               0           Orta   0.000000  \n",
            "15               0               0           Orta   0.019902  \n",
            "16               0               0          Yaşlı   0.045490  \n",
            "17               0               1           Genç   0.022745  \n",
            "18               1               0           Genç   0.014216  \n",
            "0                1               0          Yaşlı   0.990000  \n",
            "1                0               1          Yaşlı   0.980000  \n",
            "2                0               1          Yaşlı   0.970000  \n"
          ]
        }
      ]
    },
    {
      "cell_type": "code",
      "source": [
        "data_ekstra = {\n",
        "    'ID': ['1', '3', '5', '22'],\n",
        "    'Prim': [500, 700, 600, 800]\n",
        "}\n",
        "\n",
        "df_ekstra = pd.DataFrame(data_ekstra)\n",
        "\n",
        "df_merge = pd.merge(df, df_ekstra, on='ID', how='inner')\n",
        "print(\"\\nMerge ile Birleştirilmiş DataFrame (İç Birleştirme):\")\n",
        "print(df_merge)"
      ],
      "metadata": {
        "colab": {
          "base_uri": "https://localhost:8080/"
        },
        "id": "0nvuR_v70ar_",
        "outputId": "111e4803-32ff-4193-f12e-459755d4fdbe"
      },
      "execution_count": 54,
      "outputs": [
        {
          "output_type": "stream",
          "name": "stdout",
          "text": [
            "\n",
            "Merge ile Birleştirilmiş DataFrame (İç Birleştirme):\n",
            "Empty DataFrame\n",
            "Columns: [ID, Yas, Maas, Calisma_Saati, Deneyim_Seviyesi, Departman_IT, Departman_Muhasebe, Departman_Pazarlama, Cinsiyet_Bilinmeyen, Cinsiyet_Erkek, Cinsiyet_Kadın, Yas_Kategorisi, Yeni_Maas, Prim]\n",
            "Index: []\n"
          ]
        }
      ]
    },
    {
      "cell_type": "code",
      "source": [
        "grup_maas = df.groupby('Departman_IT')['Maas'].sum()\n",
        "print(\"\\nDepartman IT'ye Göre Toplam Maaş:\")\n",
        "print(grup_maas)\n"
      ],
      "metadata": {
        "colab": {
          "base_uri": "https://localhost:8080/"
        },
        "id": "XbygDubs0g_1",
        "outputId": "fa238f07-2951-4927-b948-85b1e1c7261f"
      },
      "execution_count": 55,
      "outputs": [
        {
          "output_type": "stream",
          "name": "stdout",
          "text": [
            "\n",
            "Departman IT'ye Göre Toplam Maaş:\n",
            "Departman_IT\n",
            "0    1.690103\n",
            "1    0.165418\n",
            "Name: Maas, dtype: float64\n"
          ]
        }
      ]
    },
    {
      "cell_type": "code",
      "source": [
        "grup_ortalama = df.groupby(['Cinsiyet_Erkek', 'Departman_IT'])['Maas'].mean()\n",
        "print(\"\\nCinsiyet ve IT Departmanına Göre Ortalama Maaş:\")\n",
        "print(grup_ortalama)"
      ],
      "metadata": {
        "colab": {
          "base_uri": "https://localhost:8080/"
        },
        "id": "Vef-8v-N0jdy",
        "outputId": "ef409361-d5d9-403a-9353-1089c71f5733"
      },
      "execution_count": 56,
      "outputs": [
        {
          "output_type": "stream",
          "name": "stdout",
          "text": [
            "\n",
            "Cinsiyet ve IT Departmanına Göre Ortalama Maaş:\n",
            "Cinsiyet_Erkek  Departman_IT\n",
            "0               0               0.234059\n",
            "                1               0.018093\n",
            "1               0               0.017231\n",
            "                1               0.023262\n",
            "Name: Maas, dtype: float64\n"
          ]
        }
      ]
    },
    {
      "cell_type": "code",
      "source": [
        "df_ozet = df.groupby('Departman_IT')['Maas'].agg(['sum', 'mean', 'count'])\n",
        "print(\"\\nDepartman IT'ye Göre Maaş Özeti (Toplam, Ortalama, Sayı):\")\n",
        "print(df_ozet)"
      ],
      "metadata": {
        "colab": {
          "base_uri": "https://localhost:8080/"
        },
        "id": "eP4fbQwS0l9F",
        "outputId": "6cb2759d-302f-4e4d-e8fc-fd5e8eb5c5c3"
      },
      "execution_count": 57,
      "outputs": [
        {
          "output_type": "stream",
          "name": "stdout",
          "text": [
            "\n",
            "Departman IT'ye Göre Maaş Özeti (Toplam, Ortalama, Sayı):\n",
            "                   sum      mean  count\n",
            "Departman_IT                           \n",
            "0             1.690103  0.169010     10\n",
            "1             0.165418  0.020677      8\n"
          ]
        }
      ]
    },
    {
      "cell_type": "code",
      "source": [
        "import pandas as pd\n",
        "\n",
        "data2 = {\n",
        "    'ID': ['1', '2', '3', '4'],\n",
        "    'Yas': [25, 45, 65, 30],\n",
        "    'Maas': [4000, 8000, 12000, 5000],\n",
        "    'Deneyim_Yili': [2, 10, 25, 5],\n",
        "    'Cinsiyet': ['Kadın', 'Erkek', 'Erkek', 'Kadın']\n",
        "}\n",
        "\n",
        "df2 = pd.DataFrame(data2)\n",
        "\n",
        "print(df2)"
      ],
      "metadata": {
        "colab": {
          "base_uri": "https://localhost:8080/"
        },
        "id": "nX_0WINk0oPX",
        "outputId": "abd038dd-468e-43fc-f0e1-a89320b41423"
      },
      "execution_count": 58,
      "outputs": [
        {
          "output_type": "stream",
          "name": "stdout",
          "text": [
            "  ID  Yas   Maas  Deneyim_Yili Cinsiyet\n",
            "0  1   25   4000             2    Kadın\n",
            "1  2   45   8000            10    Erkek\n",
            "2  3   65  12000            25    Erkek\n",
            "3  4   30   5000             5    Kadın\n"
          ]
        }
      ]
    },
    {
      "cell_type": "code",
      "source": [
        "df2['Yillik_Maas'] = df2['Maas'] * 12\n",
        "\n",
        "print(df2)"
      ],
      "metadata": {
        "colab": {
          "base_uri": "https://localhost:8080/"
        },
        "id": "ILKDS1xY0rJ3",
        "outputId": "1cff2b9d-6519-481b-d7e4-822d8769b733"
      },
      "execution_count": 59,
      "outputs": [
        {
          "output_type": "stream",
          "name": "stdout",
          "text": [
            "  ID  Yas   Maas  Deneyim_Yili Cinsiyet  Yillik_Maas\n",
            "0  1   25   4000             2    Kadın        48000\n",
            "1  2   45   8000            10    Erkek        96000\n",
            "2  3   65  12000            25    Erkek       144000\n",
            "3  4   30   5000             5    Kadın        60000\n"
          ]
        }
      ]
    },
    {
      "cell_type": "code",
      "source": [
        "df2['Kidem_Skoru'] = df2['Deneyim_Yili'].apply(lambda x: 'Yüksek' if x > 15 else ('Orta' if x > 5 else 'Düşük'))\n",
        "print(df2)"
      ],
      "metadata": {
        "colab": {
          "base_uri": "https://localhost:8080/"
        },
        "id": "-1u7qZCK0tkQ",
        "outputId": "8de460b0-8982-40a3-e984-4431d5a8b85f"
      },
      "execution_count": 61,
      "outputs": [
        {
          "output_type": "stream",
          "name": "stdout",
          "text": [
            "  ID  Yas   Maas  Deneyim_Yili Cinsiyet  Yillik_Maas Kidem_Skoru\n",
            "0  1   25   4000             2    Kadın        48000       Düşük\n",
            "1  2   45   8000            10    Erkek        96000        Orta\n",
            "2  3   65  12000            25    Erkek       144000      Yüksek\n",
            "3  4   30   5000             5    Kadın        60000       Düşük\n"
          ]
        }
      ]
    },
    {
      "cell_type": "code",
      "source": [
        "df2['Kimlik_Bilgisi'] = df2.apply(lambda row: f\"ID:{row['ID']} - Cinsiyet:{row['Cinsiyet']}\", axis=1)\n",
        "\n",
        "print(df2)"
      ],
      "metadata": {
        "colab": {
          "base_uri": "https://localhost:8080/"
        },
        "id": "wmfntdDL0vtH",
        "outputId": "d310a25a-6bb4-43db-811b-1941ba699d12"
      },
      "execution_count": 62,
      "outputs": [
        {
          "output_type": "stream",
          "name": "stdout",
          "text": [
            "  ID  Yas   Maas  Deneyim_Yili Cinsiyet  Yillik_Maas Kidem_Skoru  \\\n",
            "0  1   25   4000             2    Kadın        48000       Düşük   \n",
            "1  2   45   8000            10    Erkek        96000        Orta   \n",
            "2  3   65  12000            25    Erkek       144000      Yüksek   \n",
            "3  4   30   5000             5    Kadın        60000       Düşük   \n",
            "\n",
            "          Kimlik_Bilgisi  \n",
            "0  ID:1 - Cinsiyet:Kadın  \n",
            "1  ID:2 - Cinsiyet:Erkek  \n",
            "2  ID:3 - Cinsiyet:Erkek  \n",
            "3  ID:4 - Cinsiyet:Kadın  \n"
          ]
        }
      ]
    },
    {
      "cell_type": "code",
      "source": [
        "df2['Yas_Kategorisi'] = df2['Yas'].apply(lambda x: 'Genç' if x < 30 else ('Orta' if x < 50 else 'Yaşlı'))\n",
        "\n",
        "print(df2)"
      ],
      "metadata": {
        "id": "a_0qC_hT00Mo",
        "outputId": "db249cfa-ed1a-498f-96ac-ce530e6bccae",
        "colab": {
          "base_uri": "https://localhost:8080/"
        }
      },
      "execution_count": 63,
      "outputs": [
        {
          "output_type": "stream",
          "name": "stdout",
          "text": [
            "  ID  Yas   Maas  Deneyim_Yili Cinsiyet  Yillik_Maas Kidem_Skoru  \\\n",
            "0  1   25   4000             2    Kadın        48000       Düşük   \n",
            "1  2   45   8000            10    Erkek        96000        Orta   \n",
            "2  3   65  12000            25    Erkek       144000      Yüksek   \n",
            "3  4   30   5000             5    Kadın        60000       Düşük   \n",
            "\n",
            "          Kimlik_Bilgisi Yas_Kategorisi  \n",
            "0  ID:1 - Cinsiyet:Kadın           Genç  \n",
            "1  ID:2 - Cinsiyet:Erkek           Orta  \n",
            "2  ID:3 - Cinsiyet:Erkek          Yaşlı  \n",
            "3  ID:4 - Cinsiyet:Kadın           Orta  \n"
          ]
        }
      ]
    },
    {
      "cell_type": "code",
      "source": [],
      "metadata": {
        "id": "EcxRtKpe03ri"
      },
      "execution_count": null,
      "outputs": []
    }
  ]
}